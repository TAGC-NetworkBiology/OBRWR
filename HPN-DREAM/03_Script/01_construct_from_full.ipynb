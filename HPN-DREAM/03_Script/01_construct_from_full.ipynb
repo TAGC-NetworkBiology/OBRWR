{
 "cells": [
  {
   "cell_type": "markdown",
   "id": "28e189b2-b2fd-47df-b902-33210703365b",
   "metadata": {},
   "source": [
    "# Using pandas to construct the table for dysregulated proteins from core table for each cell line"
   ]
  },
  {
   "cell_type": "code",
   "execution_count": 3,
   "id": "d3faee9e-4553-4488-8918-6286d3fce32f",
   "metadata": {},
   "outputs": [],
   "source": [
    "import numpy as np\n",
    "import pandas as pd"
   ]
  },
  {
   "cell_type": "markdown",
   "id": "25610765-10f6-4057-bfb1-c9f6f46c8b40",
   "metadata": {},
   "source": [
    "<b>\n",
    "Constant definitions for the different values :\n",
    "    \n",
    "- inhibitors of some kinases\n",
    "- time points\n",
    "- stimuli\n",
    "</b>"
   ]
  },
  {
   "cell_type": "code",
   "execution_count": 40,
   "id": "fadb4d59-0dab-461f-acf6-20bb0bdf5aaa",
   "metadata": {},
   "outputs": [],
   "source": [
    "cell_lines = ['BT20','BT549','MCF7','UACC812']\n",
    "inhibitor_dict = {'AKTi' : 'GSK690693', 'FGFR1' : 'PD173074'}\n",
    "list_of_activators = ['EGF', 'FGF1', 'HGF', 'IGF1', 'INS', 'NRG1','PBS','Serum']\n",
    "DMSO = 'DMSO'\n",
    "T = ['0min', '5min', '15min', '30min', '60min', '2hr', '4hr']\n",
    "input_files_path = '../00_InputData/experimental/CSV/'"
   ]
  },
  {
   "cell_type": "code",
   "execution_count": 63,
   "id": "e1657855-b598-4bc3-a116-4019545a4f57",
   "metadata": {},
   "outputs": [],
   "source": [
    "def read_clean(cell_line):\n",
    "    df = pd.read_csv(input_files_path+cell_line+'_main.csv',skiprows=(2 if cell_line != 'UACC812' else 3))\n",
    "    df.columns = list(df.iloc[0,:])[:4] + list(df.columns[4:])\n",
    "    df = df.drop(0)\n",
    "    df = df.drop('Cell Line',axis=1)\n",
    "    df['Stimulus'] = df['Stimulus'].fillna('None')\n",
    "    df['Stimulus'] = df['Stimulus'].map(lambda x : ('INS' if x == 'Insulin' else x ))\n",
    "    return df"
   ]
  },
  {
   "cell_type": "code",
   "execution_count": 59,
   "id": "44f350be-f237-4ec3-8fcc-f23d5d67520e",
   "metadata": {},
   "outputs": [],
   "source": [
    "def get_map_antibody_genes(cell_line):\n",
    "    df = pd.read_csv(input_files_path+'BT20'+'_main.csv')\n",
    "    antibody_names = [el.upper() for el in list(df.iloc[0,:])[4:]]\n",
    "    gene_names = list(df.iloc[1,:])[4:]\n",
    "    return {ant:gene for ant,gene in zip(antibody_names,gene_names)}"
   ]
  },
  {
   "cell_type": "code",
   "execution_count": 60,
   "id": "9ecd1970-7cbb-4b78-82ce-98e9238ba260",
   "metadata": {},
   "outputs": [],
   "source": [
    "def from_col_to_row(df_tmp):\n",
    "    l = []\n",
    "    df_tmpc = pd.DataFrame(columns = df_tmp.columns)\n",
    "    for el in df_tmp.index:\n",
    "        splitDot = el.split('.')\n",
    "        for prot in splitDot:\n",
    "            splitProt = prot.split('_')\n",
    "            for site in splitProt[1:]:\n",
    "                if site[0] in ['p','P'] and (not site[1].isdigit()):\n",
    "                    l.append(splitProt[0]+'_'+site[1:])\n",
    "                    df_tmpc = pd.concat([df_tmpc,df_tmp.loc[[el]]])\n",
    "                elif (not site[0].isdigit()) and (site[0] != 'p'):\n",
    "                    l.append(splitProt[0]+'_'+site)\n",
    "                    df_tmpc = pd.concat([df_tmpc,df_tmp.loc[[el]]])\n",
    "    df_tmpc.index = l\n",
    "    return df_tmpc"
   ]
  },
  {
   "cell_type": "markdown",
   "id": "4d612e14-9d4a-4626-8eb7-1ad4afec2ace",
   "metadata": {},
   "source": [
    "## <b> Construct tables for the different cell lines and activators under DMSO</b>\n",
    "These tables will be used to call the differentially phosphorylated proteins using limma's t-test.\n",
    "\n",
    "And then build the networks using both OBRWR and PHONEMeS."
   ]
  },
  {
   "cell_type": "code",
   "execution_count": 64,
   "id": "6c45ef56-0c4c-4c56-b44e-712379c6f991",
   "metadata": {},
   "outputs": [],
   "source": [
    "for cell_line in cell_lines:\n",
    "    df = read_clean(cell_line)\n",
    "    df_control = df[(df['Inhibitor'] == DMSO) & (df['Timepoint'] == '0min')]\n",
    "    for activator in list_of_activators:\n",
    "        #Extracting DMSO vs Stimuli\n",
    "        df_act = df[(df['Inhibitor'] == DMSO) & (df['Stimulus'] == activator)]\n",
    "        df_tmp = pd.concat([df_control,df_act])\n",
    "        df_tmp = df_tmp.drop('Inhibitor',axis=1)\n",
    "        df_tmp['Stimulus'] = df_tmp['Stimulus'] + '.' + df_tmp['Timepoint']\n",
    "        df_tmp = df_tmp.drop('Timepoint',axis=1)\n",
    "        df_tmp.set_index('Stimulus',inplace=True)\n",
    "        df_tmp.index.name = None\n",
    "        df_tmp = df_tmp.transpose()\n",
    "        # Making the protein names match with PHONEMEs PKN IDs.\n",
    "        df_act = from_col_to_row(df_tmp)\n",
    "        df_act.to_csv('../00_InputData/stimuli/'+cell_line+'_'+activator+'.tsv',sep='\\t')"
   ]
  }
 ],
 "metadata": {
  "kernelspec": {
   "display_name": "Python 3 (ipykernel)",
   "language": "python",
   "name": "python3"
  },
  "language_info": {
   "codemirror_mode": {
    "name": "ipython",
    "version": 3
   },
   "file_extension": ".py",
   "mimetype": "text/x-python",
   "name": "python",
   "nbconvert_exporter": "python",
   "pygments_lexer": "ipython3",
   "version": "3.10.6"
  }
 },
 "nbformat": 4,
 "nbformat_minor": 5
}
