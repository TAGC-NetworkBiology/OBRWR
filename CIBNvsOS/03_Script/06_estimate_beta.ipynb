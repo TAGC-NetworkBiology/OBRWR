{
 "cells": [
  {
   "cell_type": "code",
   "execution_count": 116,
   "id": "aee41bff-9ed4-4070-957a-7ccd55d04200",
   "metadata": {},
   "outputs": [],
   "source": [
    "import pandas as pd\n",
    "import numpy as np\n",
    "import matplotlib.pyplot as plt"
   ]
  },
  {
   "cell_type": "code",
   "execution_count": 117,
   "id": "77fc6213-2516-4041-b787-f4e348e7b355",
   "metadata": {},
   "outputs": [
    {
     "data": {
      "text/html": [
       "<div>\n",
       "<style scoped>\n",
       "    .dataframe tbody tr th:only-of-type {\n",
       "        vertical-align: middle;\n",
       "    }\n",
       "\n",
       "    .dataframe tbody tr th {\n",
       "        vertical-align: top;\n",
       "    }\n",
       "\n",
       "    .dataframe thead th {\n",
       "        text-align: right;\n",
       "    }\n",
       "</style>\n",
       "<table border=\"1\" class=\"dataframe\">\n",
       "  <thead>\n",
       "    <tr style=\"text-align: right;\">\n",
       "      <th></th>\n",
       "      <th>Entry</th>\n",
       "      <th>Gene_Name</th>\n",
       "      <th>Intensity 3old-0-R1</th>\n",
       "      <th>Intensity 3old-0-R2</th>\n",
       "      <th>Intensity 3old-0-R3</th>\n",
       "      <th>Intensity 3old-5-R1</th>\n",
       "      <th>Intensity 3old-5-R2</th>\n",
       "      <th>Intensity 3old-5-R3</th>\n",
       "      <th>Intensity 3old-20-R1</th>\n",
       "      <th>Intensity 3old-20-R2</th>\n",
       "      <th>...</th>\n",
       "      <th>Intensity 4old-0-R3</th>\n",
       "      <th>Intensity 4old-5-R1</th>\n",
       "      <th>Intensity 4old-5-R2</th>\n",
       "      <th>Intensity 4old-5-R3</th>\n",
       "      <th>Intensity 4old-20-R1</th>\n",
       "      <th>Intensity 4old-20-R2</th>\n",
       "      <th>Intensity 4old-20-R3</th>\n",
       "      <th>A5 - A0</th>\n",
       "      <th>A20 - A0</th>\n",
       "      <th>A20 - A5</th>\n",
       "    </tr>\n",
       "  </thead>\n",
       "  <tbody>\n",
       "    <tr>\n",
       "      <th>0</th>\n",
       "      <td>optoSrc</td>\n",
       "      <td>NaN</td>\n",
       "      <td>24.845187</td>\n",
       "      <td>25.063744</td>\n",
       "      <td>24.719514</td>\n",
       "      <td>26.874403</td>\n",
       "      <td>26.858979</td>\n",
       "      <td>27.055007</td>\n",
       "      <td>27.731313</td>\n",
       "      <td>27.831856</td>\n",
       "      <td>...</td>\n",
       "      <td>24.505757</td>\n",
       "      <td>26.373647</td>\n",
       "      <td>26.226303</td>\n",
       "      <td>26.192030</td>\n",
       "      <td>26.917674</td>\n",
       "      <td>26.949752</td>\n",
       "      <td>27.156484</td>\n",
       "      <td>1</td>\n",
       "      <td>1</td>\n",
       "      <td>1</td>\n",
       "    </tr>\n",
       "    <tr>\n",
       "      <th>1</th>\n",
       "      <td>E2RFE1</td>\n",
       "      <td>NaN</td>\n",
       "      <td>23.159601</td>\n",
       "      <td>22.823696</td>\n",
       "      <td>22.706777</td>\n",
       "      <td>22.871346</td>\n",
       "      <td>22.776962</td>\n",
       "      <td>23.036993</td>\n",
       "      <td>23.131036</td>\n",
       "      <td>23.317296</td>\n",
       "      <td>...</td>\n",
       "      <td>23.805019</td>\n",
       "      <td>23.303657</td>\n",
       "      <td>23.191523</td>\n",
       "      <td>23.392577</td>\n",
       "      <td>23.206277</td>\n",
       "      <td>23.092375</td>\n",
       "      <td>22.943882</td>\n",
       "      <td>0</td>\n",
       "      <td>-1</td>\n",
       "      <td>0</td>\n",
       "    </tr>\n",
       "    <tr>\n",
       "      <th>2</th>\n",
       "      <td>J9P969</td>\n",
       "      <td>AHNAK</td>\n",
       "      <td>24.716251</td>\n",
       "      <td>24.782220</td>\n",
       "      <td>24.769965</td>\n",
       "      <td>25.055978</td>\n",
       "      <td>25.501265</td>\n",
       "      <td>25.603115</td>\n",
       "      <td>24.898200</td>\n",
       "      <td>24.737145</td>\n",
       "      <td>...</td>\n",
       "      <td>24.597106</td>\n",
       "      <td>25.481823</td>\n",
       "      <td>25.383310</td>\n",
       "      <td>25.414064</td>\n",
       "      <td>24.039937</td>\n",
       "      <td>24.656397</td>\n",
       "      <td>24.726940</td>\n",
       "      <td>0</td>\n",
       "      <td>0</td>\n",
       "      <td>-1</td>\n",
       "    </tr>\n",
       "    <tr>\n",
       "      <th>3</th>\n",
       "      <td>E2QXI3</td>\n",
       "      <td>AIMP1</td>\n",
       "      <td>22.490673</td>\n",
       "      <td>22.641305</td>\n",
       "      <td>22.263827</td>\n",
       "      <td>22.986857</td>\n",
       "      <td>23.186464</td>\n",
       "      <td>23.344409</td>\n",
       "      <td>23.387277</td>\n",
       "      <td>23.008314</td>\n",
       "      <td>...</td>\n",
       "      <td>22.444628</td>\n",
       "      <td>22.642645</td>\n",
       "      <td>22.654104</td>\n",
       "      <td>22.869157</td>\n",
       "      <td>23.238302</td>\n",
       "      <td>23.366169</td>\n",
       "      <td>23.479129</td>\n",
       "      <td>0</td>\n",
       "      <td>1</td>\n",
       "      <td>1</td>\n",
       "    </tr>\n",
       "    <tr>\n",
       "      <th>4</th>\n",
       "      <td>E2QVF9</td>\n",
       "      <td>AIMP2</td>\n",
       "      <td>21.962793</td>\n",
       "      <td>21.985355</td>\n",
       "      <td>21.710670</td>\n",
       "      <td>22.080910</td>\n",
       "      <td>22.135462</td>\n",
       "      <td>22.567953</td>\n",
       "      <td>22.683457</td>\n",
       "      <td>22.703199</td>\n",
       "      <td>...</td>\n",
       "      <td>21.644176</td>\n",
       "      <td>22.482424</td>\n",
       "      <td>22.315144</td>\n",
       "      <td>21.867828</td>\n",
       "      <td>22.545465</td>\n",
       "      <td>22.554504</td>\n",
       "      <td>22.949274</td>\n",
       "      <td>0</td>\n",
       "      <td>1</td>\n",
       "      <td>0</td>\n",
       "    </tr>\n",
       "  </tbody>\n",
       "</table>\n",
       "<p>5 rows × 23 columns</p>\n",
       "</div>"
      ],
      "text/plain": [
       "     Entry Gene_Name  Intensity 3old-0-R1  Intensity 3old-0-R2  \\\n",
       "0  optoSrc       NaN            24.845187            25.063744   \n",
       "1   E2RFE1       NaN            23.159601            22.823696   \n",
       "2   J9P969     AHNAK            24.716251            24.782220   \n",
       "3   E2QXI3     AIMP1            22.490673            22.641305   \n",
       "4   E2QVF9     AIMP2            21.962793            21.985355   \n",
       "\n",
       "   Intensity 3old-0-R3  Intensity 3old-5-R1  Intensity 3old-5-R2  \\\n",
       "0            24.719514            26.874403            26.858979   \n",
       "1            22.706777            22.871346            22.776962   \n",
       "2            24.769965            25.055978            25.501265   \n",
       "3            22.263827            22.986857            23.186464   \n",
       "4            21.710670            22.080910            22.135462   \n",
       "\n",
       "   Intensity 3old-5-R3  Intensity 3old-20-R1  Intensity 3old-20-R2  ...  \\\n",
       "0            27.055007             27.731313             27.831856  ...   \n",
       "1            23.036993             23.131036             23.317296  ...   \n",
       "2            25.603115             24.898200             24.737145  ...   \n",
       "3            23.344409             23.387277             23.008314  ...   \n",
       "4            22.567953             22.683457             22.703199  ...   \n",
       "\n",
       "   Intensity 4old-0-R3  Intensity 4old-5-R1  Intensity 4old-5-R2  \\\n",
       "0            24.505757            26.373647            26.226303   \n",
       "1            23.805019            23.303657            23.191523   \n",
       "2            24.597106            25.481823            25.383310   \n",
       "3            22.444628            22.642645            22.654104   \n",
       "4            21.644176            22.482424            22.315144   \n",
       "\n",
       "   Intensity 4old-5-R3  Intensity 4old-20-R1  Intensity 4old-20-R2  \\\n",
       "0            26.192030             26.917674             26.949752   \n",
       "1            23.392577             23.206277             23.092375   \n",
       "2            25.414064             24.039937             24.656397   \n",
       "3            22.869157             23.238302             23.366169   \n",
       "4            21.867828             22.545465             22.554504   \n",
       "\n",
       "   Intensity 4old-20-R3  A5 - A0  A20 - A0  A20 - A5  \n",
       "0             27.156484        1         1         1  \n",
       "1             22.943882        0        -1         0  \n",
       "2             24.726940        0         0        -1  \n",
       "3             23.479129        0         1         1  \n",
       "4             22.949274        0         1         0  \n",
       "\n",
       "[5 rows x 23 columns]"
      ]
     },
     "execution_count": 117,
     "metadata": {},
     "output_type": "execute_result"
    }
   ],
   "source": [
    "dfOS = pd.read_csv(\"../00_InputData/os_sensitive_OS.tsv\",sep='\\t')\n",
    "dfOS.head()"
   ]
  },
  {
   "cell_type": "code",
   "execution_count": 118,
   "id": "163cbacc-a726-4b0e-8090-82b6aae27b04",
   "metadata": {},
   "outputs": [
    {
     "data": {
      "text/html": [
       "<div>\n",
       "<style scoped>\n",
       "    .dataframe tbody tr th:only-of-type {\n",
       "        vertical-align: middle;\n",
       "    }\n",
       "\n",
       "    .dataframe tbody tr th {\n",
       "        vertical-align: top;\n",
       "    }\n",
       "\n",
       "    .dataframe thead th {\n",
       "        text-align: right;\n",
       "    }\n",
       "</style>\n",
       "<table border=\"1\" class=\"dataframe\">\n",
       "  <thead>\n",
       "    <tr style=\"text-align: right;\">\n",
       "      <th></th>\n",
       "      <th>Entry</th>\n",
       "      <th>Gene_Name</th>\n",
       "      <th>Intensity 3old-0-R1</th>\n",
       "      <th>Intensity 3old-0-R2</th>\n",
       "      <th>Intensity 3old-0-R3</th>\n",
       "      <th>Intensity 3old-5-R1</th>\n",
       "      <th>Intensity 3old-5-R2</th>\n",
       "      <th>Intensity 3old-5-R3</th>\n",
       "      <th>Intensity 3old-20-R1</th>\n",
       "      <th>Intensity 3old-20-R2</th>\n",
       "      <th>...</th>\n",
       "      <th>Intensity 4old-0-R3</th>\n",
       "      <th>Intensity 4old-5-R1</th>\n",
       "      <th>Intensity 4old-5-R2</th>\n",
       "      <th>Intensity 4old-5-R3</th>\n",
       "      <th>Intensity 4old-20-R1</th>\n",
       "      <th>Intensity 4old-20-R2</th>\n",
       "      <th>Intensity 4old-20-R3</th>\n",
       "      <th>B5 - B0</th>\n",
       "      <th>B20 - B0</th>\n",
       "      <th>B20 - B5</th>\n",
       "    </tr>\n",
       "  </thead>\n",
       "  <tbody>\n",
       "    <tr>\n",
       "      <th>0</th>\n",
       "      <td>optoSrc</td>\n",
       "      <td>NaN</td>\n",
       "      <td>24.845187</td>\n",
       "      <td>25.063744</td>\n",
       "      <td>24.719514</td>\n",
       "      <td>26.874403</td>\n",
       "      <td>26.858979</td>\n",
       "      <td>27.055007</td>\n",
       "      <td>27.731313</td>\n",
       "      <td>27.831856</td>\n",
       "      <td>...</td>\n",
       "      <td>24.505757</td>\n",
       "      <td>26.373647</td>\n",
       "      <td>26.226303</td>\n",
       "      <td>26.192030</td>\n",
       "      <td>26.917674</td>\n",
       "      <td>26.949752</td>\n",
       "      <td>27.156484</td>\n",
       "      <td>1</td>\n",
       "      <td>1</td>\n",
       "      <td>1</td>\n",
       "    </tr>\n",
       "    <tr>\n",
       "      <th>1</th>\n",
       "      <td>E2QXI3</td>\n",
       "      <td>AIMP1</td>\n",
       "      <td>22.490673</td>\n",
       "      <td>22.641305</td>\n",
       "      <td>22.263827</td>\n",
       "      <td>22.986857</td>\n",
       "      <td>23.186464</td>\n",
       "      <td>23.344409</td>\n",
       "      <td>23.387277</td>\n",
       "      <td>23.008314</td>\n",
       "      <td>...</td>\n",
       "      <td>22.444628</td>\n",
       "      <td>22.642645</td>\n",
       "      <td>22.654104</td>\n",
       "      <td>22.869157</td>\n",
       "      <td>23.238302</td>\n",
       "      <td>23.366169</td>\n",
       "      <td>23.479129</td>\n",
       "      <td>1</td>\n",
       "      <td>1</td>\n",
       "      <td>0</td>\n",
       "    </tr>\n",
       "    <tr>\n",
       "      <th>2</th>\n",
       "      <td>E2R9A2</td>\n",
       "      <td>COPB1</td>\n",
       "      <td>20.583876</td>\n",
       "      <td>19.580197</td>\n",
       "      <td>19.912300</td>\n",
       "      <td>19.515347</td>\n",
       "      <td>20.446335</td>\n",
       "      <td>19.998641</td>\n",
       "      <td>18.774315</td>\n",
       "      <td>18.578999</td>\n",
       "      <td>...</td>\n",
       "      <td>19.359797</td>\n",
       "      <td>19.708729</td>\n",
       "      <td>19.932811</td>\n",
       "      <td>20.536436</td>\n",
       "      <td>19.576637</td>\n",
       "      <td>19.351312</td>\n",
       "      <td>19.543541</td>\n",
       "      <td>0</td>\n",
       "      <td>-1</td>\n",
       "      <td>-1</td>\n",
       "    </tr>\n",
       "    <tr>\n",
       "      <th>3</th>\n",
       "      <td>E2QUR2</td>\n",
       "      <td>EPRS</td>\n",
       "      <td>25.702282</td>\n",
       "      <td>26.085744</td>\n",
       "      <td>25.738771</td>\n",
       "      <td>26.148723</td>\n",
       "      <td>25.995953</td>\n",
       "      <td>26.155798</td>\n",
       "      <td>26.700727</td>\n",
       "      <td>26.788817</td>\n",
       "      <td>...</td>\n",
       "      <td>25.254011</td>\n",
       "      <td>25.912125</td>\n",
       "      <td>25.915650</td>\n",
       "      <td>25.949909</td>\n",
       "      <td>26.433437</td>\n",
       "      <td>26.427155</td>\n",
       "      <td>26.441976</td>\n",
       "      <td>0</td>\n",
       "      <td>1</td>\n",
       "      <td>1</td>\n",
       "    </tr>\n",
       "    <tr>\n",
       "      <th>4</th>\n",
       "      <td>E2RH59</td>\n",
       "      <td>GNPDA2</td>\n",
       "      <td>20.555486</td>\n",
       "      <td>19.808402</td>\n",
       "      <td>20.541722</td>\n",
       "      <td>19.751269</td>\n",
       "      <td>20.244514</td>\n",
       "      <td>20.072681</td>\n",
       "      <td>19.071381</td>\n",
       "      <td>19.009996</td>\n",
       "      <td>...</td>\n",
       "      <td>21.094140</td>\n",
       "      <td>20.228424</td>\n",
       "      <td>19.659203</td>\n",
       "      <td>19.460986</td>\n",
       "      <td>20.336835</td>\n",
       "      <td>20.918740</td>\n",
       "      <td>19.552109</td>\n",
       "      <td>0</td>\n",
       "      <td>-1</td>\n",
       "      <td>0</td>\n",
       "    </tr>\n",
       "  </tbody>\n",
       "</table>\n",
       "<p>5 rows × 23 columns</p>\n",
       "</div>"
      ],
      "text/plain": [
       "     Entry Gene_Name  Intensity 3old-0-R1  Intensity 3old-0-R2  \\\n",
       "0  optoSrc       NaN            24.845187            25.063744   \n",
       "1   E2QXI3     AIMP1            22.490673            22.641305   \n",
       "2   E2R9A2     COPB1            20.583876            19.580197   \n",
       "3   E2QUR2      EPRS            25.702282            26.085744   \n",
       "4   E2RH59    GNPDA2            20.555486            19.808402   \n",
       "\n",
       "   Intensity 3old-0-R3  Intensity 3old-5-R1  Intensity 3old-5-R2  \\\n",
       "0            24.719514            26.874403            26.858979   \n",
       "1            22.263827            22.986857            23.186464   \n",
       "2            19.912300            19.515347            20.446335   \n",
       "3            25.738771            26.148723            25.995953   \n",
       "4            20.541722            19.751269            20.244514   \n",
       "\n",
       "   Intensity 3old-5-R3  Intensity 3old-20-R1  Intensity 3old-20-R2  ...  \\\n",
       "0            27.055007             27.731313             27.831856  ...   \n",
       "1            23.344409             23.387277             23.008314  ...   \n",
       "2            19.998641             18.774315             18.578999  ...   \n",
       "3            26.155798             26.700727             26.788817  ...   \n",
       "4            20.072681             19.071381             19.009996  ...   \n",
       "\n",
       "   Intensity 4old-0-R3  Intensity 4old-5-R1  Intensity 4old-5-R2  \\\n",
       "0            24.505757            26.373647            26.226303   \n",
       "1            22.444628            22.642645            22.654104   \n",
       "2            19.359797            19.708729            19.932811   \n",
       "3            25.254011            25.912125            25.915650   \n",
       "4            21.094140            20.228424            19.659203   \n",
       "\n",
       "   Intensity 4old-5-R3  Intensity 4old-20-R1  Intensity 4old-20-R2  \\\n",
       "0            26.192030             26.917674             26.949752   \n",
       "1            22.869157             23.238302             23.366169   \n",
       "2            20.536436             19.576637             19.351312   \n",
       "3            25.949909             26.433437             26.427155   \n",
       "4            19.460986             20.336835             20.918740   \n",
       "\n",
       "   Intensity 4old-20-R3  B5 - B0  B20 - B0  B20 - B5  \n",
       "0             27.156484        1         1         1  \n",
       "1             23.479129        1         1         0  \n",
       "2             19.543541        0        -1        -1  \n",
       "3             26.441976        0         1         1  \n",
       "4             19.552109        0        -1         0  \n",
       "\n",
       "[5 rows x 23 columns]"
      ]
     },
     "execution_count": 118,
     "metadata": {},
     "output_type": "execute_result"
    }
   ],
   "source": [
    "dfCIBN = pd.read_csv(\"../00_InputData/os_sensitive_CIBN.tsv\",sep='\\t')\n",
    "dfCIBN.head()"
   ]
  },
  {
   "cell_type": "code",
   "execution_count": 119,
   "id": "4e93a6e3-e9a7-4466-a300-705450082ca9",
   "metadata": {},
   "outputs": [],
   "source": [
    "def comp_beta_sum(t1,t0,m):\n",
    "    s = (2**t1 - 2**t0)[m]\n",
    "    s = np.abs(s)\n",
    "    S = np.sum(s)\n",
    "    s = s/np.sum(s)\n",
    "    return s,S"
   ]
  },
  {
   "cell_type": "markdown",
   "id": "6fd9eebf-9e72-4b46-975c-224cf3fea0cb",
   "metadata": {},
   "source": [
    "## Beta in CIBN"
   ]
  },
  {
   "cell_type": "code",
   "execution_count": 165,
   "id": "d5f253c1-90c0-4f65-a541-ee136331c6c7",
   "metadata": {},
   "outputs": [],
   "source": [
    "t0 = np.mean(dfCIBN.iloc[:,2:5],axis= 1)\n",
    "t5 = np.mean(dfCIBN.iloc[:,5:8],axis= 1)\n",
    "t20 = np.mean(dfCIBN.iloc[:,8:11],axis= 1)"
   ]
  },
  {
   "cell_type": "markdown",
   "id": "0e8091d5-439e-457d-92e6-7282861490c4",
   "metadata": {},
   "source": [
    "### T20 - T0"
   ]
  },
  {
   "cell_type": "code",
   "execution_count": 166,
   "id": "ec92a93c-e155-429f-b1b1-d29fefe80544",
   "metadata": {},
   "outputs": [
    {
     "data": {
      "text/plain": [
       "(0.5145388510469338, 381868977.6930736)"
      ]
     },
     "execution_count": 166,
     "metadata": {},
     "output_type": "execute_result"
    }
   ],
   "source": [
    "s1,S1 = comp_beta_sum(t20,t0,dfCIBN.iloc[:,-2] != 0)\n",
    "s1[0],S1"
   ]
  },
  {
   "cell_type": "code",
   "execution_count": 167,
   "id": "abbf5bd9-f500-41e5-a45f-586ba0c52fb3",
   "metadata": {},
   "outputs": [
    {
     "data": {
      "image/png": "[encoded data removed]",
      "text/plain": [
       "<Figure size 432x288 with 1 Axes>"
      ]
     },
     "metadata": {
      "needs_background": "light"
     },
     "output_type": "display_data"
    }
   ],
   "source": [
    "plt.scatter(range(len(s1)),sorted(s1,reverse=True))\n",
    "plt.title(f'Phosphorylation landscape in CIBN exp. at T20-T0\\n'+r' $\\beta$'+f' ={s1[0]:.2f}', fontsize = 15)\n",
    "plt.xlabel('Differentially phosph. proteins',weight='bold', fontsize = 12)\n",
    "plt.ylabel('Normalized phosph. intensity', fontsize = 12,weight='bold')\n",
    "plt.savefig('../05_Output/estimate_beta/betaCIBN20.png', dpi=600)"
   ]
  },
  {
   "cell_type": "markdown",
   "id": "2403c823-61ca-44be-899c-86554de66ee2",
   "metadata": {},
   "source": [
    "### T5 - T0"
   ]
  },
  {
   "cell_type": "code",
   "execution_count": 168,
   "id": "b8ab8e02-3cbe-4e8e-8e20-cd1d9220f191",
   "metadata": {},
   "outputs": [
    {
     "data": {
      "text/plain": [
       "(0.6060229122046742, 160091773.91149706)"
      ]
     },
     "execution_count": 168,
     "metadata": {},
     "output_type": "execute_result"
    }
   ],
   "source": [
    "s2,S2 = comp_beta_sum(t5,t0,dfCIBN.iloc[:,-3] != 0)\n",
    "s2[0],S2"
   ]
  },
  {
   "cell_type": "code",
   "execution_count": 169,
   "id": "6bf0d406-c4a4-422f-8433-cb6860f99aed",
   "metadata": {},
   "outputs": [
    {
     "data": {
      "image/png": "[encoded data removed]",
      "text/plain": [
       "<Figure size 432x288 with 1 Axes>"
      ]
     },
     "metadata": {
      "needs_background": "light"
     },
     "output_type": "display_data"
    }
   ],
   "source": [
    "plt.scatter(range(len(s2)),sorted(s2,reverse=True))\n",
    "plt.title(f'Phosphorylation landscape in CIBN exp. at T5-T0\\n'+r' $\\beta$'+f' ={s2[0]:.2f}', fontsize = 15)\n",
    "plt.xlabel('Differentially phosph. proteins',weight='bold', fontsize = 12)\n",
    "plt.ylabel('Normalized phosph. intensity', fontsize = 12,weight='bold')\n",
    "plt.savefig('../05_Output/estimate_beta/betaCIBN5.png',dpi=600)"
   ]
  },
  {
   "cell_type": "code",
   "execution_count": 170,
   "id": "62f47321-9ee9-4d1a-8695-9599ea7a813c",
   "metadata": {},
   "outputs": [
    {
     "data": {
      "text/plain": [
       "2.38531292622306"
      ]
     },
     "execution_count": 170,
     "metadata": {},
     "output_type": "execute_result"
    }
   ],
   "source": [
    "S1/S2"
   ]
  },
  {
   "cell_type": "markdown",
   "id": "86a19b53-0139-4030-bd8a-05ab9351bd54",
   "metadata": {},
   "source": [
    "## Beta in OS"
   ]
  },
  {
   "cell_type": "code",
   "execution_count": 171,
   "id": "0d7ff19b-c3f7-4449-879c-d3993bd0f6d2",
   "metadata": {},
   "outputs": [],
   "source": [
    "t0 = np.mean(dfOS.iloc[:,11:14],axis= 1)\n",
    "t5 = np.mean(dfOS.iloc[:,14:17],axis= 1)\n",
    "t20 = np.mean(dfOS.iloc[:,17:20],axis= 1)"
   ]
  },
  {
   "cell_type": "markdown",
   "id": "7794394b-99e3-4e06-9ae8-b275a622f77b",
   "metadata": {},
   "source": [
    "### T20 - T0"
   ]
  },
  {
   "cell_type": "code",
   "execution_count": 172,
   "id": "858ccae3-cc1b-4c59-b264-b8b18e92a587",
   "metadata": {},
   "outputs": [
    {
     "data": {
      "text/plain": [
       "(0.4112596261422355, 270266237.1683042)"
      ]
     },
     "execution_count": 172,
     "metadata": {},
     "output_type": "execute_result"
    }
   ],
   "source": [
    "s1,S1 = comp_beta_sum(t20,t0,dfOS.iloc[:,-2] != 0)\n",
    "s1[0],S1"
   ]
  },
  {
   "cell_type": "code",
   "execution_count": 173,
   "id": "e37ae91b-9e52-4f69-834e-b001aa567fbd",
   "metadata": {},
   "outputs": [
    {
     "data": {
      "image/png": "[encoded data removed]",
      "text/plain": [
       "<Figure size 432x288 with 1 Axes>"
      ]
     },
     "metadata": {
      "needs_background": "light"
     },
     "output_type": "display_data"
    }
   ],
   "source": [
    "plt.scatter(range(len(s1)),sorted(s1,reverse=True))\n",
    "plt.title(f'Phosphorylation landscape in OS exp. at T20-T0\\n'+r' $\\beta$'+f' ={s1[0]:.2f}', fontsize = 15)\n",
    "plt.xlabel('Differentially phosph. proteins',weight='bold', fontsize = 12)\n",
    "plt.ylabel('Normalized phosph. intensity', fontsize = 12,weight='bold')\n",
    "plt.savefig('../05_Output/estimate_beta/betaOS20.png',dpi=600)"
   ]
  },
  {
   "cell_type": "markdown",
   "id": "f7a929e4-c2f7-48f0-beed-8202a1090a48",
   "metadata": {},
   "source": [
    "### T5 - T0"
   ]
  },
  {
   "cell_type": "code",
   "execution_count": 161,
   "id": "9fe53574-83f2-45a7-9a29-fb19dc7eff59",
   "metadata": {},
   "outputs": [
    {
     "data": {
      "text/plain": [
       "(0.8167852043446315, 69507282.5108868)"
      ]
     },
     "execution_count": 161,
     "metadata": {},
     "output_type": "execute_result"
    }
   ],
   "source": [
    "s2,S2 = comp_beta_sum(t5,t0,dfOS.iloc[:,-3] != 0)\n",
    "s2[0],S2"
   ]
  },
  {
   "cell_type": "code",
   "execution_count": 164,
   "id": "95bb8dcb-c826-42e7-b2e9-e0c8950b1ccf",
   "metadata": {},
   "outputs": [
    {
     "data": {
      "image/png": "[encoded data removed]",
      "text/plain": [
       "<Figure size 432x288 with 1 Axes>"
      ]
     },
     "metadata": {
      "needs_background": "light"
     },
     "output_type": "display_data"
    }
   ],
   "source": [
    "plt.scatter(range(len(s2)),sorted(s2,reverse=True))\n",
    "plt.title(f'Phosphorylation landscape in OS exp. at T5-T0\\n'+r' $\\beta$'+f' ={s2[0]:.2f}', fontsize = 15)\n",
    "plt.xlabel('Differentially phosph. proteins',weight='bold', fontsize = 12)\n",
    "plt.ylabel('Normalized phosph. intensity', fontsize = 12,weight='bold')\n",
    "plt.savefig('../05_Output/estimate_beta/betaOS5.png',dpi=600)"
   ]
  },
  {
   "cell_type": "code",
   "execution_count": 53,
   "id": "05c04e58-2af7-4005-a349-ecc992a626cf",
   "metadata": {},
   "outputs": [
    {
     "data": {
      "text/plain": [
       "1.870218750166236"
      ]
     },
     "execution_count": 53,
     "metadata": {},
     "output_type": "execute_result"
    }
   ],
   "source": [
    "S1/S2"
   ]
  },
  {
   "cell_type": "code",
   "execution_count": null,
   "id": "40fea82d-74dd-4bc4-b275-608944806ebb",
   "metadata": {},
   "outputs": [],
   "source": []
  }
 ],
 "metadata": {
  "kernelspec": {
   "display_name": "Python 3 (ipykernel)",
   "language": "python",
   "name": "python3"
  },
  "language_info": {
   "codemirror_mode": {
    "name": "ipython",
    "version": 3
   },
   "file_extension": ".py",
   "mimetype": "text/x-python",
   "name": "python",
   "nbconvert_exporter": "python",
   "pygments_lexer": "ipython3",
   "version": "3.10.6"
  }
 },
 "nbformat": 4,
 "nbformat_minor": 5
}
