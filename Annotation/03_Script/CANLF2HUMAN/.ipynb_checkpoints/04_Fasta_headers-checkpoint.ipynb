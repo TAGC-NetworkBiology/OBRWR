{
 "cells": [
  {
   "cell_type": "markdown",
   "metadata": {},
   "source": [
    "# Retrieving the fasta headers of the protein matches"
   ]
  },
  {
   "cell_type": "code",
   "execution_count": 1,
   "metadata": {},
   "outputs": [],
   "source": [
    "import Bio\n",
    "import os\n",
    "import pandas as pd\n",
    "from Bio import SeqIO"
   ]
  },
  {
   "cell_type": "code",
   "execution_count": 2,
   "metadata": {},
   "outputs": [],
   "source": [
    "experiment_name = \"CANLF2HUMAN\"\n",
    "back_path = \"../../\"\n",
    "protein_file = \"uniprot-compressed_true_download_true_format_fasta_query__28_28prote-2022.12.14-12.44.48.99.fasta\"\n",
    "TO = \"HUMAN\""
   ]
  },
  {
   "cell_type": "code",
   "execution_count": 3,
   "metadata": {},
   "outputs": [],
   "source": [
    "with open(back_path+\"01_Reference/\"+TO+\"/\"+protein_file) as handle:\n",
    "    uniprot_TO = SeqIO.to_dict(SeqIO.parse(handle, \"fasta\"))"
   ]
  },
  {
   "cell_type": "code",
   "execution_count": 4,
   "metadata": {},
   "outputs": [],
   "source": [
    "uniprot_TO_UniProtKB_ACC = {}\n",
    "uniprot_TO_Fasta_Header = {}\n",
    "for key,val in uniprot_TO.items():\n",
    "    uniprot_TO_UniProtKB_ACC[key.split('|')[1]]=key.split('|')[2]\n",
    "    uniprot_TO_Fasta_Header[key.split('|')[1]]=val.description"
   ]
  },
  {
   "cell_type": "code",
   "execution_count": 5,
   "metadata": {},
   "outputs": [
    {
     "data": {
      "text/html": [
       "<div>\n",
       "<style scoped>\n",
       "    .dataframe tbody tr th:only-of-type {\n",
       "        vertical-align: middle;\n",
       "    }\n",
       "\n",
       "    .dataframe tbody tr th {\n",
       "        vertical-align: top;\n",
       "    }\n",
       "\n",
       "    .dataframe thead th {\n",
       "        text-align: right;\n",
       "    }\n",
       "</style>\n",
       "<table border=\"1\" class=\"dataframe\">\n",
       "  <thead>\n",
       "    <tr style=\"text-align: right;\">\n",
       "      <th></th>\n",
       "      <th>CANLF_UniProtKB</th>\n",
       "      <th>HUMAN_UniprotKB</th>\n",
       "      <th>HUMAN_UniProtKB_ACC</th>\n",
       "      <th>HUMAN_Fasta_Header</th>\n",
       "    </tr>\n",
       "  </thead>\n",
       "  <tbody>\n",
       "    <tr>\n",
       "      <th>0</th>\n",
       "      <td>F1PYE3</td>\n",
       "      <td>P04792</td>\n",
       "      <td>HSPB1_HUMAN</td>\n",
       "      <td>sp|P04792|HSPB1_HUMAN Heat shock protein beta-...</td>\n",
       "    </tr>\n",
       "    <tr>\n",
       "      <th>1</th>\n",
       "      <td>A0A097HUC9</td>\n",
       "      <td>P04792</td>\n",
       "      <td>HSPB1_HUMAN</td>\n",
       "      <td>sp|P04792|HSPB1_HUMAN Heat shock protein beta-...</td>\n",
       "    </tr>\n",
       "    <tr>\n",
       "      <th>2</th>\n",
       "      <td>P42929</td>\n",
       "      <td>P04792</td>\n",
       "      <td>HSPB1_HUMAN</td>\n",
       "      <td>sp|P04792|HSPB1_HUMAN Heat shock protein beta-...</td>\n",
       "    </tr>\n",
       "    <tr>\n",
       "      <th>3</th>\n",
       "      <td>P54714</td>\n",
       "      <td>P60174</td>\n",
       "      <td>TPIS_HUMAN</td>\n",
       "      <td>sp|P60174|TPIS_HUMAN Triosephosphate isomerase...</td>\n",
       "    </tr>\n",
       "    <tr>\n",
       "      <th>4</th>\n",
       "      <td>D0VWQ5</td>\n",
       "      <td>P84098</td>\n",
       "      <td>RL19_HUMAN</td>\n",
       "      <td>sp|P84098|RL19_HUMAN 60S ribosomal protein L19...</td>\n",
       "    </tr>\n",
       "    <tr>\n",
       "      <th>...</th>\n",
       "      <td>...</td>\n",
       "      <td>...</td>\n",
       "      <td>...</td>\n",
       "      <td>...</td>\n",
       "    </tr>\n",
       "    <tr>\n",
       "      <th>2029</th>\n",
       "      <td>J9P098</td>\n",
       "      <td>NaN</td>\n",
       "      <td>NaN</td>\n",
       "      <td>NaN</td>\n",
       "    </tr>\n",
       "    <tr>\n",
       "      <th>2030</th>\n",
       "      <td>J9P425</td>\n",
       "      <td>NaN</td>\n",
       "      <td>NaN</td>\n",
       "      <td>NaN</td>\n",
       "    </tr>\n",
       "    <tr>\n",
       "      <th>2031</th>\n",
       "      <td>J9P4R8</td>\n",
       "      <td>NaN</td>\n",
       "      <td>NaN</td>\n",
       "      <td>NaN</td>\n",
       "    </tr>\n",
       "    <tr>\n",
       "      <th>2032</th>\n",
       "      <td>J9P969</td>\n",
       "      <td>NaN</td>\n",
       "      <td>NaN</td>\n",
       "      <td>NaN</td>\n",
       "    </tr>\n",
       "    <tr>\n",
       "      <th>2033</th>\n",
       "      <td>optoSrc</td>\n",
       "      <td>P12931</td>\n",
       "      <td>SRC_HUMAN</td>\n",
       "      <td>sp|P12931|SRC_HUMAN Proto-oncogene tyrosine-pr...</td>\n",
       "    </tr>\n",
       "  </tbody>\n",
       "</table>\n",
       "<p>2034 rows × 4 columns</p>\n",
       "</div>"
      ],
      "text/plain": [
       "     CANLF_UniProtKB HUMAN_UniprotKB HUMAN_UniProtKB_ACC  \\\n",
       "0             F1PYE3          P04792         HSPB1_HUMAN   \n",
       "1         A0A097HUC9          P04792         HSPB1_HUMAN   \n",
       "2             P42929          P04792         HSPB1_HUMAN   \n",
       "3             P54714          P60174          TPIS_HUMAN   \n",
       "4             D0VWQ5          P84098          RL19_HUMAN   \n",
       "...              ...             ...                 ...   \n",
       "2029          J9P098             NaN                 NaN   \n",
       "2030          J9P425             NaN                 NaN   \n",
       "2031          J9P4R8             NaN                 NaN   \n",
       "2032          J9P969             NaN                 NaN   \n",
       "2033         optoSrc          P12931           SRC_HUMAN   \n",
       "\n",
       "                                     HUMAN_Fasta_Header  \n",
       "0     sp|P04792|HSPB1_HUMAN Heat shock protein beta-...  \n",
       "1     sp|P04792|HSPB1_HUMAN Heat shock protein beta-...  \n",
       "2     sp|P04792|HSPB1_HUMAN Heat shock protein beta-...  \n",
       "3     sp|P60174|TPIS_HUMAN Triosephosphate isomerase...  \n",
       "4     sp|P84098|RL19_HUMAN 60S ribosomal protein L19...  \n",
       "...                                                 ...  \n",
       "2029                                                NaN  \n",
       "2030                                                NaN  \n",
       "2031                                                NaN  \n",
       "2032                                                NaN  \n",
       "2033  sp|P12931|SRC_HUMAN Proto-oncogene tyrosine-pr...  \n",
       "\n",
       "[2034 rows x 4 columns]"
      ]
     },
     "execution_count": 5,
     "metadata": {},
     "output_type": "execute_result"
    }
   ],
   "source": [
    "match_table = pd.read_csv(back_path+\"05_Output/\"+experiment_name+\"/\"+experiment_name+\"_matches_uniprotKB.tsv\",sep=\"\\t\")\n",
    "match_table[TO+\"_UniProtKB_ACC\"] = match_table[TO+\"_UniprotKB\"].map(uniprot_TO_UniProtKB_ACC)\n",
    "match_table[TO+\"_Fasta_Header\"] = match_table[TO+\"_UniprotKB\"].map(uniprot_TO_Fasta_Header)\n",
    "match_table"
   ]
  },
  {
   "cell_type": "code",
   "execution_count": 6,
   "metadata": {},
   "outputs": [],
   "source": [
    "match_table.to_csv(back_path+\"05_Output/\"+experiment_name+\"/\"+experiment_name+\"_matches_annotated.tsv\",sep=\"\\t\",index=None)"
   ]
  },
  {
   "cell_type": "code",
   "execution_count": null,
   "metadata": {},
   "outputs": [],
   "source": []
  }
 ],
 "metadata": {
  "kernelspec": {
   "display_name": "Python 3 (ipykernel)",
   "language": "python",
   "name": "python3"
  },
  "language_info": {
   "codemirror_mode": {
    "name": "ipython",
    "version": 3
   },
   "file_extension": ".py",
   "mimetype": "text/x-python",
   "name": "python",
   "nbconvert_exporter": "python",
   "pygments_lexer": "ipython3",
   "version": "3.10.6"
  }
 },
 "nbformat": 4,
 "nbformat_minor": 4
}
