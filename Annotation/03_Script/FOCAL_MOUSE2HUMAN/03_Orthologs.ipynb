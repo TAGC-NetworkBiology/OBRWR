{
 "cells": [
  {
   "cell_type": "markdown",
   "metadata": {},
   "source": [
    "# Using pantherdb to get the orthologs from ref proteom"
   ]
  },
  {
   "cell_type": "code",
   "execution_count": 1,
   "metadata": {},
   "outputs": [],
   "source": [
    "import pandas as pd\n",
    "import Bio\n",
    "import numpy as np\n",
    "import pickle\n",
    "import matplotlib.pyplot as plt"
   ]
  },
  {
   "cell_type": "code",
   "execution_count": 2,
   "metadata": {},
   "outputs": [],
   "source": [
    "experiment_name = \"FOCAL_MOUSE2HUMAN\"\n",
    "back_path = \"../../\"\n",
    "orth_file = \"MOUSE_HUMAN_ref.tab\"\n",
    "exp_protein_file = \"MOUSE_focal.txt\"\n",
    "FROM=\"MOUSE\"\n",
    "TO=\"HUMAN\""
   ]
  },
  {
   "cell_type": "code",
   "execution_count": 3,
   "metadata": {},
   "outputs": [],
   "source": [
    "with open(back_path+'05_Output/'+experiment_name+\"/\"+experiment_name+'_matches2refproteom.pickle', 'rb') as f:\n",
    "    uniprot2seq = pickle.load(f)"
   ]
  },
  {
   "cell_type": "markdown",
   "metadata": {},
   "source": [
    "# Retrieving the orthologs"
   ]
  },
  {
   "cell_type": "code",
   "execution_count": 4,
   "metadata": {},
   "outputs": [
    {
     "data": {
      "text/html": [
       "<div>\n",
       "<style scoped>\n",
       "    .dataframe tbody tr th:only-of-type {\n",
       "        vertical-align: middle;\n",
       "    }\n",
       "\n",
       "    .dataframe tbody tr th {\n",
       "        vertical-align: top;\n",
       "    }\n",
       "\n",
       "    .dataframe thead th {\n",
       "        text-align: right;\n",
       "    }\n",
       "</style>\n",
       "<table border=\"1\" class=\"dataframe\">\n",
       "  <thead>\n",
       "    <tr style=\"text-align: right;\">\n",
       "      <th></th>\n",
       "      <th>0</th>\n",
       "      <th>1</th>\n",
       "      <th>2</th>\n",
       "      <th>3</th>\n",
       "      <th>4</th>\n",
       "    </tr>\n",
       "  </thead>\n",
       "  <tbody>\n",
       "    <tr>\n",
       "      <th>0</th>\n",
       "      <td>HUMAN|HGNC=11477|UniProtKB=Q15528</td>\n",
       "      <td>MOUSE|MGI=MGI=98446|UniProtKB=Q62276</td>\n",
       "      <td>LDO</td>\n",
       "      <td>Euarchontoglires</td>\n",
       "      <td>PTHR12434</td>\n",
       "    </tr>\n",
       "    <tr>\n",
       "      <th>1</th>\n",
       "      <td>HUMAN|HGNC=28143|UniProtKB=Q53S58</td>\n",
       "      <td>MOUSE|MGI=MGI=1913593|UniProtKB=Q8BPE4</td>\n",
       "      <td>LDO</td>\n",
       "      <td>Euarchontoglires</td>\n",
       "      <td>PTHR21824</td>\n",
       "    </tr>\n",
       "    <tr>\n",
       "      <th>2</th>\n",
       "      <td>HUMAN|HGNC=3042|UniProtKB=Q9UKA8</td>\n",
       "      <td>MOUSE|MGI=MGI=1858220|UniProtKB=Q9JKK0</td>\n",
       "      <td>LDO</td>\n",
       "      <td>Euarchontoglires</td>\n",
       "      <td>PTHR10300</td>\n",
       "    </tr>\n",
       "    <tr>\n",
       "      <th>3</th>\n",
       "      <td>HUMAN|HGNC=3040|UniProtKB=P53805</td>\n",
       "      <td>MOUSE|MGI=MGI=1890564|UniProtKB=Q9JHG6</td>\n",
       "      <td>LDO</td>\n",
       "      <td>Euarchontoglires</td>\n",
       "      <td>PTHR10300</td>\n",
       "    </tr>\n",
       "    <tr>\n",
       "      <th>4</th>\n",
       "      <td>HUMAN|HGNC=3041|UniProtKB=Q14206</td>\n",
       "      <td>MOUSE|MGI=MGI=1858219|UniProtKB=Q9JHG2</td>\n",
       "      <td>LDO</td>\n",
       "      <td>Euarchontoglires</td>\n",
       "      <td>PTHR10300</td>\n",
       "    </tr>\n",
       "  </tbody>\n",
       "</table>\n",
       "</div>"
      ],
      "text/plain": [
       "                                   0                                       1  \\\n",
       "0  HUMAN|HGNC=11477|UniProtKB=Q15528    MOUSE|MGI=MGI=98446|UniProtKB=Q62276   \n",
       "1  HUMAN|HGNC=28143|UniProtKB=Q53S58  MOUSE|MGI=MGI=1913593|UniProtKB=Q8BPE4   \n",
       "2   HUMAN|HGNC=3042|UniProtKB=Q9UKA8  MOUSE|MGI=MGI=1858220|UniProtKB=Q9JKK0   \n",
       "3   HUMAN|HGNC=3040|UniProtKB=P53805  MOUSE|MGI=MGI=1890564|UniProtKB=Q9JHG6   \n",
       "4   HUMAN|HGNC=3041|UniProtKB=Q14206  MOUSE|MGI=MGI=1858219|UniProtKB=Q9JHG2   \n",
       "\n",
       "     2                 3          4  \n",
       "0  LDO  Euarchontoglires  PTHR12434  \n",
       "1  LDO  Euarchontoglires  PTHR21824  \n",
       "2  LDO  Euarchontoglires  PTHR10300  \n",
       "3  LDO  Euarchontoglires  PTHR10300  \n",
       "4  LDO  Euarchontoglires  PTHR10300  "
      ]
     },
     "execution_count": 4,
     "metadata": {},
     "output_type": "execute_result"
    }
   ],
   "source": [
    "orthologs_table = pd.read_csv(back_path+'01_Reference/'+experiment_name+\"/\"+orth_file,sep='\\t',header=None)\n",
    "\n",
    "orthologs_table.head()"
   ]
  },
  {
   "cell_type": "code",
   "execution_count": 5,
   "metadata": {},
   "outputs": [],
   "source": [
    "d = {}\n",
    "for i in orthologs_table.index:\n",
    "    if TO in orthologs_table[0][i]:\n",
    "        for el in orthologs_table[0][i].split(\"|\"):\n",
    "            if \"UniProtKB\" in el:\n",
    "                to = el.split(\"UniProtKB=\")[1]\n",
    "        for el in orthologs_table[1][i].split(\"|\"):\n",
    "            if \"UniProtKB\" in el:\n",
    "                var_from = el.split(\"UniProtKB=\")[1]\n",
    "    else:\n",
    "        for el in orthologs_table[1][i].split(\"|\"):\n",
    "            if \"UniProtKB\" in el:\n",
    "                to = el.split(\"UniProtKB=\")[1]\n",
    "        for el in orthologs_table[0][i].split(\"|\"):\n",
    "            if \"UniProtKB\" in el:\n",
    "                var_from = el.split(\"UniProtKB=\")[1]\n",
    "    store = (to,orthologs_table[2][i])\n",
    "    if var_from in d:\n",
    "        d[var_from].append(store)\n",
    "    else:\n",
    "        d[var_from] = [store]"
   ]
  },
  {
   "cell_type": "code",
   "execution_count": 6,
   "metadata": {},
   "outputs": [
    {
     "data": {
      "text/plain": [
       "19050"
      ]
     },
     "execution_count": 6,
     "metadata": {},
     "output_type": "execute_result"
    }
   ],
   "source": [
    "len(d)"
   ]
  },
  {
   "cell_type": "code",
   "execution_count": 7,
   "metadata": {},
   "outputs": [
    {
     "data": {
      "text/plain": [
       "[('Q15528', 'LDO')]"
      ]
     },
     "execution_count": 7,
     "metadata": {},
     "output_type": "execute_result"
    }
   ],
   "source": [
    "d['Q62276']"
   ]
  },
  {
   "cell_type": "markdown",
   "metadata": {},
   "source": [
    "# Matching from old uniprot id to orthologs "
   ]
  },
  {
   "cell_type": "code",
   "execution_count": 8,
   "metadata": {
    "tags": []
   },
   "outputs": [
    {
     "name": "stdout",
     "output_type": "stream",
     "text": [
      "Q8R4V3 Q80X81 Q9BWD1\n",
      "Q3UL78 P60766 P60953\n",
      "Q60872 Q60872 P47813\n",
      "P01899 P01897 P01893\n",
      "P01901 P01901 P01893\n",
      "Q8C622 Q8CGP2 Q99877\n",
      "Q3U5K8 Q64282 P09914\n",
      "Q3TIN2 Q8BML9 P47897\n"
     ]
    }
   ],
   "source": [
    "orthologs_found = {}\n",
    "orthologs_not_found = {}\n",
    "\n",
    "for key, values in uniprot2seq.items():\n",
    "    found = False\n",
    "    for value in values:\n",
    "        from_ref_id = value.name.split(\"|\")[1]\n",
    "        if from_ref_id not in d:\n",
    "            continue\n",
    "        else:\n",
    "            to_ref_id = \"\"\n",
    "            b=True\n",
    "            for el in d[from_ref_id]:\n",
    "                if el[1] == 'LDO':\n",
    "                    to_ref_id = el[0]\n",
    "                    b=False\n",
    "                    break\n",
    "                else:\n",
    "                    to_ref_id = el[0]\n",
    "            if b :\n",
    "                print(key,from_ref_id,to_ref_id)\n",
    "            orthologs_found[key] = to_ref_id\n",
    "            found = True\n",
    "            break\n",
    "            \n",
    "    if not found :\n",
    "        orthologs_not_found[key] = value"
   ]
  },
  {
   "cell_type": "code",
   "execution_count": 9,
   "metadata": {},
   "outputs": [
    {
     "data": {
      "text/plain": [
       "1143"
      ]
     },
     "execution_count": 9,
     "metadata": {},
     "output_type": "execute_result"
    }
   ],
   "source": [
    "len(orthologs_found)"
   ]
  },
  {
   "cell_type": "code",
   "execution_count": 10,
   "metadata": {},
   "outputs": [
    {
     "data": {
      "text/plain": [
       "11"
      ]
     },
     "execution_count": 10,
     "metadata": {},
     "output_type": "execute_result"
    }
   ],
   "source": [
    "len(orthologs_not_found)"
   ]
  },
  {
   "cell_type": "markdown",
   "metadata": {},
   "source": [
    "# lets check how many lines we get from the filtered set of proteins"
   ]
  },
  {
   "cell_type": "code",
   "execution_count": 12,
   "metadata": {},
   "outputs": [
    {
     "data": {
      "text/html": [
       "<div>\n",
       "<style scoped>\n",
       "    .dataframe tbody tr th:only-of-type {\n",
       "        vertical-align: middle;\n",
       "    }\n",
       "\n",
       "    .dataframe tbody tr th {\n",
       "        vertical-align: top;\n",
       "    }\n",
       "\n",
       "    .dataframe thead th {\n",
       "        text-align: right;\n",
       "    }\n",
       "</style>\n",
       "<table border=\"1\" class=\"dataframe\">\n",
       "  <thead>\n",
       "    <tr style=\"text-align: right;\">\n",
       "      <th></th>\n",
       "      <th>0</th>\n",
       "    </tr>\n",
       "  </thead>\n",
       "  <tbody>\n",
       "    <tr>\n",
       "      <th>0</th>\n",
       "      <td>Q9CSS6</td>\n",
       "    </tr>\n",
       "    <tr>\n",
       "      <th>1</th>\n",
       "      <td>Q9D2R0</td>\n",
       "    </tr>\n",
       "    <tr>\n",
       "      <th>2</th>\n",
       "      <td>Q3UD67</td>\n",
       "    </tr>\n",
       "    <tr>\n",
       "      <th>3</th>\n",
       "      <td>P61222</td>\n",
       "    </tr>\n",
       "    <tr>\n",
       "      <th>4</th>\n",
       "      <td>Q99LE6</td>\n",
       "    </tr>\n",
       "    <tr>\n",
       "      <th>...</th>\n",
       "      <td>...</td>\n",
       "    </tr>\n",
       "    <tr>\n",
       "      <th>1150</th>\n",
       "      <td>P68510</td>\n",
       "    </tr>\n",
       "    <tr>\n",
       "      <th>1151</th>\n",
       "      <td>P68254</td>\n",
       "    </tr>\n",
       "    <tr>\n",
       "      <th>1152</th>\n",
       "      <td>P63101</td>\n",
       "    </tr>\n",
       "    <tr>\n",
       "      <th>1153</th>\n",
       "      <td>Q3U0F2</td>\n",
       "    </tr>\n",
       "    <tr>\n",
       "      <th>1154</th>\n",
       "      <td>Q3TCR9</td>\n",
       "    </tr>\n",
       "  </tbody>\n",
       "</table>\n",
       "<p>1155 rows × 1 columns</p>\n",
       "</div>"
      ],
      "text/plain": [
       "           0\n",
       "0     Q9CSS6\n",
       "1     Q9D2R0\n",
       "2     Q3UD67\n",
       "3     P61222\n",
       "4     Q99LE6\n",
       "...      ...\n",
       "1150  P68510\n",
       "1151  P68254\n",
       "1152  P63101\n",
       "1153  Q3U0F2\n",
       "1154  Q3TCR9\n",
       "\n",
       "[1155 rows x 1 columns]"
      ]
     },
     "execution_count": 12,
     "metadata": {},
     "output_type": "execute_result"
    }
   ],
   "source": [
    "filtered_prots = pd.read_csv(back_path+\"00_InputData/\"+experiment_name+\"/\"+exp_protein_file, sep=\"\\t\",header=None)\n",
    "filtered_prots"
   ]
  },
  {
   "cell_type": "code",
   "execution_count": 13,
   "metadata": {},
   "outputs": [],
   "source": [
    "list_of_found_indices = []\n",
    "list_of_not_found_indices = []\n",
    "for i in filtered_prots.index:\n",
    "    s = filtered_prots[0][i]\n",
    "    l = s.split(\";\")\n",
    "    for el in l:\n",
    "        if el in orthologs_found:\n",
    "            list_of_found_indices.append(i)\n",
    "            break\n",
    "    if list_of_found_indices[-1] != i:\n",
    "        list_of_not_found_indices.append(i)"
   ]
  },
  {
   "cell_type": "code",
   "execution_count": 14,
   "metadata": {},
   "outputs": [
    {
     "data": {
      "text/plain": [
       "1143"
      ]
     },
     "execution_count": 14,
     "metadata": {},
     "output_type": "execute_result"
    }
   ],
   "source": [
    "len(list_of_found_indices)"
   ]
  },
  {
   "cell_type": "code",
   "execution_count": 15,
   "metadata": {},
   "outputs": [
    {
     "data": {
      "text/plain": [
       "12"
      ]
     },
     "execution_count": 15,
     "metadata": {},
     "output_type": "execute_result"
    }
   ],
   "source": [
    "len(list_of_not_found_indices)"
   ]
  },
  {
   "cell_type": "code",
   "execution_count": 16,
   "metadata": {},
   "outputs": [
    {
     "data": {
      "text/plain": [
       "1155"
      ]
     },
     "execution_count": 16,
     "metadata": {},
     "output_type": "execute_result"
    }
   ],
   "source": [
    "len(list_of_not_found_indices)+len(list_of_found_indices)"
   ]
  },
  {
   "cell_type": "code",
   "execution_count": 17,
   "metadata": {},
   "outputs": [
    {
     "name": "stdout",
     "output_type": "stream",
     "text": [
      "[31, 193, 339, 386, 423, 426, 469, 474, 539, 859, 1013, 1018]\n"
     ]
    }
   ],
   "source": [
    "print(list_of_not_found_indices)"
   ]
  },
  {
   "cell_type": "code",
   "execution_count": 18,
   "metadata": {},
   "outputs": [
    {
     "data": {
      "text/html": [
       "<div>\n",
       "<style scoped>\n",
       "    .dataframe tbody tr th:only-of-type {\n",
       "        vertical-align: middle;\n",
       "    }\n",
       "\n",
       "    .dataframe tbody tr th {\n",
       "        vertical-align: top;\n",
       "    }\n",
       "\n",
       "    .dataframe thead th {\n",
       "        text-align: right;\n",
       "    }\n",
       "</style>\n",
       "<table border=\"1\" class=\"dataframe\">\n",
       "  <thead>\n",
       "    <tr style=\"text-align: right;\">\n",
       "      <th></th>\n",
       "      <th>MOUSE_UniProtKB</th>\n",
       "      <th>HUMAN_UniprotKB</th>\n",
       "    </tr>\n",
       "  </thead>\n",
       "  <tbody>\n",
       "    <tr>\n",
       "      <th>0</th>\n",
       "      <td>Q9CSS6</td>\n",
       "      <td>E9PRG8</td>\n",
       "    </tr>\n",
       "    <tr>\n",
       "      <th>1</th>\n",
       "      <td>Q9D2R0</td>\n",
       "      <td>Q86V21</td>\n",
       "    </tr>\n",
       "    <tr>\n",
       "      <th>2</th>\n",
       "      <td>Q3UD67</td>\n",
       "      <td>P49588</td>\n",
       "    </tr>\n",
       "    <tr>\n",
       "      <th>3</th>\n",
       "      <td>P61222</td>\n",
       "      <td>P61221</td>\n",
       "    </tr>\n",
       "    <tr>\n",
       "      <th>4</th>\n",
       "      <td>Q99LE6</td>\n",
       "      <td>Q9UG63</td>\n",
       "    </tr>\n",
       "    <tr>\n",
       "      <th>...</th>\n",
       "      <td>...</td>\n",
       "      <td>...</td>\n",
       "    </tr>\n",
       "    <tr>\n",
       "      <th>1138</th>\n",
       "      <td>P68510</td>\n",
       "      <td>Q04917</td>\n",
       "    </tr>\n",
       "    <tr>\n",
       "      <th>1139</th>\n",
       "      <td>P68254</td>\n",
       "      <td>P27348</td>\n",
       "    </tr>\n",
       "    <tr>\n",
       "      <th>1140</th>\n",
       "      <td>P63101</td>\n",
       "      <td>P63104</td>\n",
       "    </tr>\n",
       "    <tr>\n",
       "      <th>1141</th>\n",
       "      <td>Q3U0F2</td>\n",
       "      <td>O00488</td>\n",
       "    </tr>\n",
       "    <tr>\n",
       "      <th>1142</th>\n",
       "      <td>Q3TCR9</td>\n",
       "      <td>Q15942</td>\n",
       "    </tr>\n",
       "  </tbody>\n",
       "</table>\n",
       "<p>1143 rows × 2 columns</p>\n",
       "</div>"
      ],
      "text/plain": [
       "     MOUSE_UniProtKB HUMAN_UniprotKB\n",
       "0             Q9CSS6          E9PRG8\n",
       "1             Q9D2R0          Q86V21\n",
       "2             Q3UD67          P49588\n",
       "3             P61222          P61221\n",
       "4             Q99LE6          Q9UG63\n",
       "...              ...             ...\n",
       "1138          P68510          Q04917\n",
       "1139          P68254          P27348\n",
       "1140          P63101          P63104\n",
       "1141          Q3U0F2          O00488\n",
       "1142          Q3TCR9          Q15942\n",
       "\n",
       "[1143 rows x 2 columns]"
      ]
     },
     "execution_count": 18,
     "metadata": {},
     "output_type": "execute_result"
    }
   ],
   "source": [
    "found_orthologs_table = pd.DataFrame([[key,val] for key, val in orthologs_found.items()],columns= [FROM+\"_UniProtKB\",TO+\"_UniprotKB\"])\n",
    "found_orthologs_table"
   ]
  },
  {
   "cell_type": "code",
   "execution_count": 19,
   "metadata": {},
   "outputs": [
    {
     "data": {
      "text/html": [
       "<div>\n",
       "<style scoped>\n",
       "    .dataframe tbody tr th:only-of-type {\n",
       "        vertical-align: middle;\n",
       "    }\n",
       "\n",
       "    .dataframe tbody tr th {\n",
       "        vertical-align: top;\n",
       "    }\n",
       "\n",
       "    .dataframe thead th {\n",
       "        text-align: right;\n",
       "    }\n",
       "</style>\n",
       "<table border=\"1\" class=\"dataframe\">\n",
       "  <thead>\n",
       "    <tr style=\"text-align: right;\">\n",
       "      <th></th>\n",
       "      <th>MOUSE_UniProtKB</th>\n",
       "      <th>HUMAN_UniprotKB</th>\n",
       "    </tr>\n",
       "  </thead>\n",
       "  <tbody>\n",
       "    <tr>\n",
       "      <th>0</th>\n",
       "      <td>Q3URZ6</td>\n",
       "      <td>NaN</td>\n",
       "    </tr>\n",
       "    <tr>\n",
       "      <th>1</th>\n",
       "      <td>Q9CPQ1</td>\n",
       "      <td>NaN</td>\n",
       "    </tr>\n",
       "    <tr>\n",
       "      <th>2</th>\n",
       "      <td>P62862</td>\n",
       "      <td>NaN</td>\n",
       "    </tr>\n",
       "    <tr>\n",
       "      <th>3</th>\n",
       "      <td>Q9DAS9</td>\n",
       "      <td>NaN</td>\n",
       "    </tr>\n",
       "    <tr>\n",
       "      <th>4</th>\n",
       "      <td>P43274</td>\n",
       "      <td>NaN</td>\n",
       "    </tr>\n",
       "    <tr>\n",
       "      <th>5</th>\n",
       "      <td>Q61635</td>\n",
       "      <td>NaN</td>\n",
       "    </tr>\n",
       "    <tr>\n",
       "      <th>6</th>\n",
       "      <td>Q9QZ85</td>\n",
       "      <td>NaN</td>\n",
       "    </tr>\n",
       "    <tr>\n",
       "      <th>7</th>\n",
       "      <td>Q922Q8</td>\n",
       "      <td>NaN</td>\n",
       "    </tr>\n",
       "    <tr>\n",
       "      <th>8</th>\n",
       "      <td>Q6ZWZ4</td>\n",
       "      <td>NaN</td>\n",
       "    </tr>\n",
       "    <tr>\n",
       "      <th>9</th>\n",
       "      <td>P37804</td>\n",
       "      <td>NaN</td>\n",
       "    </tr>\n",
       "    <tr>\n",
       "      <th>10</th>\n",
       "      <td>Q9D1E6</td>\n",
       "      <td>NaN</td>\n",
       "    </tr>\n",
       "  </tbody>\n",
       "</table>\n",
       "</div>"
      ],
      "text/plain": [
       "   MOUSE_UniProtKB  HUMAN_UniprotKB\n",
       "0           Q3URZ6              NaN\n",
       "1           Q9CPQ1              NaN\n",
       "2           P62862              NaN\n",
       "3           Q9DAS9              NaN\n",
       "4           P43274              NaN\n",
       "5           Q61635              NaN\n",
       "6           Q9QZ85              NaN\n",
       "7           Q922Q8              NaN\n",
       "8           Q6ZWZ4              NaN\n",
       "9           P37804              NaN\n",
       "10          Q9D1E6              NaN"
      ]
     },
     "execution_count": 19,
     "metadata": {},
     "output_type": "execute_result"
    }
   ],
   "source": [
    "not_found_orthologs_table = pd.DataFrame([[key,np.nan] for key, val in orthologs_not_found.items()],columns= [FROM+\"_UniProtKB\",TO+\"_UniprotKB\"])\n",
    "not_found_orthologs_table"
   ]
  },
  {
   "cell_type": "code",
   "execution_count": 20,
   "metadata": {},
   "outputs": [
    {
     "data": {
      "text/html": [
       "<div>\n",
       "<style scoped>\n",
       "    .dataframe tbody tr th:only-of-type {\n",
       "        vertical-align: middle;\n",
       "    }\n",
       "\n",
       "    .dataframe tbody tr th {\n",
       "        vertical-align: top;\n",
       "    }\n",
       "\n",
       "    .dataframe thead th {\n",
       "        text-align: right;\n",
       "    }\n",
       "</style>\n",
       "<table border=\"1\" class=\"dataframe\">\n",
       "  <thead>\n",
       "    <tr style=\"text-align: right;\">\n",
       "      <th></th>\n",
       "      <th>MOUSE_UniProtKB</th>\n",
       "      <th>HUMAN_UniprotKB</th>\n",
       "    </tr>\n",
       "  </thead>\n",
       "  <tbody>\n",
       "    <tr>\n",
       "      <th>0</th>\n",
       "      <td>Q9CSS6</td>\n",
       "      <td>E9PRG8</td>\n",
       "    </tr>\n",
       "    <tr>\n",
       "      <th>1</th>\n",
       "      <td>Q9D2R0</td>\n",
       "      <td>Q86V21</td>\n",
       "    </tr>\n",
       "    <tr>\n",
       "      <th>2</th>\n",
       "      <td>Q3UD67</td>\n",
       "      <td>P49588</td>\n",
       "    </tr>\n",
       "    <tr>\n",
       "      <th>3</th>\n",
       "      <td>P61222</td>\n",
       "      <td>P61221</td>\n",
       "    </tr>\n",
       "    <tr>\n",
       "      <th>4</th>\n",
       "      <td>Q99LE6</td>\n",
       "      <td>Q9UG63</td>\n",
       "    </tr>\n",
       "    <tr>\n",
       "      <th>...</th>\n",
       "      <td>...</td>\n",
       "      <td>...</td>\n",
       "    </tr>\n",
       "    <tr>\n",
       "      <th>6</th>\n",
       "      <td>Q9QZ85</td>\n",
       "      <td>NaN</td>\n",
       "    </tr>\n",
       "    <tr>\n",
       "      <th>7</th>\n",
       "      <td>Q922Q8</td>\n",
       "      <td>NaN</td>\n",
       "    </tr>\n",
       "    <tr>\n",
       "      <th>8</th>\n",
       "      <td>Q6ZWZ4</td>\n",
       "      <td>NaN</td>\n",
       "    </tr>\n",
       "    <tr>\n",
       "      <th>9</th>\n",
       "      <td>P37804</td>\n",
       "      <td>NaN</td>\n",
       "    </tr>\n",
       "    <tr>\n",
       "      <th>10</th>\n",
       "      <td>Q9D1E6</td>\n",
       "      <td>NaN</td>\n",
       "    </tr>\n",
       "  </tbody>\n",
       "</table>\n",
       "<p>1154 rows × 2 columns</p>\n",
       "</div>"
      ],
      "text/plain": [
       "   MOUSE_UniProtKB HUMAN_UniprotKB\n",
       "0           Q9CSS6          E9PRG8\n",
       "1           Q9D2R0          Q86V21\n",
       "2           Q3UD67          P49588\n",
       "3           P61222          P61221\n",
       "4           Q99LE6          Q9UG63\n",
       "..             ...             ...\n",
       "6           Q9QZ85             NaN\n",
       "7           Q922Q8             NaN\n",
       "8           Q6ZWZ4             NaN\n",
       "9           P37804             NaN\n",
       "10          Q9D1E6             NaN\n",
       "\n",
       "[1154 rows x 2 columns]"
      ]
     },
     "execution_count": 20,
     "metadata": {},
     "output_type": "execute_result"
    }
   ],
   "source": [
    "matches = pd.concat([found_orthologs_table,not_found_orthologs_table])\n",
    "matches"
   ]
  },
  {
   "cell_type": "code",
   "execution_count": 21,
   "metadata": {},
   "outputs": [],
   "source": [
    "matches.to_csv(back_path+\"05_Output/\"+experiment_name+\"/\"+experiment_name+\"_matches_uniprotKB.tsv\",sep=\"\\t\",index=None)"
   ]
  },
  {
   "cell_type": "code",
   "execution_count": null,
   "metadata": {},
   "outputs": [],
   "source": []
  }
 ],
 "metadata": {
  "kernelspec": {
   "display_name": "Python 3 (ipykernel)",
   "language": "python",
   "name": "python3"
  },
  "language_info": {
   "codemirror_mode": {
    "name": "ipython",
    "version": 3
   },
   "file_extension": ".py",
   "mimetype": "text/x-python",
   "name": "python",
   "nbconvert_exporter": "python",
   "pygments_lexer": "ipython3",
   "version": "3.10.6"
  }
 },
 "nbformat": 4,
 "nbformat_minor": 4
}
