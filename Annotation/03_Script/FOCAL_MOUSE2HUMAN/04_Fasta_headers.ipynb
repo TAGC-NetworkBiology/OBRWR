{
 "cells": [
  {
   "cell_type": "markdown",
   "metadata": {},
   "source": [
    "# Retrieving the fasta headers of the protein matches"
   ]
  },
  {
   "cell_type": "code",
   "execution_count": 1,
   "metadata": {},
   "outputs": [],
   "source": [
    "import Bio\n",
    "import os\n",
    "import pandas as pd\n",
    "from Bio import SeqIO"
   ]
  },
  {
   "cell_type": "code",
   "execution_count": 2,
   "metadata": {},
   "outputs": [],
   "source": [
    "experiment_name = \"FOCAL_MOUSE2HUMAN\"\n",
    "back_path = \"../../\"\n",
    "protein_file = \"uniprot-compressed_true_download_true_format_fasta_query__28_28prote-2022.12.14-12.44.48.99.fasta\"\n",
    "TO = \"HUMAN\""
   ]
  },
  {
   "cell_type": "code",
   "execution_count": 3,
   "metadata": {},
   "outputs": [],
   "source": [
    "with open(back_path+\"01_Reference/\"+TO+\"/\"+protein_file) as handle:\n",
    "    uniprot_TO = SeqIO.to_dict(SeqIO.parse(handle, \"fasta\"))"
   ]
  },
  {
   "cell_type": "code",
   "execution_count": 4,
   "metadata": {},
   "outputs": [],
   "source": [
    "uniprot_TO_UniProtKB_ACC = {}\n",
    "uniprot_TO_Fasta_Header = {}\n",
    "for key,val in uniprot_TO.items():\n",
    "    uniprot_TO_UniProtKB_ACC[key.split('|')[1]]=key.split('|')[2]\n",
    "    uniprot_TO_Fasta_Header[key.split('|')[1]]=val.description"
   ]
  },
  {
   "cell_type": "code",
   "execution_count": 5,
   "metadata": {},
   "outputs": [
    {
     "data": {
      "text/html": [
       "<div>\n",
       "<style scoped>\n",
       "    .dataframe tbody tr th:only-of-type {\n",
       "        vertical-align: middle;\n",
       "    }\n",
       "\n",
       "    .dataframe tbody tr th {\n",
       "        vertical-align: top;\n",
       "    }\n",
       "\n",
       "    .dataframe thead th {\n",
       "        text-align: right;\n",
       "    }\n",
       "</style>\n",
       "<table border=\"1\" class=\"dataframe\">\n",
       "  <thead>\n",
       "    <tr style=\"text-align: right;\">\n",
       "      <th></th>\n",
       "      <th>MOUSE_UniProtKB</th>\n",
       "      <th>HUMAN_UniprotKB</th>\n",
       "      <th>HUMAN_UniProtKB_ACC</th>\n",
       "      <th>HUMAN_Fasta_Header</th>\n",
       "    </tr>\n",
       "  </thead>\n",
       "  <tbody>\n",
       "    <tr>\n",
       "      <th>0</th>\n",
       "      <td>Q9CSS6</td>\n",
       "      <td>E9PRG8</td>\n",
       "      <td>CK098_HUMAN</td>\n",
       "      <td>sp|E9PRG8|CK098_HUMAN Uncharacterized protein ...</td>\n",
       "    </tr>\n",
       "    <tr>\n",
       "      <th>1</th>\n",
       "      <td>Q9D2R0</td>\n",
       "      <td>Q86V21</td>\n",
       "      <td>AACS_HUMAN</td>\n",
       "      <td>sp|Q86V21|AACS_HUMAN Acetoacetyl-CoA synthetas...</td>\n",
       "    </tr>\n",
       "    <tr>\n",
       "      <th>2</th>\n",
       "      <td>Q3UD67</td>\n",
       "      <td>P49588</td>\n",
       "      <td>SYAC_HUMAN</td>\n",
       "      <td>sp|P49588|SYAC_HUMAN Alanine--tRNA ligase, cyt...</td>\n",
       "    </tr>\n",
       "    <tr>\n",
       "      <th>3</th>\n",
       "      <td>P61222</td>\n",
       "      <td>P61221</td>\n",
       "      <td>ABCE1_HUMAN</td>\n",
       "      <td>sp|P61221|ABCE1_HUMAN ATP-binding cassette sub...</td>\n",
       "    </tr>\n",
       "    <tr>\n",
       "      <th>4</th>\n",
       "      <td>Q99LE6</td>\n",
       "      <td>Q9UG63</td>\n",
       "      <td>ABCF2_HUMAN</td>\n",
       "      <td>sp|Q9UG63|ABCF2_HUMAN ATP-binding cassette sub...</td>\n",
       "    </tr>\n",
       "    <tr>\n",
       "      <th>...</th>\n",
       "      <td>...</td>\n",
       "      <td>...</td>\n",
       "      <td>...</td>\n",
       "      <td>...</td>\n",
       "    </tr>\n",
       "    <tr>\n",
       "      <th>1149</th>\n",
       "      <td>Q9QZ85</td>\n",
       "      <td>NaN</td>\n",
       "      <td>NaN</td>\n",
       "      <td>NaN</td>\n",
       "    </tr>\n",
       "    <tr>\n",
       "      <th>1150</th>\n",
       "      <td>Q922Q8</td>\n",
       "      <td>NaN</td>\n",
       "      <td>NaN</td>\n",
       "      <td>NaN</td>\n",
       "    </tr>\n",
       "    <tr>\n",
       "      <th>1151</th>\n",
       "      <td>Q6ZWZ4</td>\n",
       "      <td>NaN</td>\n",
       "      <td>NaN</td>\n",
       "      <td>NaN</td>\n",
       "    </tr>\n",
       "    <tr>\n",
       "      <th>1152</th>\n",
       "      <td>P37804</td>\n",
       "      <td>NaN</td>\n",
       "      <td>NaN</td>\n",
       "      <td>NaN</td>\n",
       "    </tr>\n",
       "    <tr>\n",
       "      <th>1153</th>\n",
       "      <td>Q9D1E6</td>\n",
       "      <td>NaN</td>\n",
       "      <td>NaN</td>\n",
       "      <td>NaN</td>\n",
       "    </tr>\n",
       "  </tbody>\n",
       "</table>\n",
       "<p>1154 rows × 4 columns</p>\n",
       "</div>"
      ],
      "text/plain": [
       "     MOUSE_UniProtKB HUMAN_UniprotKB HUMAN_UniProtKB_ACC  \\\n",
       "0             Q9CSS6          E9PRG8         CK098_HUMAN   \n",
       "1             Q9D2R0          Q86V21          AACS_HUMAN   \n",
       "2             Q3UD67          P49588          SYAC_HUMAN   \n",
       "3             P61222          P61221         ABCE1_HUMAN   \n",
       "4             Q99LE6          Q9UG63         ABCF2_HUMAN   \n",
       "...              ...             ...                 ...   \n",
       "1149          Q9QZ85             NaN                 NaN   \n",
       "1150          Q922Q8             NaN                 NaN   \n",
       "1151          Q6ZWZ4             NaN                 NaN   \n",
       "1152          P37804             NaN                 NaN   \n",
       "1153          Q9D1E6             NaN                 NaN   \n",
       "\n",
       "                                     HUMAN_Fasta_Header  \n",
       "0     sp|E9PRG8|CK098_HUMAN Uncharacterized protein ...  \n",
       "1     sp|Q86V21|AACS_HUMAN Acetoacetyl-CoA synthetas...  \n",
       "2     sp|P49588|SYAC_HUMAN Alanine--tRNA ligase, cyt...  \n",
       "3     sp|P61221|ABCE1_HUMAN ATP-binding cassette sub...  \n",
       "4     sp|Q9UG63|ABCF2_HUMAN ATP-binding cassette sub...  \n",
       "...                                                 ...  \n",
       "1149                                                NaN  \n",
       "1150                                                NaN  \n",
       "1151                                                NaN  \n",
       "1152                                                NaN  \n",
       "1153                                                NaN  \n",
       "\n",
       "[1154 rows x 4 columns]"
      ]
     },
     "execution_count": 5,
     "metadata": {},
     "output_type": "execute_result"
    }
   ],
   "source": [
    "match_table = pd.read_csv(back_path+\"05_Output/\"+experiment_name+\"/\"+experiment_name+\"_matches_uniprotKB.tsv\",sep=\"\\t\")\n",
    "match_table[TO+\"_UniProtKB_ACC\"] = match_table[TO+\"_UniprotKB\"].map(uniprot_TO_UniProtKB_ACC)\n",
    "match_table[TO+\"_Fasta_Header\"] = match_table[TO+\"_UniprotKB\"].map(uniprot_TO_Fasta_Header)\n",
    "match_table"
   ]
  },
  {
   "cell_type": "code",
   "execution_count": 6,
   "metadata": {},
   "outputs": [],
   "source": [
    "match_table.to_csv(back_path+\"05_Output/\"+experiment_name+\"/\"+experiment_name+\"_matches_annotated.tsv\",sep=\"\\t\",index=None)"
   ]
  },
  {
   "cell_type": "code",
   "execution_count": null,
   "metadata": {},
   "outputs": [],
   "source": []
  }
 ],
 "metadata": {
  "kernelspec": {
   "display_name": "Python 3 (ipykernel)",
   "language": "python",
   "name": "python3"
  },
  "language_info": {
   "codemirror_mode": {
    "name": "ipython",
    "version": 3
   },
   "file_extension": ".py",
   "mimetype": "text/x-python",
   "name": "python",
   "nbconvert_exporter": "python",
   "pygments_lexer": "ipython3",
   "version": "3.10.6"
  }
 },
 "nbformat": 4,
 "nbformat_minor": 4
}
