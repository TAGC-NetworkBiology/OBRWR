{
 "cells": [
  {
   "cell_type": "markdown",
   "metadata": {},
   "source": [
    "# Retrieving sequences from uniprot/uniparc CANLF proteins"
   ]
  },
  {
   "cell_type": "code",
   "execution_count": 2,
   "metadata": {},
   "outputs": [],
   "source": [
    "from Bio import SeqIO\n",
    "import Bio\n",
    "import pandas as pd\n",
    "import numpy as np"
   ]
  },
  {
   "cell_type": "code",
   "execution_count": 3,
   "metadata": {},
   "outputs": [],
   "source": [
    "experiment_name = \"FOCAL_MOUSE2HUMAN\"\n",
    "back_path = \"../../\"\n",
    "uniprot_file_name = \"uniprot-organism Mus+musculus+(Mouse)+[10090] .tab\"\n",
    "#uniparc_file_name_fasta = \"uniparc-organism-Canis+lupus+familiaris+(Dog)+(Canis+familiaris)+%5--.fasta\"\n",
    "uniparc_file_name_tab = \"uniparc-organism Mus+musculus+(Mouse)+[10090] .tab\"\n",
    "exp_protein_file = \"MOUSE_focal.txt\""
   ]
  },
  {
   "cell_type": "code",
   "execution_count": 4,
   "metadata": {},
   "outputs": [],
   "source": [
    "uniprot_tab = pd.read_csv(back_path+\"01_Reference/\"+experiment_name+\"/\"+uniprot_file_name,sep='\\t')\n",
    "uniparc_tab = pd.read_csv(back_path+\"01_Reference/\"+experiment_name+\"/\"+uniparc_file_name_tab,sep='\\t')"
   ]
  },
  {
   "cell_type": "code",
   "execution_count": 5,
   "metadata": {},
   "outputs": [
    {
     "data": {
      "text/html": [
       "<div>\n",
       "<style scoped>\n",
       "    .dataframe tbody tr th:only-of-type {\n",
       "        vertical-align: middle;\n",
       "    }\n",
       "\n",
       "    .dataframe tbody tr th {\n",
       "        vertical-align: top;\n",
       "    }\n",
       "\n",
       "    .dataframe thead th {\n",
       "        text-align: right;\n",
       "    }\n",
       "</style>\n",
       "<table border=\"1\" class=\"dataframe\">\n",
       "  <thead>\n",
       "    <tr style=\"text-align: right;\">\n",
       "      <th></th>\n",
       "      <th>0</th>\n",
       "    </tr>\n",
       "  </thead>\n",
       "  <tbody>\n",
       "    <tr>\n",
       "      <th>0</th>\n",
       "      <td>Q9CSS6</td>\n",
       "    </tr>\n",
       "    <tr>\n",
       "      <th>1</th>\n",
       "      <td>Q9D2R0</td>\n",
       "    </tr>\n",
       "    <tr>\n",
       "      <th>2</th>\n",
       "      <td>Q3UD67</td>\n",
       "    </tr>\n",
       "    <tr>\n",
       "      <th>3</th>\n",
       "      <td>P61222</td>\n",
       "    </tr>\n",
       "    <tr>\n",
       "      <th>4</th>\n",
       "      <td>Q99LE6</td>\n",
       "    </tr>\n",
       "  </tbody>\n",
       "</table>\n",
       "</div>"
      ],
      "text/plain": [
       "        0\n",
       "0  Q9CSS6\n",
       "1  Q9D2R0\n",
       "2  Q3UD67\n",
       "3  P61222\n",
       "4  Q99LE6"
      ]
     },
     "execution_count": 5,
     "metadata": {},
     "output_type": "execute_result"
    }
   ],
   "source": [
    "df = pd.read_csv(back_path+\"00_InputData/\"+experiment_name+\"/\"+exp_protein_file,sep='\\t',header=None)\n",
    "df.head()"
   ]
  },
  {
   "cell_type": "code",
   "execution_count": 6,
   "metadata": {},
   "outputs": [],
   "source": [
    "prot_in_study = {}\n",
    "for s in df[0]:\n",
    "    for prot in s.split(\";\"):\n",
    "        prot_in_study[prot] = Bio.SeqRecord.SeqRecord('')"
   ]
  },
  {
   "cell_type": "code",
   "execution_count": 7,
   "metadata": {},
   "outputs": [
    {
     "name": "stdout",
     "output_type": "stream",
     "text": [
      "1155\n"
     ]
    },
    {
     "data": {
      "text/plain": [
       "True"
      ]
     },
     "execution_count": 7,
     "metadata": {},
     "output_type": "execute_result"
    }
   ],
   "source": [
    "print(len(prot_in_study.keys()))\n",
    "len(prot_in_study.keys()) == len(np.unique(list(prot_in_study.keys())))"
   ]
  },
  {
   "cell_type": "markdown",
   "metadata": {},
   "source": [
    "# Uniprot"
   ]
  },
  {
   "cell_type": "code",
   "execution_count": 8,
   "metadata": {},
   "outputs": [
    {
     "data": {
      "text/html": [
       "<div>\n",
       "<style scoped>\n",
       "    .dataframe tbody tr th:only-of-type {\n",
       "        vertical-align: middle;\n",
       "    }\n",
       "\n",
       "    .dataframe tbody tr th {\n",
       "        vertical-align: top;\n",
       "    }\n",
       "\n",
       "    .dataframe thead th {\n",
       "        text-align: right;\n",
       "    }\n",
       "</style>\n",
       "<table border=\"1\" class=\"dataframe\">\n",
       "  <thead>\n",
       "    <tr style=\"text-align: right;\">\n",
       "      <th></th>\n",
       "      <th>Entry</th>\n",
       "      <th>Entry name</th>\n",
       "      <th>Protein names</th>\n",
       "      <th>Gene names</th>\n",
       "      <th>Sequence</th>\n",
       "    </tr>\n",
       "  </thead>\n",
       "  <tbody>\n",
       "    <tr>\n",
       "      <th>0</th>\n",
       "      <td>Q99J83</td>\n",
       "      <td>ATG5_MOUSE</td>\n",
       "      <td>Autophagy protein 5 (APG5-like)</td>\n",
       "      <td>Atg5 Apg5l</td>\n",
       "      <td>MTDDKDVLRDVWFGRIPTCFTLYQDEITEREAEPYYLLLPRVSYLT...</td>\n",
       "    </tr>\n",
       "    <tr>\n",
       "      <th>1</th>\n",
       "      <td>P10417</td>\n",
       "      <td>BCL2_MOUSE</td>\n",
       "      <td>Apoptosis regulator Bcl-2</td>\n",
       "      <td>Bcl2 Bcl-2</td>\n",
       "      <td>MAQAGRTGYDNREIVMKYIHYKLSQRGYEWDAGDADAAPLGAAPTP...</td>\n",
       "    </tr>\n",
       "    <tr>\n",
       "      <th>2</th>\n",
       "      <td>O88597</td>\n",
       "      <td>BECN1_MOUSE</td>\n",
       "      <td>Beclin-1 (Coiled-coil myosin-like BCL2-interac...</td>\n",
       "      <td>Becn1</td>\n",
       "      <td>MEGSKASSSTMQVSFVCQRCSQPLKLDTSFKILDRVTIQELTAPLL...</td>\n",
       "    </tr>\n",
       "    <tr>\n",
       "      <th>3</th>\n",
       "      <td>Q3TTA7</td>\n",
       "      <td>CBLB_MOUSE</td>\n",
       "      <td>E3 ubiquitin-protein ligase CBL-B (EC 2.3.2.27...</td>\n",
       "      <td>Cblb</td>\n",
       "      <td>MANSMNGRNPGGRGGNPRKGRILGIIDAIQDAVGPPKQAAADRRTV...</td>\n",
       "    </tr>\n",
       "    <tr>\n",
       "      <th>4</th>\n",
       "      <td>Q8K337</td>\n",
       "      <td>I5P2_MOUSE</td>\n",
       "      <td>Type II inositol 1,4,5-trisphosphate 5-phospha...</td>\n",
       "      <td>Inpp5b</td>\n",
       "      <td>MDQSVAIQETLVEGEYCVIAVQGVLCKGDSRQSRLLGLVRYRLEND...</td>\n",
       "    </tr>\n",
       "  </tbody>\n",
       "</table>\n",
       "</div>"
      ],
      "text/plain": [
       "    Entry   Entry name                                      Protein names  \\\n",
       "0  Q99J83   ATG5_MOUSE                    Autophagy protein 5 (APG5-like)   \n",
       "1  P10417   BCL2_MOUSE                          Apoptosis regulator Bcl-2   \n",
       "2  O88597  BECN1_MOUSE  Beclin-1 (Coiled-coil myosin-like BCL2-interac...   \n",
       "3  Q3TTA7   CBLB_MOUSE  E3 ubiquitin-protein ligase CBL-B (EC 2.3.2.27...   \n",
       "4  Q8K337   I5P2_MOUSE  Type II inositol 1,4,5-trisphosphate 5-phospha...   \n",
       "\n",
       "   Gene names                                           Sequence  \n",
       "0  Atg5 Apg5l  MTDDKDVLRDVWFGRIPTCFTLYQDEITEREAEPYYLLLPRVSYLT...  \n",
       "1  Bcl2 Bcl-2  MAQAGRTGYDNREIVMKYIHYKLSQRGYEWDAGDADAAPLGAAPTP...  \n",
       "2       Becn1  MEGSKASSSTMQVSFVCQRCSQPLKLDTSFKILDRVTIQELTAPLL...  \n",
       "3        Cblb  MANSMNGRNPGGRGGNPRKGRILGIIDAIQDAVGPPKQAAADRRTV...  \n",
       "4      Inpp5b  MDQSVAIQETLVEGEYCVIAVQGVLCKGDSRQSRLLGLVRYRLEND...  "
      ]
     },
     "execution_count": 8,
     "metadata": {},
     "output_type": "execute_result"
    }
   ],
   "source": [
    "uniprot_tab.head()"
   ]
  },
  {
   "cell_type": "code",
   "execution_count": 9,
   "metadata": {
    "tags": []
   },
   "outputs": [],
   "source": [
    "for i in range(len(uniprot_tab[\"Entry\"])):\n",
    "    uniprotKB_id = uniprot_tab[\"Entry\"][i]\n",
    "    if uniprotKB_id in prot_in_study.keys():\n",
    "        prot_in_study[uniprotKB_id] =  Bio.SeqRecord.SeqRecord(id = uniprotKB_id,seq = Bio.Seq.Seq(uniprot_tab.iat[(i,4)]))"
   ]
  },
  {
   "cell_type": "code",
   "execution_count": 10,
   "metadata": {},
   "outputs": [],
   "source": [
    "uniprot_found = {}\n",
    "uniprot_not_found = {}\n",
    "for key,val in prot_in_study.items():\n",
    "    if  val.seq != '' :#type(val) == Bio.SeqRecord.SeqRecord:\n",
    "        uniprot_found[key] = val\n",
    "    else:\n",
    "        uniprot_not_found[key] = []\n"
   ]
  },
  {
   "cell_type": "markdown",
   "metadata": {},
   "source": [
    "Checking how many found"
   ]
  },
  {
   "cell_type": "code",
   "execution_count": 11,
   "metadata": {},
   "outputs": [
    {
     "data": {
      "text/plain": [
       "1"
      ]
     },
     "execution_count": 11,
     "metadata": {},
     "output_type": "execute_result"
    }
   ],
   "source": [
    "len(uniprot_not_found)"
   ]
  },
  {
   "cell_type": "code",
   "execution_count": 12,
   "metadata": {},
   "outputs": [
    {
     "data": {
      "text/plain": [
       "1154"
      ]
     },
     "execution_count": 12,
     "metadata": {},
     "output_type": "execute_result"
    }
   ],
   "source": [
    "len(uniprot_found)"
   ]
  },
  {
   "cell_type": "code",
   "execution_count": 13,
   "metadata": {
    "tags": []
   },
   "outputs": [
    {
     "data": {
      "text/plain": [
       "{'Q64426': []}"
      ]
     },
     "execution_count": 13,
     "metadata": {},
     "output_type": "execute_result"
    }
   ],
   "source": [
    "uniprot_not_found"
   ]
  },
  {
   "cell_type": "markdown",
   "metadata": {},
   "source": [
    "# Uniparc"
   ]
  },
  {
   "cell_type": "code",
   "execution_count": 14,
   "metadata": {},
   "outputs": [
    {
     "data": {
      "text/plain": [
       "0          True\n",
       "1          True\n",
       "2          True\n",
       "3          True\n",
       "4         False\n",
       "          ...  \n",
       "420933    False\n",
       "420934    False\n",
       "420935     True\n",
       "420936    False\n",
       "420937     True\n",
       "Name: UniProtKB, Length: 420938, dtype: bool"
      ]
     },
     "execution_count": 14,
     "metadata": {},
     "output_type": "execute_result"
    }
   ],
   "source": [
    " - uniparc_tab[\"UniProtKB\"].isna()"
   ]
  },
  {
   "cell_type": "code",
   "execution_count": 15,
   "metadata": {},
   "outputs": [
    {
     "data": {
      "text/html": [
       "<div>\n",
       "<style scoped>\n",
       "    .dataframe tbody tr th:only-of-type {\n",
       "        vertical-align: middle;\n",
       "    }\n",
       "\n",
       "    .dataframe tbody tr th {\n",
       "        vertical-align: top;\n",
       "    }\n",
       "\n",
       "    .dataframe thead th {\n",
       "        text-align: right;\n",
       "    }\n",
       "</style>\n",
       "<table border=\"1\" class=\"dataframe\">\n",
       "  <thead>\n",
       "    <tr style=\"text-align: right;\">\n",
       "      <th></th>\n",
       "      <th>Entry</th>\n",
       "      <th>Gene names</th>\n",
       "      <th>Protein names</th>\n",
       "      <th>UniProtKB</th>\n",
       "      <th>Sequence</th>\n",
       "    </tr>\n",
       "  </thead>\n",
       "  <tbody>\n",
       "    <tr>\n",
       "      <th>0</th>\n",
       "      <td>UPI000002987E</td>\n",
       "      <td>Adgrv1;Mass1</td>\n",
       "      <td>MASS1</td>\n",
       "      <td>Q91ZS2;</td>\n",
       "      <td>MVTVTFDVSGGPNPPEEDLNPVRGNITFPPGRATVIYNVTVLDDEV...</td>\n",
       "    </tr>\n",
       "    <tr>\n",
       "      <th>1</th>\n",
       "      <td>UPI00000285CB</td>\n",
       "      <td>NaN</td>\n",
       "      <td>NaN</td>\n",
       "      <td>Q920Q4.2 (obsolete); Q920Q4-1 (obsolete);</td>\n",
       "      <td>MDCYTANWNPLGDSAFYRKYELYSMDWDLKEELKDCLVAAAPYGGP...</td>\n",
       "    </tr>\n",
       "    <tr>\n",
       "      <th>2</th>\n",
       "      <td>UPI00000E6879</td>\n",
       "      <td>Galk1</td>\n",
       "      <td>Uncharacterized protein;(house mouse) hypothet...</td>\n",
       "      <td>Q9CWW5;</td>\n",
       "      <td>MAAWRPPRVEELLAEARRALMEEFGAEPELAVSAPGRVNLIGEHTD...</td>\n",
       "    </tr>\n",
       "    <tr>\n",
       "      <th>3</th>\n",
       "      <td>UPI00000EAFA0</td>\n",
       "      <td>NaN</td>\n",
       "      <td>(house mouse) hypothetical protein</td>\n",
       "      <td>Q8BQ89.1 (obsolete);</td>\n",
       "      <td>RLRGPAPPATGMETMRAQRLQPGVGVGGRGTLRALRPGVTGAPTSA...</td>\n",
       "    </tr>\n",
       "    <tr>\n",
       "      <th>8</th>\n",
       "      <td>UPI00001D4A9D</td>\n",
       "      <td>mKIAA0980</td>\n",
       "      <td>MKIAA0980 protein</td>\n",
       "      <td>Q6ZQ12.1 (obsolete);</td>\n",
       "      <td>TQRSESRASHSPACYGMDNEEENHYVSRLRDVYSSCDTTGTGFLDQ...</td>\n",
       "    </tr>\n",
       "    <tr>\n",
       "      <th>...</th>\n",
       "      <td>...</td>\n",
       "      <td>...</td>\n",
       "      <td>...</td>\n",
       "      <td>...</td>\n",
       "      <td>...</td>\n",
       "    </tr>\n",
       "    <tr>\n",
       "      <th>420919</th>\n",
       "      <td>UPI000B3D7D46</td>\n",
       "      <td>Zfp934</td>\n",
       "      <td>Zinc finger protein 934;zinc finger protein 78...</td>\n",
       "      <td>A0A1Y7VJM8;</td>\n",
       "      <td>MLETYRNLNAIGFNWEAQNIEEHCQSSRRHRRCERSQSAEKPSEYT...</td>\n",
       "    </tr>\n",
       "    <tr>\n",
       "      <th>420925</th>\n",
       "      <td>UPI0007E52D91</td>\n",
       "      <td>Tsg101</td>\n",
       "      <td>Tumor susceptibility gene 101 protein (Fragment)</td>\n",
       "      <td>A0A1B0GS10;</td>\n",
       "      <td>MAVSESQLKKMMSKYKYRDLTVRQTVNVIAMYKDLKPVLDSYVFND...</td>\n",
       "    </tr>\n",
       "    <tr>\n",
       "      <th>420930</th>\n",
       "      <td>UPI000849EC48</td>\n",
       "      <td>Slc7a6</td>\n",
       "      <td>Y+L amino acid transporter 2</td>\n",
       "      <td>A0A1D5RMA4;</td>\n",
       "      <td>MEAQELGSPTPTYHLLPKANQHTVKEDAGSPSQGSPETMQLKKEIS...</td>\n",
       "    </tr>\n",
       "    <tr>\n",
       "      <th>420935</th>\n",
       "      <td>UPI000849EBF2</td>\n",
       "      <td>Herpud1</td>\n",
       "      <td>Homocysteine-responsive endoplasmic reticulum-...</td>\n",
       "      <td>A0A1D5RLM1;</td>\n",
       "      <td>LYLLCSLMLSSRGPEVNLFWEAAVGSPVSPRFASKAGKATCFAPCV...</td>\n",
       "    </tr>\n",
       "    <tr>\n",
       "      <th>420937</th>\n",
       "      <td>UPI000D18C5FE</td>\n",
       "      <td>Aaas</td>\n",
       "      <td>Aladin (Fragment)</td>\n",
       "      <td>A0A2R8VI45;</td>\n",
       "      <td>XFRGGGVTNLLWSPDGSKVLATTPSAVFRVWEAQMWTCEAWPTLSG...</td>\n",
       "    </tr>\n",
       "  </tbody>\n",
       "</table>\n",
       "<p>132127 rows × 5 columns</p>\n",
       "</div>"
      ],
      "text/plain": [
       "                Entry    Gene names  \\\n",
       "0       UPI000002987E  Adgrv1;Mass1   \n",
       "1       UPI00000285CB           NaN   \n",
       "2       UPI00000E6879         Galk1   \n",
       "3       UPI00000EAFA0           NaN   \n",
       "8       UPI00001D4A9D     mKIAA0980   \n",
       "...               ...           ...   \n",
       "420919  UPI000B3D7D46        Zfp934   \n",
       "420925  UPI0007E52D91        Tsg101   \n",
       "420930  UPI000849EC48        Slc7a6   \n",
       "420935  UPI000849EBF2       Herpud1   \n",
       "420937  UPI000D18C5FE          Aaas   \n",
       "\n",
       "                                            Protein names  \\\n",
       "0                                                   MASS1   \n",
       "1                                                     NaN   \n",
       "2       Uncharacterized protein;(house mouse) hypothet...   \n",
       "3                      (house mouse) hypothetical protein   \n",
       "8                                       MKIAA0980 protein   \n",
       "...                                                   ...   \n",
       "420919  Zinc finger protein 934;zinc finger protein 78...   \n",
       "420925   Tumor susceptibility gene 101 protein (Fragment)   \n",
       "420930                       Y+L amino acid transporter 2   \n",
       "420935  Homocysteine-responsive endoplasmic reticulum-...   \n",
       "420937                                  Aladin (Fragment)   \n",
       "\n",
       "                                         UniProtKB  \\\n",
       "0                                         Q91ZS2;    \n",
       "1       Q920Q4.2 (obsolete); Q920Q4-1 (obsolete);    \n",
       "2                                         Q9CWW5;    \n",
       "3                            Q8BQ89.1 (obsolete);    \n",
       "8                            Q6ZQ12.1 (obsolete);    \n",
       "...                                            ...   \n",
       "420919                                A0A1Y7VJM8;    \n",
       "420925                                A0A1B0GS10;    \n",
       "420930                                A0A1D5RMA4;    \n",
       "420935                                A0A1D5RLM1;    \n",
       "420937                                A0A2R8VI45;    \n",
       "\n",
       "                                                 Sequence  \n",
       "0       MVTVTFDVSGGPNPPEEDLNPVRGNITFPPGRATVIYNVTVLDDEV...  \n",
       "1       MDCYTANWNPLGDSAFYRKYELYSMDWDLKEELKDCLVAAAPYGGP...  \n",
       "2       MAAWRPPRVEELLAEARRALMEEFGAEPELAVSAPGRVNLIGEHTD...  \n",
       "3       RLRGPAPPATGMETMRAQRLQPGVGVGGRGTLRALRPGVTGAPTSA...  \n",
       "8       TQRSESRASHSPACYGMDNEEENHYVSRLRDVYSSCDTTGTGFLDQ...  \n",
       "...                                                   ...  \n",
       "420919  MLETYRNLNAIGFNWEAQNIEEHCQSSRRHRRCERSQSAEKPSEYT...  \n",
       "420925  MAVSESQLKKMMSKYKYRDLTVRQTVNVIAMYKDLKPVLDSYVFND...  \n",
       "420930  MEAQELGSPTPTYHLLPKANQHTVKEDAGSPSQGSPETMQLKKEIS...  \n",
       "420935  LYLLCSLMLSSRGPEVNLFWEAAVGSPVSPRFASKAGKATCFAPCV...  \n",
       "420937  XFRGGGVTNLLWSPDGSKVLATTPSAVFRVWEAQMWTCEAWPTLSG...  \n",
       "\n",
       "[132127 rows x 5 columns]"
      ]
     },
     "execution_count": 15,
     "metadata": {},
     "output_type": "execute_result"
    }
   ],
   "source": [
    "uniparc_tab_id = uniparc_tab[- uniparc_tab[\"UniProtKB\"].isna()]\n",
    "uniparc_tab_id"
   ]
  },
  {
   "cell_type": "code",
   "execution_count": 16,
   "metadata": {},
   "outputs": [],
   "source": [
    "uniparc = {}\n",
    "for i in uniparc_tab_id.index :\n",
    "    for prot in uniparc_tab_id['UniProtKB'][i].split(\";\"):\n",
    "        prot_id = prot.split(\".\")[0].strip()\n",
    "        tmp_seq = Bio.SeqRecord.SeqRecord(id = prot_id,seq = Bio.Seq.Seq(uniparc_tab_id['Sequence'][i]))\n",
    "        uniparc[prot_id] = tmp_seq"
   ]
  },
  {
   "cell_type": "code",
   "execution_count": 17,
   "metadata": {},
   "outputs": [],
   "source": [
    "uniparc_found = {}\n",
    "uniparc_not_found = {}\n",
    "for key in uniprot_not_found.keys():\n",
    "    if key in uniparc:\n",
    "        uniparc_found[key] = uniparc[key]\n",
    "    else:\n",
    "        uniparc_not_found[key] = []"
   ]
  },
  {
   "cell_type": "code",
   "execution_count": 18,
   "metadata": {
    "tags": []
   },
   "outputs": [
    {
     "name": "stdout",
     "output_type": "stream",
     "text": [
      "Q64426\n"
     ]
    }
   ],
   "source": [
    "for el in uniparc_not_found.keys():\n",
    "    print(el)"
   ]
  },
  {
   "cell_type": "code",
   "execution_count": 19,
   "metadata": {},
   "outputs": [
    {
     "data": {
      "text/plain": [
       "0"
      ]
     },
     "execution_count": 19,
     "metadata": {},
     "output_type": "execute_result"
    }
   ],
   "source": [
    "len(uniparc_found)"
   ]
  },
  {
   "cell_type": "code",
   "execution_count": 20,
   "metadata": {},
   "outputs": [
    {
     "data": {
      "text/plain": [
       "1"
      ]
     },
     "execution_count": 20,
     "metadata": {},
     "output_type": "execute_result"
    }
   ],
   "source": [
    "len(uniparc_not_found)"
   ]
  },
  {
   "cell_type": "markdown",
   "metadata": {},
   "source": [
    "# Saving as pickle and as fasta"
   ]
  },
  {
   "cell_type": "code",
   "execution_count": 21,
   "metadata": {},
   "outputs": [],
   "source": [
    "uniprot_found.update(uniparc_found)"
   ]
  },
  {
   "cell_type": "code",
   "execution_count": 22,
   "metadata": {},
   "outputs": [
    {
     "data": {
      "text/plain": [
       "1154"
      ]
     },
     "execution_count": 22,
     "metadata": {},
     "output_type": "execute_result"
    }
   ],
   "source": [
    "len(uniprot_found)"
   ]
  },
  {
   "cell_type": "code",
   "execution_count": 23,
   "metadata": {},
   "outputs": [],
   "source": [
    "import pickle"
   ]
  },
  {
   "cell_type": "code",
   "execution_count": 24,
   "metadata": {},
   "outputs": [],
   "source": [
    "with open(back_path+\"05_Output/\"+experiment_name+\"/\"+experiment_name+\"_sequences.pickle\", 'wb') as f:\n",
    "    pickle.dump(uniprot_found, f, pickle.HIGHEST_PROTOCOL)"
   ]
  },
  {
   "cell_type": "code",
   "execution_count": 25,
   "metadata": {},
   "outputs": [],
   "source": [
    "with open(back_path+\"05_Output/\"+experiment_name+\"/\"+experiment_name+\"_sequences.fasta\", \"w\") as output_handle:\n",
    "    SeqIO.write( uniprot_found.values(),output_handle, \"fasta\")\n"
   ]
  },
  {
   "cell_type": "code",
   "execution_count": null,
   "metadata": {},
   "outputs": [],
   "source": []
  }
 ],
 "metadata": {
  "kernelspec": {
   "display_name": "Python 3 (ipykernel)",
   "language": "python",
   "name": "python3"
  },
  "language_info": {
   "codemirror_mode": {
    "name": "ipython",
    "version": 3
   },
   "file_extension": ".py",
   "mimetype": "text/x-python",
   "name": "python",
   "nbconvert_exporter": "python",
   "pygments_lexer": "ipython3",
   "version": "3.10.6"
  }
 },
 "nbformat": 4,
 "nbformat_minor": 4
}
