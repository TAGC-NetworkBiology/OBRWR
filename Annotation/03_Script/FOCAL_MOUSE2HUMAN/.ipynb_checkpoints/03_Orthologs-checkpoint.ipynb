{
 "cells": [
  {
   "cell_type": "markdown",
   "metadata": {},
   "source": [
    "# Using pantherdb to get the orthologs from ref proteom"
   ]
  },
  {
   "cell_type": "code",
   "execution_count": 1,
   "metadata": {},
   "outputs": [],
   "source": [
    "import pandas as pd\n",
    "import Bio\n",
    "import numpy as np\n",
    "import pickle\n",
    "import matplotlib.pyplot as plt"
   ]
  },
  {
   "cell_type": "code",
   "execution_count": 24,
   "metadata": {},
   "outputs": [],
   "source": [
    "experiment_name = \"MOUSE2HUMAN\"\n",
    "back_path = \"../../\"\n",
    "orth_file = \"MOUSE_HUMAN_ref.tab\"\n",
    "exp_protein_file = \"MOUSE_invadosomes.txt\"\n",
    "FROM=\"MOUSE\"\n",
    "TO=\"HUMAN\""
   ]
  },
  {
   "cell_type": "code",
   "execution_count": 12,
   "metadata": {},
   "outputs": [],
   "source": [
    "with open(back_path+'05_Output/'+experiment_name+\"/\"+experiment_name+'_matches2refproteom.pickle', 'rb') as f:\n",
    "    uniprot2seq = pickle.load(f)"
   ]
  },
  {
   "cell_type": "markdown",
   "metadata": {},
   "source": [
    "# Retrieving the orthologs"
   ]
  },
  {
   "cell_type": "code",
   "execution_count": 13,
   "metadata": {},
   "outputs": [
    {
     "data": {
      "text/html": [
       "<div>\n",
       "<style scoped>\n",
       "    .dataframe tbody tr th:only-of-type {\n",
       "        vertical-align: middle;\n",
       "    }\n",
       "\n",
       "    .dataframe tbody tr th {\n",
       "        vertical-align: top;\n",
       "    }\n",
       "\n",
       "    .dataframe thead th {\n",
       "        text-align: right;\n",
       "    }\n",
       "</style>\n",
       "<table border=\"1\" class=\"dataframe\">\n",
       "  <thead>\n",
       "    <tr style=\"text-align: right;\">\n",
       "      <th></th>\n",
       "      <th>0</th>\n",
       "      <th>1</th>\n",
       "      <th>2</th>\n",
       "      <th>3</th>\n",
       "      <th>4</th>\n",
       "    </tr>\n",
       "  </thead>\n",
       "  <tbody>\n",
       "    <tr>\n",
       "      <th>0</th>\n",
       "      <td>HUMAN|HGNC=11477|UniProtKB=Q15528</td>\n",
       "      <td>MOUSE|MGI=MGI=98446|UniProtKB=Q62276</td>\n",
       "      <td>LDO</td>\n",
       "      <td>Euarchontoglires</td>\n",
       "      <td>PTHR12434</td>\n",
       "    </tr>\n",
       "    <tr>\n",
       "      <th>1</th>\n",
       "      <td>HUMAN|HGNC=28143|UniProtKB=Q53S58</td>\n",
       "      <td>MOUSE|MGI=MGI=1913593|UniProtKB=Q8BPE4</td>\n",
       "      <td>LDO</td>\n",
       "      <td>Euarchontoglires</td>\n",
       "      <td>PTHR21824</td>\n",
       "    </tr>\n",
       "    <tr>\n",
       "      <th>2</th>\n",
       "      <td>HUMAN|HGNC=3042|UniProtKB=Q9UKA8</td>\n",
       "      <td>MOUSE|MGI=MGI=1858220|UniProtKB=Q9JKK0</td>\n",
       "      <td>LDO</td>\n",
       "      <td>Euarchontoglires</td>\n",
       "      <td>PTHR10300</td>\n",
       "    </tr>\n",
       "    <tr>\n",
       "      <th>3</th>\n",
       "      <td>HUMAN|HGNC=3040|UniProtKB=P53805</td>\n",
       "      <td>MOUSE|MGI=MGI=1890564|UniProtKB=Q9JHG6</td>\n",
       "      <td>LDO</td>\n",
       "      <td>Euarchontoglires</td>\n",
       "      <td>PTHR10300</td>\n",
       "    </tr>\n",
       "    <tr>\n",
       "      <th>4</th>\n",
       "      <td>HUMAN|HGNC=3041|UniProtKB=Q14206</td>\n",
       "      <td>MOUSE|MGI=MGI=1858219|UniProtKB=Q9JHG2</td>\n",
       "      <td>LDO</td>\n",
       "      <td>Euarchontoglires</td>\n",
       "      <td>PTHR10300</td>\n",
       "    </tr>\n",
       "  </tbody>\n",
       "</table>\n",
       "</div>"
      ],
      "text/plain": [
       "                                   0                                       1  \\\n",
       "0  HUMAN|HGNC=11477|UniProtKB=Q15528    MOUSE|MGI=MGI=98446|UniProtKB=Q62276   \n",
       "1  HUMAN|HGNC=28143|UniProtKB=Q53S58  MOUSE|MGI=MGI=1913593|UniProtKB=Q8BPE4   \n",
       "2   HUMAN|HGNC=3042|UniProtKB=Q9UKA8  MOUSE|MGI=MGI=1858220|UniProtKB=Q9JKK0   \n",
       "3   HUMAN|HGNC=3040|UniProtKB=P53805  MOUSE|MGI=MGI=1890564|UniProtKB=Q9JHG6   \n",
       "4   HUMAN|HGNC=3041|UniProtKB=Q14206  MOUSE|MGI=MGI=1858219|UniProtKB=Q9JHG2   \n",
       "\n",
       "     2                 3          4  \n",
       "0  LDO  Euarchontoglires  PTHR12434  \n",
       "1  LDO  Euarchontoglires  PTHR21824  \n",
       "2  LDO  Euarchontoglires  PTHR10300  \n",
       "3  LDO  Euarchontoglires  PTHR10300  \n",
       "4  LDO  Euarchontoglires  PTHR10300  "
      ]
     },
     "execution_count": 13,
     "metadata": {},
     "output_type": "execute_result"
    }
   ],
   "source": [
    "orthologs_table = pd.read_csv(back_path+'01_Reference/'+experiment_name+\"/\"+orth_file,sep='\\t',header=None)\n",
    "\n",
    "orthologs_table.head()"
   ]
  },
  {
   "cell_type": "code",
   "execution_count": 14,
   "metadata": {},
   "outputs": [],
   "source": [
    "d = {}\n",
    "for i in orthologs_table.index:\n",
    "    if TO in orthologs_table[0][i]:\n",
    "        for el in orthologs_table[0][i].split(\"|\"):\n",
    "            if \"UniProtKB\" in el:\n",
    "                to = el.split(\"UniProtKB=\")[1]\n",
    "        for el in orthologs_table[1][i].split(\"|\"):\n",
    "            if \"UniProtKB\" in el:\n",
    "                var_from = el.split(\"UniProtKB=\")[1]\n",
    "    else:\n",
    "        for el in orthologs_table[1][i].split(\"|\"):\n",
    "            if \"UniProtKB\" in el:\n",
    "                to = el.split(\"UniProtKB=\")[1]\n",
    "        for el in orthologs_table[0][i].split(\"|\"):\n",
    "            if \"UniProtKB\" in el:\n",
    "                var_from = el.split(\"UniProtKB=\")[1]\n",
    "    store = (to,orthologs_table[2][i])\n",
    "    if var_from in d:\n",
    "        d[var_from].append(store)\n",
    "    else:\n",
    "        d[var_from] = [store]"
   ]
  },
  {
   "cell_type": "code",
   "execution_count": 15,
   "metadata": {},
   "outputs": [
    {
     "data": {
      "text/plain": [
       "19050"
      ]
     },
     "execution_count": 15,
     "metadata": {},
     "output_type": "execute_result"
    }
   ],
   "source": [
    "len(d)"
   ]
  },
  {
   "cell_type": "code",
   "execution_count": 16,
   "metadata": {},
   "outputs": [
    {
     "data": {
      "text/plain": [
       "[('Q15528', 'LDO')]"
      ]
     },
     "execution_count": 16,
     "metadata": {},
     "output_type": "execute_result"
    }
   ],
   "source": [
    "d['Q62276']"
   ]
  },
  {
   "cell_type": "markdown",
   "metadata": {},
   "source": [
    "# Matching from old uniprot id to orthologs "
   ]
  },
  {
   "cell_type": "code",
   "execution_count": 17,
   "metadata": {
    "tags": []
   },
   "outputs": [
    {
     "name": "stdout",
     "output_type": "stream",
     "text": [
      "Q91VM5 Q91VM5 P38159\n",
      "O55137 O55137 Q86TX2\n",
      "P60766 P60766 P60953\n"
     ]
    }
   ],
   "source": [
    "orthologs_found = {}\n",
    "orthologs_not_found = {}\n",
    "\n",
    "for key, values in uniprot2seq.items():\n",
    "    found = False\n",
    "    for value in values:\n",
    "        from_ref_id = value.name.split(\"|\")[1]\n",
    "        if from_ref_id not in d:\n",
    "            continue\n",
    "        else:\n",
    "            to_ref_id = \"\"\n",
    "            b=True\n",
    "            for el in d[from_ref_id]:\n",
    "                if el[1] == 'LDO':\n",
    "                    to_ref_id = el[0]\n",
    "                    b=False\n",
    "                    break\n",
    "                else:\n",
    "                    to_ref_id = el[0]\n",
    "            if b :\n",
    "                print(key,from_ref_id,to_ref_id)\n",
    "            orthologs_found[key] = to_ref_id\n",
    "            found = True\n",
    "            break\n",
    "            \n",
    "    if not found :\n",
    "        orthologs_not_found[key] = value"
   ]
  },
  {
   "cell_type": "code",
   "execution_count": 18,
   "metadata": {},
   "outputs": [
    {
     "data": {
      "text/plain": [
       "306"
      ]
     },
     "execution_count": 18,
     "metadata": {},
     "output_type": "execute_result"
    }
   ],
   "source": [
    "len(orthologs_found)"
   ]
  },
  {
   "cell_type": "code",
   "execution_count": 19,
   "metadata": {},
   "outputs": [
    {
     "data": {
      "text/plain": [
       "6"
      ]
     },
     "execution_count": 19,
     "metadata": {},
     "output_type": "execute_result"
    }
   ],
   "source": [
    "len(orthologs_not_found)"
   ]
  },
  {
   "cell_type": "code",
   "execution_count": 10,
   "metadata": {
    "collapsed": true,
    "jupyter": {
     "outputs_hidden": true
    },
    "tags": []
   },
   "outputs": [
    {
     "data": {
      "text/plain": [
       "[SeqRecord(seq=Seq('MRECISIHVGQAGVQIGNACWELYCLEHGIQPDGQMPSDKTIGGGDDSFNTFFS...EEY'), id='tr|J9NXT1|J9NXT1_CANLF', name='tr|J9NXT1|J9NXT1_CANLF', description='tr|J9NXT1|J9NXT1_CANLF Tubulin alpha chain OS=Canis lupus familiaris OX=9615 GN=TUBA3D PE=3 SV=1', dbxrefs=[]),\n",
       " SeqRecord(seq=Seq('MRECISIHVGQAGVQIGNACWELYCLEHGIQPDGQMPSDKTIGGGDDSFNTFFS...EEY'), id='tr|J9NXT1|J9NXT1_CANLF', name='tr|J9NXT1|J9NXT1_CANLF', description='tr|J9NXT1|J9NXT1_CANLF Tubulin alpha chain OS=Canis lupus familiaris OX=9615 GN=TUBA3D PE=3 SV=1', dbxrefs=[]),\n",
       " SeqRecord(seq=Seq('MRECISVHVGQAGVQIGNACWELYCLEHGIQPDGQMPSDKTIGGGDDSFNTFFS...EEY'), id='tr|F1PE21|F1PE21_CANLF', name='tr|F1PE21|F1PE21_CANLF', description='tr|F1PE21|F1PE21_CANLF Tubulin alpha chain OS=Canis lupus familiaris OX=9615 GN=LOC477570 PE=3 SV=2', dbxrefs=[]),\n",
       " SeqRecord(seq=Seq('MRECISIHVGQAGVQIGNACWELYCLEHGIQPDGQMPSDKTIGGGDDSFNTFFS...EEY'), id='tr|F1PM53|F1PM53_CANLF', name='tr|F1PM53|F1PM53_CANLF', description='tr|F1PM53|F1PM53_CANLF Tubulin alpha chain OS=Canis lupus familiaris OX=9615 GN=TUBA1B PE=2 SV=3', dbxrefs=[]),\n",
       " SeqRecord(seq=Seq('MRECISIHVGQAGVQIGNACWELYCLEHGIQPDGQMPSDKTIGGGDDSFNTFFS...EEY'), id='tr|A0A5F4BT09|A0A5F4BT09_CANLF', name='tr|A0A5F4BT09|A0A5F4BT09_CANLF', description='tr|A0A5F4BT09|A0A5F4BT09_CANLF Tubulin alpha chain OS=Canis lupus familiaris OX=9615 GN=TUBA1B PE=3 SV=1', dbxrefs=[]),\n",
       " SeqRecord(seq=Seq('MNFRECISIHVGQAGVQIGNACWELYCLEHGIQPDGQMPSDKTIGGGDDSFNTF...EEY'), id='tr|L7N0B2|L7N0B2_CANLF', name='tr|L7N0B2|L7N0B2_CANLF', description='tr|L7N0B2|L7N0B2_CANLF Tubulin alpha chain OS=Canis lupus familiaris OX=9615 GN=TUBA1B PE=3 SV=2', dbxrefs=[]),\n",
       " SeqRecord(seq=Seq('MRECISIHVGQAGVQIGNACWELYCLEHGIQPDGQMPSDKTIGGGDDSFNTFFS...EEY'), id='tr|E2RNQ2|E2RNQ2_CANLF', name='tr|E2RNQ2|E2RNQ2_CANLF', description='tr|E2RNQ2|E2RNQ2_CANLF Tubulin alpha chain OS=Canis lupus familiaris OX=9615 GN=LOC100856405 PE=3 SV=3', dbxrefs=[]),\n",
       " SeqRecord(seq=Seq('MSHLICVQIGNACWELYCLEHGIQPDGQMPSDKTIGGGDDSFNTFFSETGAGKH...EEY'), id='tr|E2QTQ9|E2QTQ9_CANLF', name='tr|E2QTQ9|E2QTQ9_CANLF', description='tr|E2QTQ9|E2QTQ9_CANLF Tubulin alpha chain OS=Canis lupus familiaris OX=9615 GN=LOC100856405 PE=3 SV=3', dbxrefs=[]),\n",
       " SeqRecord(seq=Seq('MRECISVHVGQAGVQIGNACWELYCLEHGIQPDGQMPSDKTIGGGDDSFNTFFS...DEY'), id='tr|L7N0G4|L7N0G4_CANLF', name='tr|L7N0G4|L7N0G4_CANLF', description='tr|L7N0G4|L7N0G4_CANLF Tubulin alpha chain OS=Canis lupus familiaris OX=9615 GN=LOC610636 PE=3 SV=2', dbxrefs=[]),\n",
       " SeqRecord(seq=Seq('MPSDKTIGGGDDSFNTFFSETGAGKHVPRAVFVDLEPTVIDEVRTGTYRQLFHP...EEY'), id='tr|A0A5F4CS96|A0A5F4CS96_CANLF', name='tr|A0A5F4CS96|A0A5F4CS96_CANLF', description='tr|A0A5F4CS96|A0A5F4CS96_CANLF Tubulin alpha chain OS=Canis lupus familiaris OX=9615 GN=TUBA1B PE=3 SV=1', dbxrefs=[]),\n",
       " SeqRecord(seq=Seq('MRECISVHVGQAGVQIGNACWELFCLEHGIQADGTFGVQGSKVNDDDSFTTFFS...EEF'), id='tr|F6X9E9|F6X9E9_CANLF', name='tr|F6X9E9|F6X9E9_CANLF', description='tr|F6X9E9|F6X9E9_CANLF Tubulin alpha chain OS=Canis lupus familiaris OX=9615 GN=PEX26 PE=3 SV=2', dbxrefs=[]),\n",
       " SeqRecord(seq=Seq('MKTAGTTVWPRARAGLEREPRLLGFRPCNSLLGLRPWRGKIKGCIRGLSWPHLA...KEF'), id='tr|F1PLM3|F1PLM3_CANLF', name='tr|F1PLM3|F1PLM3_CANLF', description='tr|F1PLM3|F1PLM3_CANLF Tubulin alpha chain OS=Canis lupus familiaris OX=9615 GN=LOC100855995 PE=3 SV=2', dbxrefs=[]),\n",
       " SeqRecord(seq=Seq('MRECISVHVGQAGVQMGNACWELYCLEHGIQPDGQMPSDKTIGGGDDSFTTFFC...MQA'), id='tr|E2RBC3|E2RBC3_CANLF', name='tr|E2RBC3|E2RBC3_CANLF', description='tr|E2RBC3|E2RBC3_CANLF Tubulin alpha chain OS=Canis lupus familiaris OX=9615 GN=TUBA4A PE=3 SV=2', dbxrefs=[]),\n",
       " SeqRecord(seq=Seq('MPSDKTIGGGDDSFNTFFSETGAGKHVPRAVFVDLEPTVIGELASVTQVSSRGT...EEY'), id='tr|A0A5F4D8G0|A0A5F4D8G0_CANLF', name='tr|A0A5F4D8G0|A0A5F4D8G0_CANLF', description='tr|A0A5F4D8G0|A0A5F4D8G0_CANLF Tubulin alpha chain OS=Canis lupus familiaris OX=9615 GN=LOC100856405 PE=3 SV=1', dbxrefs=[]),\n",
       " SeqRecord(seq=Seq('MKSDSASPAAALGLWGPVRSSEPARAAPTPTPAPAPAPAPAPAPAPAPAPAPAQ...EEF'), id='tr|A0A5F4CSW9|A0A5F4CSW9_CANLF', name='tr|A0A5F4CSW9|A0A5F4CSW9_CANLF', description='tr|A0A5F4CSW9|A0A5F4CSW9_CANLF Peroxisomal biosis factor 26 OS=Canis lupus familiaris OX=9615 GN=PEX26 PE=3 SV=1', dbxrefs=[]),\n",
       " SeqRecord(seq=Seq('MLRDSCWPGLSVPGPLPPSVSQQRRRRYLEQLGWAGPAGRRAREESSRDDEVRA...EEF'), id='tr|A0A5F4DH52|A0A5F4DH52_CANLF', name='tr|A0A5F4DH52|A0A5F4DH52_CANLF', description='tr|A0A5F4DH52|A0A5F4DH52_CANLF Tubulin alpha chain OS=Canis lupus familiaris OX=9615 GN=PEX26 PE=3 SV=1', dbxrefs=[]),\n",
       " SeqRecord(seq=Seq('MRECLSIHIGQAGIQIGDACWELYCLEHGIQPDGVVLNSKKDQLENANMEHIDA...RSF'), id='tr|F1P7S1|F1P7S1_CANLF', name='tr|F1P7S1|F1P7S1_CANLF', description='tr|F1P7S1|F1P7S1_CANLF Tubulin alpha chain OS=Canis lupus familiaris OX=9615 GN=TUBAL3 PE=3 SV=3', dbxrefs=[]),\n",
       " SeqRecord(seq=Seq('MLDQQTDRTDNPSQPQVKQHGTYRQLFHPEQLITGKEDAANNYARGHYTIGKEL...TRW'), id='tr|J9P0P6|J9P0P6_CANLF', name='tr|J9P0P6|J9P0P6_CANLF', description='tr|J9P0P6|J9P0P6_CANLF Tubulin alpha chain OS=Canis lupus familiaris OX=9615 GN=LOC610636 PE=3 SV=2', dbxrefs=[]),\n",
       " SeqRecord(seq=Seq('MREIVHIQAGQCGNQIGAKFWEVISDEHGIDPTGTYHGDSDLQLDRISVYYNEA...EEA'), id='tr|E2QSF4|E2QSF4_CANLF', name='tr|E2QSF4|E2QSF4_CANLF', description='tr|E2QSF4|E2QSF4_CANLF Tubulin beta chain OS=Canis lupus familiaris OX=9615 GN=TUBB PE=3 SV=1', dbxrefs=[]),\n",
       " SeqRecord(seq=Seq('MREIVHIQAGQCGNQIGTKFWEVISDEHGIDPAGGYVGDSALQLERINVYYNES...INE'), id='tr|E2QYC2|E2QYC2_CANLF', name='tr|E2QYC2|E2QYC2_CANLF', description='tr|E2QYC2|E2QYC2_CANLF Tubulin beta chain OS=Canis lupus familiaris OX=9615 GN=TUBB6 PE=3 SV=1', dbxrefs=[]),\n",
       " SeqRecord(seq=Seq('MREIVHIQAGQCGNQIGAKFWEVISDEHGIDPSGNYVGDSDLQLERISVYYNEA...GPK'), id='tr|F2Z4P1|F2Z4P1_CANLF', name='tr|F2Z4P1|F2Z4P1_CANLF', description='tr|F2Z4P1|F2Z4P1_CANLF Tubulin beta chain OS=Canis lupus familiaris OX=9615 GN=TCF25 PE=3 SV=1', dbxrefs=[]),\n",
       " SeqRecord(seq=Seq('MREIVHLQAGQCGNQIGAKFWEVISDEHGIDPTGTYHGDSDLQLERINVYYNEA...EVA'), id='tr|L7N0I7|L7N0I7_CANLF', name='tr|L7N0I7|L7N0I7_CANLF', description='tr|L7N0I7|L7N0I7_CANLF Tubulin beta chain OS=Canis lupus familiaris OX=9615 GN=TUBB4B PE=3 SV=1', dbxrefs=[]),\n",
       " SeqRecord(seq=Seq('MREIVHLQAGQCGNQIGAKFWEVISDEHGIDPTGTYHGDSDLQLERINVYYNEA...EVA'), id='tr|E2RFV2|E2RFV2_CANLF', name='tr|E2RFV2|E2RFV2_CANLF', description='tr|E2RFV2|E2RFV2_CANLF Tubulin beta chain OS=Canis lupus familiaris OX=9615 GN=TUBB4A PE=3 SV=2', dbxrefs=[]),\n",
       " SeqRecord(seq=Seq('MREIVHIQAGQCGNQIGAKFWEVISDEHGIDPTGSYHGDSDLQLERINVYYNEA...GGL'), id='tr|E2RFJ7|E2RFJ7_CANLF', name='tr|E2RFJ7|E2RFJ7_CANLF', description='tr|E2RFJ7|E2RFJ7_CANLF Tubulin beta chain OS=Canis lupus familiaris OX=9615 GN=TUBB2B PE=3 SV=2', dbxrefs=[]),\n",
       " SeqRecord(seq=Seq('MWLLGLHGLYSGFLAVLLVSLTAASRRGRDLTEGHPELSVRTWHMAREVTRQCR...PQV'), id='tr|J9P716|J9P716_CANLF', name='tr|J9P716|J9P716_CANLF', description='tr|J9P716|J9P716_CANLF Tubulin beta 1 class VI OS=Canis lupus familiaris OX=9615 GN=TUBB1 PE=3 SV=1', dbxrefs=[]),\n",
       " SeqRecord(seq=Seq('MWLLGLHGLYSGFLAVLLVSLTAASRRGRDLTEGHPELSVRTWHMAREVTRQCR...EAA'), id='tr|A0A5F4D3V5|A0A5F4D3V5_CANLF', name='tr|A0A5F4D3V5|A0A5F4D3V5_CANLF', description='tr|A0A5F4D3V5|A0A5F4D3V5_CANLF Tubulin beta 1 class VI OS=Canis lupus familiaris OX=9615 GN=TUBB1 PE=3 SV=1', dbxrefs=[]),\n",
       " SeqRecord(seq=Seq('MREIVHLQAGQCGNQIGAKFWEVISDEHGIDPTGTYHGDSDLQLERINVYYNEA...EVA'), id='tr|A0A5F4BWF5|A0A5F4BWF5_CANLF', name='tr|A0A5F4BWF5|A0A5F4BWF5_CANLF', description='tr|A0A5F4BWF5|A0A5F4BWF5_CANLF Tubulin beta chain OS=Canis lupus familiaris OX=9615 GN=TUBB4B PE=3 SV=1', dbxrefs=[]),\n",
       " SeqRecord(seq=Seq('DLRFWEVISDEHGIDPTGSYHGDSDLQLERINVYYNEAAGNKYVPRAILVDLEP...DEA'), id='tr|F1PQ68|F1PQ68_CANLF', name='tr|F1PQ68|F1PQ68_CANLF', description='tr|F1PQ68|F1PQ68_CANLF Tubulin beta chain OS=Canis lupus familiaris OX=9615 GN=LOC478701 PE=3 SV=3', dbxrefs=[]),\n",
       " SeqRecord(seq=Seq('MRLLESKKGLSSFAFEHSEEYQQTQHKFLAAVESMEPNNIVVLLQTSPYHVDSL...GPK'), id='tr|A0A5F4CUX0|A0A5F4CUX0_CANLF', name='tr|A0A5F4CUX0|A0A5F4CUX0_CANLF', description='tr|A0A5F4CUX0|A0A5F4CUX0_CANLF Transcription factor 25 OS=Canis lupus familiaris OX=9615 GN=TCF25 PE=3 SV=1', dbxrefs=[]),\n",
       " SeqRecord(seq=Seq('MRLLESKKGLSSFAFEHSEEYQQTQHKFLAAVESMEPNNIVVLLQTSPYHVDSL...TAP'), id='tr|E2R9Y6|E2R9Y6_CANLF', name='tr|E2R9Y6|E2R9Y6_CANLF', description='tr|E2R9Y6|E2R9Y6_CANLF Transcription factor 25 OS=Canis lupus familiaris OX=9615 GN=TCF25 PE=3 SV=3', dbxrefs=[]),\n",
       " SeqRecord(seq=Seq('LNPTTRDSESPDGEGPLFPGERRQSKDLRTPKLRGGRVSESRETLHFSALKPVS...INE'), id='tr|A0A5F4BPS3|A0A5F4BPS3_CANLF', name='tr|A0A5F4BPS3|A0A5F4BPS3_CANLF', description='tr|A0A5F4BPS3|A0A5F4BPS3_CANLF Tubulin beta 6 class V OS=Canis lupus familiaris OX=9615 GN=TUBB6 PE=3 SV=1', dbxrefs=[]),\n",
       " SeqRecord(seq=Seq('MRECISIHVGQAGVQIGNACWELYCLEHGIQPDGQMPSDKTIGGGDDSFNTFFS...YNY'), id='tr|A0A5F4BV49|A0A5F4BV49_CANLF', name='tr|A0A5F4BV49|A0A5F4BV49_CANLF', description='tr|A0A5F4BV49|A0A5F4BV49_CANLF Tubulin_C domain-containing protein OS=Canis lupus familiaris OX=9615 PE=3 SV=1', dbxrefs=[]),\n",
       " SeqRecord(seq=Seq('IREIVHIQAGQCGDQTGAKFWEVISDEHGIDPTRTYHGDNDLQLDHISMYYNEA...EEA'), id='tr|A0A5F4C551|A0A5F4C551_CANLF', name='tr|A0A5F4C551|A0A5F4C551_CANLF', description='tr|A0A5F4C551|A0A5F4C551_CANLF Uncharacterized protein OS=Canis lupus familiaris OX=9615 PE=3 SV=1', dbxrefs=[]),\n",
       " SeqRecord(seq=Seq('IRQAATTRECISIHVGQAGVQIGNACWELYCREHGIQPDAQMPSDKTTGGGDDS...FEH'), id='tr|A0A5F4D7P9|A0A5F4D7P9_CANLF', name='tr|A0A5F4D7P9|A0A5F4D7P9_CANLF', description='tr|A0A5F4D7P9|A0A5F4D7P9_CANLF Uncharacterized protein OS=Canis lupus familiaris OX=9615 PE=3 SV=1', dbxrefs=[]),\n",
       " SeqRecord(seq=Seq('MRECISIHVGQAGVQIGNACWELYCLEHGIQPDGQMPSDKTIGGGDDSFNTFFS...GNL'), id='tr|A0A5F4BVG6|A0A5F4BVG6_CANLF', name='tr|A0A5F4BVG6|A0A5F4BVG6_CANLF', description='tr|A0A5F4BVG6|A0A5F4BVG6_CANLF Uncharacterized protein OS=Canis lupus familiaris OX=9615 GN=LOC100856405 PE=3 SV=1', dbxrefs=[]),\n",
       " SeqRecord(seq=Seq('MRECISIHVGQAGVQIGNACWELYCLEHGIQPDGQMPSDKTIGGGDDSFNTFFS...NGT'), id='tr|A0A5F4C1X2|A0A5F4C1X2_CANLF', name='tr|A0A5F4C1X2|A0A5F4C1X2_CANLF', description='tr|A0A5F4C1X2|A0A5F4C1X2_CANLF Tubulin domain-containing protein OS=Canis lupus familiaris OX=9615 GN=LOC100856405 PE=3 SV=1', dbxrefs=[]),\n",
       " SeqRecord(seq=Seq('MQCKTPAKAPSRECISIHVGQAGVQIGNACWELYCLEHGIQPDGQMPSDKTIGG...DSC'), id='tr|A0A5F4BV42|A0A5F4BV42_CANLF', name='tr|A0A5F4BV42|A0A5F4BV42_CANLF', description='tr|A0A5F4BV42|A0A5F4BV42_CANLF Uncharacterized protein OS=Canis lupus familiaris OX=9615 GN=LOC100856405 PE=3 SV=1', dbxrefs=[]),\n",
       " SeqRecord(seq=Seq('MPREIITLQLGQCGNQIGFEFWKQLCAEHGISPEGIVEEFATEGTDRKDVFFYQ...QEQ'), id='tr|F1PCT3|F1PCT3_CANLF', name='tr|F1PCT3|F1PCT3_CANLF', description='tr|F1PCT3|F1PCT3_CANLF Tubulin gamma chain OS=Canis lupus familiaris OX=9615 GN=LOC100856176 PE=3 SV=1', dbxrefs=[]),\n",
       " SeqRecord(seq=Seq('MPREIITLQLGQCGNQIGFEFWKQLCAEHGISPEGIVEEFATEGTDRKDVFFYQ...QEQ'), id='sp|Q9GKK5|TBG1_CANLF', name='sp|Q9GKK5|TBG1_CANLF', description='sp|Q9GKK5|TBG1_CANLF Tubulin gamma-1 chain OS=Canis lupus familiaris OX=9615 GN=TUBG1 PE=2 SV=1', dbxrefs=[]),\n",
       " SeqRecord(seq=Seq('MPREIITLQLGQCGNQIGFEFWKQLCAEHGISPEGIVEEFATEGTDRKDVFFYQ...QEQ'), id='tr|E2RD85|E2RD85_CANLF', name='tr|E2RD85|E2RD85_CANLF', description='tr|E2RD85|E2RD85_CANLF Tubulin gamma chain OS=Canis lupus familiaris OX=9615 GN=LOC100856176 PE=3 SV=1', dbxrefs=[])]"
      ]
     },
     "execution_count": 10,
     "metadata": {},
     "output_type": "execute_result"
    }
   ],
   "source": [
    "uniprot2seq[\"J9NXT1\"]"
   ]
  },
  {
   "cell_type": "code",
   "execution_count": 11,
   "metadata": {},
   "outputs": [
    {
     "data": {
      "text/plain": [
       "'P0DPH8'"
      ]
     },
     "execution_count": 11,
     "metadata": {},
     "output_type": "execute_result"
    }
   ],
   "source": [
    "orthologs_found[\"J9NXT1\"]"
   ]
  },
  {
   "cell_type": "markdown",
   "metadata": {},
   "source": [
    "# lets check how many lines we get from the filtered set of proteins"
   ]
  },
  {
   "cell_type": "code",
   "execution_count": 26,
   "metadata": {},
   "outputs": [
    {
     "data": {
      "text/html": [
       "<div>\n",
       "<style scoped>\n",
       "    .dataframe tbody tr th:only-of-type {\n",
       "        vertical-align: middle;\n",
       "    }\n",
       "\n",
       "    .dataframe tbody tr th {\n",
       "        vertical-align: top;\n",
       "    }\n",
       "\n",
       "    .dataframe thead th {\n",
       "        text-align: right;\n",
       "    }\n",
       "</style>\n",
       "<table border=\"1\" class=\"dataframe\">\n",
       "  <thead>\n",
       "    <tr style=\"text-align: right;\">\n",
       "      <th></th>\n",
       "      <th>0</th>\n",
       "    </tr>\n",
       "  </thead>\n",
       "  <tbody>\n",
       "    <tr>\n",
       "      <th>0</th>\n",
       "      <td>P61514</td>\n",
       "    </tr>\n",
       "    <tr>\n",
       "      <th>1</th>\n",
       "      <td>Q4FK74</td>\n",
       "    </tr>\n",
       "    <tr>\n",
       "      <th>2</th>\n",
       "      <td>Q01149</td>\n",
       "    </tr>\n",
       "    <tr>\n",
       "      <th>3</th>\n",
       "      <td>O88544</td>\n",
       "    </tr>\n",
       "    <tr>\n",
       "      <th>4</th>\n",
       "      <td>P97310</td>\n",
       "    </tr>\n",
       "    <tr>\n",
       "      <th>...</th>\n",
       "      <td>...</td>\n",
       "    </tr>\n",
       "    <tr>\n",
       "      <th>307</th>\n",
       "      <td>A0A140T8M7</td>\n",
       "    </tr>\n",
       "    <tr>\n",
       "      <th>308</th>\n",
       "      <td>G3UX26</td>\n",
       "    </tr>\n",
       "    <tr>\n",
       "      <th>309</th>\n",
       "      <td>Q922B2</td>\n",
       "    </tr>\n",
       "    <tr>\n",
       "      <th>310</th>\n",
       "      <td>Q8VDD5</td>\n",
       "    </tr>\n",
       "    <tr>\n",
       "      <th>311</th>\n",
       "      <td>P35979</td>\n",
       "    </tr>\n",
       "  </tbody>\n",
       "</table>\n",
       "<p>312 rows × 1 columns</p>\n",
       "</div>"
      ],
      "text/plain": [
       "              0\n",
       "0        P61514\n",
       "1        Q4FK74\n",
       "2        Q01149\n",
       "3        O88544\n",
       "4        P97310\n",
       "..          ...\n",
       "307  A0A140T8M7\n",
       "308      G3UX26\n",
       "309      Q922B2\n",
       "310      Q8VDD5\n",
       "311      P35979\n",
       "\n",
       "[312 rows x 1 columns]"
      ]
     },
     "execution_count": 26,
     "metadata": {},
     "output_type": "execute_result"
    }
   ],
   "source": [
    "filtered_prots = pd.read_csv(back_path+\"00_InputData/\"+experiment_name+\"/\"+exp_protein_file, sep=\"\\t\",header=None)\n",
    "filtered_prots"
   ]
  },
  {
   "cell_type": "code",
   "execution_count": 28,
   "metadata": {},
   "outputs": [],
   "source": [
    "list_of_found_indices = []\n",
    "list_of_not_found_indices = []\n",
    "for i in filtered_prots.index:\n",
    "    s = filtered_prots[0][i]\n",
    "    l = s.split(\";\")\n",
    "    for el in l:\n",
    "        if el in orthologs_found:\n",
    "            list_of_found_indices.append(i)\n",
    "            break\n",
    "    if list_of_found_indices[-1] != i:\n",
    "        list_of_not_found_indices.append(i)"
   ]
  },
  {
   "cell_type": "code",
   "execution_count": 29,
   "metadata": {},
   "outputs": [
    {
     "data": {
      "text/plain": [
       "306"
      ]
     },
     "execution_count": 29,
     "metadata": {},
     "output_type": "execute_result"
    }
   ],
   "source": [
    "len(list_of_found_indices)"
   ]
  },
  {
   "cell_type": "code",
   "execution_count": 30,
   "metadata": {},
   "outputs": [
    {
     "data": {
      "text/plain": [
       "6"
      ]
     },
     "execution_count": 30,
     "metadata": {},
     "output_type": "execute_result"
    }
   ],
   "source": [
    "len(list_of_not_found_indices)"
   ]
  },
  {
   "cell_type": "code",
   "execution_count": 31,
   "metadata": {},
   "outputs": [
    {
     "data": {
      "text/plain": [
       "312"
      ]
     },
     "execution_count": 31,
     "metadata": {},
     "output_type": "execute_result"
    }
   ],
   "source": [
    "len(list_of_not_found_indices)+len(list_of_found_indices)"
   ]
  },
  {
   "cell_type": "code",
   "execution_count": 32,
   "metadata": {},
   "outputs": [
    {
     "name": "stdout",
     "output_type": "stream",
     "text": [
      "[7, 81, 91, 94, 102, 199]\n"
     ]
    }
   ],
   "source": [
    "print(list_of_not_found_indices)"
   ]
  },
  {
   "cell_type": "code",
   "execution_count": 33,
   "metadata": {},
   "outputs": [
    {
     "data": {
      "text/html": [
       "<div>\n",
       "<style scoped>\n",
       "    .dataframe tbody tr th:only-of-type {\n",
       "        vertical-align: middle;\n",
       "    }\n",
       "\n",
       "    .dataframe tbody tr th {\n",
       "        vertical-align: top;\n",
       "    }\n",
       "\n",
       "    .dataframe thead th {\n",
       "        text-align: right;\n",
       "    }\n",
       "</style>\n",
       "<table border=\"1\" class=\"dataframe\">\n",
       "  <thead>\n",
       "    <tr style=\"text-align: right;\">\n",
       "      <th></th>\n",
       "      <th>MOUSE_UniProtKB</th>\n",
       "      <th>HUMAN_UniprotKB</th>\n",
       "    </tr>\n",
       "  </thead>\n",
       "  <tbody>\n",
       "    <tr>\n",
       "      <th>0</th>\n",
       "      <td>P61514</td>\n",
       "      <td>P61513</td>\n",
       "    </tr>\n",
       "    <tr>\n",
       "      <th>1</th>\n",
       "      <td>Q4FK74</td>\n",
       "      <td>P30049</td>\n",
       "    </tr>\n",
       "    <tr>\n",
       "      <th>2</th>\n",
       "      <td>Q01149</td>\n",
       "      <td>P08123</td>\n",
       "    </tr>\n",
       "    <tr>\n",
       "      <th>3</th>\n",
       "      <td>O88544</td>\n",
       "      <td>Q9BT78</td>\n",
       "    </tr>\n",
       "    <tr>\n",
       "      <th>4</th>\n",
       "      <td>P97310</td>\n",
       "      <td>P49736</td>\n",
       "    </tr>\n",
       "    <tr>\n",
       "      <th>...</th>\n",
       "      <td>...</td>\n",
       "      <td>...</td>\n",
       "    </tr>\n",
       "    <tr>\n",
       "      <th>301</th>\n",
       "      <td>F7CVJ5</td>\n",
       "      <td>Q09666</td>\n",
       "    </tr>\n",
       "    <tr>\n",
       "      <th>302</th>\n",
       "      <td>E9PYL9</td>\n",
       "      <td>P62913</td>\n",
       "    </tr>\n",
       "    <tr>\n",
       "      <th>303</th>\n",
       "      <td>D3YW87</td>\n",
       "      <td>Q14315</td>\n",
       "    </tr>\n",
       "    <tr>\n",
       "      <th>304</th>\n",
       "      <td>D3YVN7</td>\n",
       "      <td>P49411</td>\n",
       "    </tr>\n",
       "    <tr>\n",
       "      <th>305</th>\n",
       "      <td>A0A140T8M7</td>\n",
       "      <td>P62750</td>\n",
       "    </tr>\n",
       "  </tbody>\n",
       "</table>\n",
       "<p>306 rows × 2 columns</p>\n",
       "</div>"
      ],
      "text/plain": [
       "    MOUSE_UniProtKB HUMAN_UniprotKB\n",
       "0            P61514          P61513\n",
       "1            Q4FK74          P30049\n",
       "2            Q01149          P08123\n",
       "3            O88544          Q9BT78\n",
       "4            P97310          P49736\n",
       "..              ...             ...\n",
       "301          F7CVJ5          Q09666\n",
       "302          E9PYL9          P62913\n",
       "303          D3YW87          Q14315\n",
       "304          D3YVN7          P49411\n",
       "305      A0A140T8M7          P62750\n",
       "\n",
       "[306 rows x 2 columns]"
      ]
     },
     "execution_count": 33,
     "metadata": {},
     "output_type": "execute_result"
    }
   ],
   "source": [
    "found_orthologs_table = pd.DataFrame([[key,val] for key, val in orthologs_found.items()],columns= [FROM+\"_UniProtKB\",TO+\"_UniprotKB\"])\n",
    "found_orthologs_table"
   ]
  },
  {
   "cell_type": "code",
   "execution_count": 34,
   "metadata": {},
   "outputs": [
    {
     "data": {
      "text/html": [
       "<div>\n",
       "<style scoped>\n",
       "    .dataframe tbody tr th:only-of-type {\n",
       "        vertical-align: middle;\n",
       "    }\n",
       "\n",
       "    .dataframe tbody tr th {\n",
       "        vertical-align: top;\n",
       "    }\n",
       "\n",
       "    .dataframe thead th {\n",
       "        text-align: right;\n",
       "    }\n",
       "</style>\n",
       "<table border=\"1\" class=\"dataframe\">\n",
       "  <thead>\n",
       "    <tr style=\"text-align: right;\">\n",
       "      <th></th>\n",
       "      <th>MOUSE_UniProtKB</th>\n",
       "      <th>HUMAN_UniprotKB</th>\n",
       "    </tr>\n",
       "  </thead>\n",
       "  <tbody>\n",
       "    <tr>\n",
       "      <th>0</th>\n",
       "      <td>A0A140LJ59</td>\n",
       "      <td>NaN</td>\n",
       "    </tr>\n",
       "    <tr>\n",
       "      <th>1</th>\n",
       "      <td>D3Z1Z8</td>\n",
       "      <td>NaN</td>\n",
       "    </tr>\n",
       "    <tr>\n",
       "      <th>2</th>\n",
       "      <td>A0A0G2JDW7</td>\n",
       "      <td>NaN</td>\n",
       "    </tr>\n",
       "    <tr>\n",
       "      <th>3</th>\n",
       "      <td>A0A0A6YW67</td>\n",
       "      <td>NaN</td>\n",
       "    </tr>\n",
       "    <tr>\n",
       "      <th>4</th>\n",
       "      <td>Q9D1E6</td>\n",
       "      <td>NaN</td>\n",
       "    </tr>\n",
       "    <tr>\n",
       "      <th>5</th>\n",
       "      <td>A0A140T8K6</td>\n",
       "      <td>NaN</td>\n",
       "    </tr>\n",
       "  </tbody>\n",
       "</table>\n",
       "</div>"
      ],
      "text/plain": [
       "  MOUSE_UniProtKB  HUMAN_UniprotKB\n",
       "0      A0A140LJ59              NaN\n",
       "1          D3Z1Z8              NaN\n",
       "2      A0A0G2JDW7              NaN\n",
       "3      A0A0A6YW67              NaN\n",
       "4          Q9D1E6              NaN\n",
       "5      A0A140T8K6              NaN"
      ]
     },
     "execution_count": 34,
     "metadata": {},
     "output_type": "execute_result"
    }
   ],
   "source": [
    "not_found_orthologs_table = pd.DataFrame([[key,np.nan] for key, val in orthologs_not_found.items()],columns= [FROM+\"_UniProtKB\",TO+\"_UniprotKB\"])\n",
    "not_found_orthologs_table"
   ]
  },
  {
   "cell_type": "code",
   "execution_count": 35,
   "metadata": {},
   "outputs": [
    {
     "data": {
      "text/html": [
       "<div>\n",
       "<style scoped>\n",
       "    .dataframe tbody tr th:only-of-type {\n",
       "        vertical-align: middle;\n",
       "    }\n",
       "\n",
       "    .dataframe tbody tr th {\n",
       "        vertical-align: top;\n",
       "    }\n",
       "\n",
       "    .dataframe thead th {\n",
       "        text-align: right;\n",
       "    }\n",
       "</style>\n",
       "<table border=\"1\" class=\"dataframe\">\n",
       "  <thead>\n",
       "    <tr style=\"text-align: right;\">\n",
       "      <th></th>\n",
       "      <th>MOUSE_UniProtKB</th>\n",
       "      <th>HUMAN_UniprotKB</th>\n",
       "    </tr>\n",
       "  </thead>\n",
       "  <tbody>\n",
       "    <tr>\n",
       "      <th>0</th>\n",
       "      <td>P61514</td>\n",
       "      <td>P61513</td>\n",
       "    </tr>\n",
       "    <tr>\n",
       "      <th>1</th>\n",
       "      <td>Q4FK74</td>\n",
       "      <td>P30049</td>\n",
       "    </tr>\n",
       "    <tr>\n",
       "      <th>2</th>\n",
       "      <td>Q01149</td>\n",
       "      <td>P08123</td>\n",
       "    </tr>\n",
       "    <tr>\n",
       "      <th>3</th>\n",
       "      <td>O88544</td>\n",
       "      <td>Q9BT78</td>\n",
       "    </tr>\n",
       "    <tr>\n",
       "      <th>4</th>\n",
       "      <td>P97310</td>\n",
       "      <td>P49736</td>\n",
       "    </tr>\n",
       "    <tr>\n",
       "      <th>...</th>\n",
       "      <td>...</td>\n",
       "      <td>...</td>\n",
       "    </tr>\n",
       "    <tr>\n",
       "      <th>1</th>\n",
       "      <td>D3Z1Z8</td>\n",
       "      <td>NaN</td>\n",
       "    </tr>\n",
       "    <tr>\n",
       "      <th>2</th>\n",
       "      <td>A0A0G2JDW7</td>\n",
       "      <td>NaN</td>\n",
       "    </tr>\n",
       "    <tr>\n",
       "      <th>3</th>\n",
       "      <td>A0A0A6YW67</td>\n",
       "      <td>NaN</td>\n",
       "    </tr>\n",
       "    <tr>\n",
       "      <th>4</th>\n",
       "      <td>Q9D1E6</td>\n",
       "      <td>NaN</td>\n",
       "    </tr>\n",
       "    <tr>\n",
       "      <th>5</th>\n",
       "      <td>A0A140T8K6</td>\n",
       "      <td>NaN</td>\n",
       "    </tr>\n",
       "  </tbody>\n",
       "</table>\n",
       "<p>312 rows × 2 columns</p>\n",
       "</div>"
      ],
      "text/plain": [
       "   MOUSE_UniProtKB HUMAN_UniprotKB\n",
       "0           P61514          P61513\n",
       "1           Q4FK74          P30049\n",
       "2           Q01149          P08123\n",
       "3           O88544          Q9BT78\n",
       "4           P97310          P49736\n",
       "..             ...             ...\n",
       "1           D3Z1Z8             NaN\n",
       "2       A0A0G2JDW7             NaN\n",
       "3       A0A0A6YW67             NaN\n",
       "4           Q9D1E6             NaN\n",
       "5       A0A140T8K6             NaN\n",
       "\n",
       "[312 rows x 2 columns]"
      ]
     },
     "execution_count": 35,
     "metadata": {},
     "output_type": "execute_result"
    }
   ],
   "source": [
    "matches = pd.concat([found_orthologs_table,not_found_orthologs_table])\n",
    "matches"
   ]
  },
  {
   "cell_type": "code",
   "execution_count": 36,
   "metadata": {},
   "outputs": [],
   "source": [
    "matches.to_csv(back_path+\"05_Output/\"+experiment_name+\"/\"+experiment_name+\"_matches_uniprotKB.tsv\",sep=\"\\t\",index=None)"
   ]
  },
  {
   "cell_type": "code",
   "execution_count": null,
   "metadata": {},
   "outputs": [],
   "source": []
  }
 ],
 "metadata": {
  "kernelspec": {
   "display_name": "Python 3 (ipykernel)",
   "language": "python",
   "name": "python3"
  },
  "language_info": {
   "codemirror_mode": {
    "name": "ipython",
    "version": 3
   },
   "file_extension": ".py",
   "mimetype": "text/x-python",
   "name": "python",
   "nbconvert_exporter": "python",
   "pygments_lexer": "ipython3",
   "version": "3.10.6"
  }
 },
 "nbformat": 4,
 "nbformat_minor": 4
}
