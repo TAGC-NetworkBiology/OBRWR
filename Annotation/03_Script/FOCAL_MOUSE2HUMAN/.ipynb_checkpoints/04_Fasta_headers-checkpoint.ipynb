{
 "cells": [
  {
   "cell_type": "markdown",
   "metadata": {},
   "source": [
    "# Retrieving the fasta headers of the protein matches"
   ]
  },
  {
   "cell_type": "code",
   "execution_count": 6,
   "metadata": {},
   "outputs": [],
   "source": [
    "import Bio\n",
    "import os\n",
    "import pandas as pd\n",
    "from Bio import SeqIO"
   ]
  },
  {
   "cell_type": "code",
   "execution_count": 11,
   "metadata": {},
   "outputs": [],
   "source": [
    "experiment_name = \"MOUSE2HUMAN\"\n",
    "back_path = \"../../\"\n",
    "protein_file = \"uniprot-compressed_true_download_true_format_fasta_query__28_28prote-2022.12.14-12.44.48.99.fasta\"\n",
    "TO = \"HUMAN\""
   ]
  },
  {
   "cell_type": "code",
   "execution_count": 12,
   "metadata": {},
   "outputs": [],
   "source": [
    "with open(back_path+\"01_Reference/\"+TO+\"/\"+protein_file) as handle:\n",
    "    uniprot_TO = SeqIO.to_dict(SeqIO.parse(handle, \"fasta\"))"
   ]
  },
  {
   "cell_type": "code",
   "execution_count": 13,
   "metadata": {},
   "outputs": [],
   "source": [
    "uniprot_TO_UniProtKB_ACC = {}\n",
    "uniprot_TO_Fasta_Header = {}\n",
    "for key,val in uniprot_TO.items():\n",
    "    uniprot_TO_UniProtKB_ACC[key.split('|')[1]]=key.split('|')[2]\n",
    "    uniprot_TO_Fasta_Header[key.split('|')[1]]=val.description"
   ]
  },
  {
   "cell_type": "code",
   "execution_count": 14,
   "metadata": {},
   "outputs": [
    {
     "data": {
      "text/html": [
       "<div>\n",
       "<style scoped>\n",
       "    .dataframe tbody tr th:only-of-type {\n",
       "        vertical-align: middle;\n",
       "    }\n",
       "\n",
       "    .dataframe tbody tr th {\n",
       "        vertical-align: top;\n",
       "    }\n",
       "\n",
       "    .dataframe thead th {\n",
       "        text-align: right;\n",
       "    }\n",
       "</style>\n",
       "<table border=\"1\" class=\"dataframe\">\n",
       "  <thead>\n",
       "    <tr style=\"text-align: right;\">\n",
       "      <th></th>\n",
       "      <th>MOUSE_UniProtKB</th>\n",
       "      <th>HUMAN_UniprotKB</th>\n",
       "      <th>HUMAN_UniProtKB_ACC</th>\n",
       "      <th>HUMAN_Fasta_Header</th>\n",
       "    </tr>\n",
       "  </thead>\n",
       "  <tbody>\n",
       "    <tr>\n",
       "      <th>0</th>\n",
       "      <td>P61514</td>\n",
       "      <td>P61513</td>\n",
       "      <td>RL37A_HUMAN</td>\n",
       "      <td>sp|P61513|RL37A_HUMAN 60S ribosomal protein L3...</td>\n",
       "    </tr>\n",
       "    <tr>\n",
       "      <th>1</th>\n",
       "      <td>Q4FK74</td>\n",
       "      <td>P30049</td>\n",
       "      <td>ATPD_HUMAN</td>\n",
       "      <td>sp|P30049|ATPD_HUMAN ATP synthase subunit delt...</td>\n",
       "    </tr>\n",
       "    <tr>\n",
       "      <th>2</th>\n",
       "      <td>Q01149</td>\n",
       "      <td>P08123</td>\n",
       "      <td>CO1A2_HUMAN</td>\n",
       "      <td>sp|P08123|CO1A2_HUMAN Collagen alpha-2(I) chai...</td>\n",
       "    </tr>\n",
       "    <tr>\n",
       "      <th>3</th>\n",
       "      <td>O88544</td>\n",
       "      <td>Q9BT78</td>\n",
       "      <td>CSN4_HUMAN</td>\n",
       "      <td>sp|Q9BT78|CSN4_HUMAN COP9 signalosome complex ...</td>\n",
       "    </tr>\n",
       "    <tr>\n",
       "      <th>4</th>\n",
       "      <td>P97310</td>\n",
       "      <td>P49736</td>\n",
       "      <td>MCM2_HUMAN</td>\n",
       "      <td>sp|P49736|MCM2_HUMAN DNA replication licensing...</td>\n",
       "    </tr>\n",
       "    <tr>\n",
       "      <th>...</th>\n",
       "      <td>...</td>\n",
       "      <td>...</td>\n",
       "      <td>...</td>\n",
       "      <td>...</td>\n",
       "    </tr>\n",
       "    <tr>\n",
       "      <th>307</th>\n",
       "      <td>D3Z1Z8</td>\n",
       "      <td>NaN</td>\n",
       "      <td>NaN</td>\n",
       "      <td>NaN</td>\n",
       "    </tr>\n",
       "    <tr>\n",
       "      <th>308</th>\n",
       "      <td>A0A0G2JDW7</td>\n",
       "      <td>NaN</td>\n",
       "      <td>NaN</td>\n",
       "      <td>NaN</td>\n",
       "    </tr>\n",
       "    <tr>\n",
       "      <th>309</th>\n",
       "      <td>A0A0A6YW67</td>\n",
       "      <td>NaN</td>\n",
       "      <td>NaN</td>\n",
       "      <td>NaN</td>\n",
       "    </tr>\n",
       "    <tr>\n",
       "      <th>310</th>\n",
       "      <td>Q9D1E6</td>\n",
       "      <td>NaN</td>\n",
       "      <td>NaN</td>\n",
       "      <td>NaN</td>\n",
       "    </tr>\n",
       "    <tr>\n",
       "      <th>311</th>\n",
       "      <td>A0A140T8K6</td>\n",
       "      <td>NaN</td>\n",
       "      <td>NaN</td>\n",
       "      <td>NaN</td>\n",
       "    </tr>\n",
       "  </tbody>\n",
       "</table>\n",
       "<p>312 rows × 4 columns</p>\n",
       "</div>"
      ],
      "text/plain": [
       "    MOUSE_UniProtKB HUMAN_UniprotKB HUMAN_UniProtKB_ACC  \\\n",
       "0            P61514          P61513         RL37A_HUMAN   \n",
       "1            Q4FK74          P30049          ATPD_HUMAN   \n",
       "2            Q01149          P08123         CO1A2_HUMAN   \n",
       "3            O88544          Q9BT78          CSN4_HUMAN   \n",
       "4            P97310          P49736          MCM2_HUMAN   \n",
       "..              ...             ...                 ...   \n",
       "307          D3Z1Z8             NaN                 NaN   \n",
       "308      A0A0G2JDW7             NaN                 NaN   \n",
       "309      A0A0A6YW67             NaN                 NaN   \n",
       "310          Q9D1E6             NaN                 NaN   \n",
       "311      A0A140T8K6             NaN                 NaN   \n",
       "\n",
       "                                    HUMAN_Fasta_Header  \n",
       "0    sp|P61513|RL37A_HUMAN 60S ribosomal protein L3...  \n",
       "1    sp|P30049|ATPD_HUMAN ATP synthase subunit delt...  \n",
       "2    sp|P08123|CO1A2_HUMAN Collagen alpha-2(I) chai...  \n",
       "3    sp|Q9BT78|CSN4_HUMAN COP9 signalosome complex ...  \n",
       "4    sp|P49736|MCM2_HUMAN DNA replication licensing...  \n",
       "..                                                 ...  \n",
       "307                                                NaN  \n",
       "308                                                NaN  \n",
       "309                                                NaN  \n",
       "310                                                NaN  \n",
       "311                                                NaN  \n",
       "\n",
       "[312 rows x 4 columns]"
      ]
     },
     "execution_count": 14,
     "metadata": {},
     "output_type": "execute_result"
    }
   ],
   "source": [
    "match_table = pd.read_csv(back_path+\"05_Output/\"+experiment_name+\"/\"+experiment_name+\"_matches_uniprotKB.tsv\",sep=\"\\t\")\n",
    "match_table[TO+\"_UniProtKB_ACC\"] = match_table[TO+\"_UniprotKB\"].map(uniprot_TO_UniProtKB_ACC)\n",
    "match_table[TO+\"_Fasta_Header\"] = match_table[TO+\"_UniprotKB\"].map(uniprot_TO_Fasta_Header)\n",
    "match_table"
   ]
  },
  {
   "cell_type": "code",
   "execution_count": 15,
   "metadata": {},
   "outputs": [],
   "source": [
    "match_table.to_csv(back_path+\"05_Output/\"+experiment_name+\"/\"+experiment_name+\"_matches_annotated.tsv\",sep=\"\\t\",index=None)"
   ]
  },
  {
   "cell_type": "code",
   "execution_count": null,
   "metadata": {},
   "outputs": [],
   "source": []
  }
 ],
 "metadata": {
  "kernelspec": {
   "display_name": "Python 3 (ipykernel)",
   "language": "python",
   "name": "python3"
  },
  "language_info": {
   "codemirror_mode": {
    "name": "ipython",
    "version": 3
   },
   "file_extension": ".py",
   "mimetype": "text/x-python",
   "name": "python",
   "nbconvert_exporter": "python",
   "pygments_lexer": "ipython3",
   "version": "3.10.6"
  }
 },
 "nbformat": 4,
 "nbformat_minor": 4
}
