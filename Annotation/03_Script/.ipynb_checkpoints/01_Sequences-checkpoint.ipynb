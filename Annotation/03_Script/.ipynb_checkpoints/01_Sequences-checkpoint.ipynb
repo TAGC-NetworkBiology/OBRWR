{
 "cells": [
  {
   "cell_type": "markdown",
   "metadata": {},
   "source": [
    "# Retrieving sequences from uniprot/uniparc CANLF proteins"
   ]
  },
  {
   "cell_type": "code",
   "execution_count": 1,
   "metadata": {},
   "outputs": [],
   "source": [
    "from Bio import SeqIO\n",
    "import Bio\n",
    "import pandas as pd\n",
    "import numpy as np"
   ]
  },
  {
   "cell_type": "code",
   "execution_count": 2,
   "metadata": {},
   "outputs": [
    {
     "ename": "FileNotFoundError",
     "evalue": "[Errno 2] No such file or directory: '../01_Reference/uniprot-organism-Canis+lupus+familiaris+(Dog)+[9615].fasta'",
     "output_type": "error",
     "traceback": [
      "\u001b[0;31m---------------------------------------------------------------------------\u001b[0m",
      "\u001b[0;31mFileNotFoundError\u001b[0m                         Traceback (most recent call last)",
      "Cell \u001b[0;32mIn [2], line 1\u001b[0m\n\u001b[0;32m----> 1\u001b[0m \u001b[38;5;28;01mwith\u001b[39;00m \u001b[38;5;28mopen\u001b[39m(\u001b[38;5;124m\"\u001b[39m\u001b[38;5;124m../01_Reference/uniprot-organism-Canis+lupus+familiaris+(Dog)+[9615].fasta\u001b[39m\u001b[38;5;124m\"\u001b[39m) \u001b[38;5;28;01mas\u001b[39;00m handle:\n\u001b[1;32m      2\u001b[0m     uniprot_CANLF \u001b[38;5;241m=\u001b[39m SeqIO\u001b[38;5;241m.\u001b[39mto_dict(SeqIO\u001b[38;5;241m.\u001b[39mparse(handle, \u001b[38;5;124m\"\u001b[39m\u001b[38;5;124mfasta\u001b[39m\u001b[38;5;124m\"\u001b[39m))\n\u001b[1;32m      4\u001b[0m \u001b[38;5;28;01mwith\u001b[39;00m \u001b[38;5;28mopen\u001b[39m(\u001b[38;5;124m\"\u001b[39m\u001b[38;5;124m../01_Reference/uniparc-organism-Canis+lupus+familiaris+(Dog)+(Canis+familiaris)+\u001b[39m\u001b[38;5;124m%\u001b[39m\u001b[38;5;124m5--.fasta\u001b[39m\u001b[38;5;124m\"\u001b[39m) \u001b[38;5;28;01mas\u001b[39;00m handle:\n",
      "\u001b[0;31mFileNotFoundError\u001b[0m: [Errno 2] No such file or directory: '../01_Reference/uniprot-organism-Canis+lupus+familiaris+(Dog)+[9615].fasta'"
     ]
    }
   ],
   "source": [
    "with open(\"../01_Reference/uniprot-organism-Canis+lupus+familiaris+(Dog)+[9615].fasta\") as handle:\n",
    "    uniprot_CANLF = SeqIO.to_dict(SeqIO.parse(handle, \"fasta\"))\n",
    "    \n",
    "with open(\"../01_Reference/uniparc-organism-Canis+lupus+familiaris+(Dog)+(Canis+familiaris)+%5--.fasta\") as handle:\n",
    "    uniparc_CANLF_dict = SeqIO.to_dict(SeqIO.parse(handle, \"fasta\"))\n",
    "\n",
    "uniparc_CANLF_tab = pd.read_csv(\"../01_Reference/uniparc-organism Canis+lupus+familiaris+(Dog)+(Canis+familiaris)+%5--.tab\",sep='\\t')"
   ]
  },
  {
   "cell_type": "code",
   "execution_count": null,
   "metadata": {},
   "outputs": [],
   "source": [
    "df = pd.read_csv(\"../00_InputData/proteinGroups_Filtered.txt\",sep='\\t')\n",
    "df.head()"
   ]
  },
  {
   "cell_type": "code",
   "execution_count": null,
   "metadata": {},
   "outputs": [],
   "source": [
    "prot_in_study = {}\n",
    "for s in df[\"Majority protein IDs\"]:\n",
    "    for prot in s.split(\";\"):\n",
    "        prot_in_study[prot] = []"
   ]
  },
  {
   "cell_type": "code",
   "execution_count": null,
   "metadata": {},
   "outputs": [],
   "source": [
    "print(len(prot_in_study.keys()))\n",
    "len(prot_in_study.keys()) == len(np.unique(list(prot_in_study.keys())))"
   ]
  },
  {
   "cell_type": "markdown",
   "metadata": {},
   "source": [
    "# Uniprot"
   ]
  },
  {
   "cell_type": "code",
   "execution_count": null,
   "metadata": {},
   "outputs": [],
   "source": [
    "for el in uniprot_CANLF.keys():\n",
    "    uniprotKB_id = el.split(\"|\")[1]\n",
    "    if uniprotKB_id in prot_in_study.keys():\n",
    "        prot_in_study[uniprotKB_id] = uniprot_CANLF[el]"
   ]
  },
  {
   "cell_type": "code",
   "execution_count": null,
   "metadata": {},
   "outputs": [],
   "source": [
    "uniprot_found = {}\n",
    "uniprot_not_found = {}\n",
    "for key,val in prot_in_study.items():\n",
    "    if type(val) == Bio.SeqRecord.SeqRecord:\n",
    "        uniprot_found[key] = val\n",
    "    else:\n",
    "        uniprot_not_found[key] = []\n"
   ]
  },
  {
   "cell_type": "markdown",
   "metadata": {},
   "source": [
    "Checking how many found"
   ]
  },
  {
   "cell_type": "code",
   "execution_count": null,
   "metadata": {},
   "outputs": [],
   "source": [
    "len(uniprot_not_found)"
   ]
  },
  {
   "cell_type": "code",
   "execution_count": null,
   "metadata": {},
   "outputs": [],
   "source": [
    "len(uniprot_found)"
   ]
  },
  {
   "cell_type": "markdown",
   "metadata": {},
   "source": [
    "# Uniparc"
   ]
  },
  {
   "cell_type": "code",
   "execution_count": null,
   "metadata": {},
   "outputs": [],
   "source": [
    " - uniparc_CANLF_tab[\"UniProtKB\"].isna()"
   ]
  },
  {
   "cell_type": "code",
   "execution_count": null,
   "metadata": {},
   "outputs": [],
   "source": [
    "uniparc_CANLF_tab_id = uniparc_CANLF_tab[- uniparc_CANLF_tab[\"UniProtKB\"].isna()]\n",
    "uniparc_CANLF_tab_id"
   ]
  },
  {
   "cell_type": "code",
   "execution_count": null,
   "metadata": {},
   "outputs": [],
   "source": [
    "uniparc_CANLF = {}\n",
    "for i in uniparc_CANLF_tab_id.index :\n",
    "    for prot in uniparc_CANLF_tab_id['UniProtKB'][i].split(\";\"):\n",
    "        prot_id = prot.split(\".\")[0].strip()\n",
    "        tmp_seq = Bio.SeqRecord.SeqRecord(id = prot_id,seq = uniparc_CANLF_tab_id['Sequence'][i])\n",
    "        uniparc_CANLF[prot_id] = tmp_seq"
   ]
  },
  {
   "cell_type": "code",
   "execution_count": null,
   "metadata": {},
   "outputs": [],
   "source": [
    "uniparc_found = {}\n",
    "uniparc_not_found = {}\n",
    "for key in uniprot_not_found.keys():\n",
    "    if key in uniparc_CANLF:\n",
    "        uniparc_found[key] = uniparc_CANLF[key]\n",
    "    else:\n",
    "        uniparc_not_found[key] = []"
   ]
  },
  {
   "cell_type": "code",
   "execution_count": null,
   "metadata": {},
   "outputs": [],
   "source": [
    "for el in uniparc_not_found.keys():\n",
    "    print(el)"
   ]
  },
  {
   "cell_type": "code",
   "execution_count": null,
   "metadata": {},
   "outputs": [],
   "source": [
    "len(uniparc_found)"
   ]
  },
  {
   "cell_type": "code",
   "execution_count": null,
   "metadata": {},
   "outputs": [],
   "source": [
    "len(uniparc_not_found)"
   ]
  },
  {
   "cell_type": "markdown",
   "metadata": {},
   "source": [
    "# Saving as pickle and as fasta"
   ]
  },
  {
   "cell_type": "code",
   "execution_count": null,
   "metadata": {},
   "outputs": [],
   "source": [
    "uniprot_found.update(uniparc_found)"
   ]
  },
  {
   "cell_type": "code",
   "execution_count": null,
   "metadata": {},
   "outputs": [],
   "source": [
    "len(uniprot_found)"
   ]
  },
  {
   "cell_type": "code",
   "execution_count": null,
   "metadata": {},
   "outputs": [],
   "source": [
    "import pickle"
   ]
  },
  {
   "cell_type": "code",
   "execution_count": null,
   "metadata": {},
   "outputs": [],
   "source": [
    "with open('../05_Output/sequences.pickle', 'wb') as f:\n",
    "    pickle.dump(uniprot_found, f, pickle.HIGHEST_PROTOCOL)"
   ]
  },
  {
   "cell_type": "code",
   "execution_count": null,
   "metadata": {},
   "outputs": [],
   "source": [
    "with open(\"../05_Output/sequences.fasta\", \"w\") as output_handle:\n",
    "    SeqIO.write(uniprot_found, output_handle, \"fasta\")\n"
   ]
  }
 ],
 "metadata": {
  "kernelspec": {
   "display_name": "Python 3 (ipykernel)",
   "language": "python",
   "name": "python3"
  },
  "language_info": {
   "codemirror_mode": {
    "name": "ipython",
    "version": 3
   },
   "file_extension": ".py",
   "mimetype": "text/x-python",
   "name": "python",
   "nbconvert_exporter": "python",
   "pygments_lexer": "ipython3",
   "version": "3.10.6"
  }
 },
 "nbformat": 4,
 "nbformat_minor": 4
}
