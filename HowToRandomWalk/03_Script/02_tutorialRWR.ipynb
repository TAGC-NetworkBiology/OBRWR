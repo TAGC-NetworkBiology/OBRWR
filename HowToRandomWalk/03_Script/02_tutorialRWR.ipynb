{
 "cells": [
  {
   "cell_type": "markdown",
   "id": "214fac39-208a-4163-953d-c3706b8fc336",
   "metadata": {},
   "source": [
    "# How to Random Walk with Restart\n",
    "a short tutorial about Random Walks (and variants of), part 2.\n",
    "\n",
    "---\n",
    "\n",
    "In this second tutorial we will be discussing the specificities of random walk with restart.\n",
    "In our terminology, the PageRank algorithm is a specific random walk with restart where the walk can restart at any node with equi-probability between the nodes.\n"
   ]
  },
  {
   "cell_type": "code",
   "execution_count": null,
   "id": "ae772f2d-025b-4e6a-a82a-1ad2fe9b58f3",
   "metadata": {},
   "outputs": [],
   "source": []
  }
 ],
 "metadata": {
  "kernelspec": {
   "display_name": "Python 3 (ipykernel)",
   "language": "python",
   "name": "python3"
  },
  "language_info": {
   "codemirror_mode": {
    "name": "ipython",
    "version": 3
   },
   "file_extension": ".py",
   "mimetype": "text/x-python",
   "name": "python",
   "nbconvert_exporter": "python",
   "pygments_lexer": "ipython3",
   "version": "3.10.6"
  }
 },
 "nbformat": 4,
 "nbformat_minor": 5
}
