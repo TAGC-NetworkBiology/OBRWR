{
 "cells": [
  {
   "cell_type": "code",
   "execution_count": 1,
   "id": "7ba12c38-4612-4c8f-bd1e-9f1b13a566f6",
   "metadata": {},
   "outputs": [],
   "source": [
    "import obrwr"
   ]
  },
  {
   "cell_type": "code",
   "execution_count": 3,
   "id": "2fc2a707-1bcf-45fe-a347-168d5cd388cd",
   "metadata": {},
   "outputs": [],
   "source": [
    "import highspy as hp"
   ]
  },
  {
   "cell_type": "code",
   "execution_count": 4,
   "id": "c2cc4427-112a-4e4a-af7a-f532b3f74f40",
   "metadata": {},
   "outputs": [],
   "source": [
    "import gurobipy as gp"
   ]
  },
  {
   "cell_type": "code",
   "execution_count": 51,
   "id": "193e81be-4539-439c-b1d4-135357989c3f",
   "metadata": {},
   "outputs": [],
   "source": [
    "import numpy as np"
   ]
  },
  {
   "cell_type": "code",
   "execution_count": 58,
   "id": "4a4159f1-dd82-494c-b4d2-aa58715e20ef",
   "metadata": {},
   "outputs": [
    {
     "data": {
      "text/plain": [
       "<gurobi.Constr *Awaiting Model Update*>"
      ]
     },
     "execution_count": 58,
     "metadata": {},
     "output_type": "execute_result"
    }
   ],
   "source": [
    "from gurobipy import GRB\n",
    "\n",
    "# Create a new model\n",
    "m = gp.Model(\"bilinear\")\n",
    "\n",
    "# Create variables\n",
    "x = m.addMVar(shape=2,name=\"x\")\n",
    "y = m.addVar(name=\"y\")\n",
    "z = m.addVar(name=\"z\")\n",
    "\n",
    "# Set objective: maximize x\n",
    "m.setObjective(np.array([1,1])@x, GRB.MAXIMIZE)\n",
    "\n",
    "# Add linear constraint: x + y + z <= 10\n",
    "m.addConstr(x[0] + y + z <= 10, \"c0\")\n",
    "\n",
    "# Add bilinear equality constraint: x * z + y * z == 1\n",
    "m.addConstr(x[1] + z + 2*y == 1, \"linear1\")\n"
   ]
  },
  {
   "cell_type": "code",
   "execution_count": 59,
   "id": "9909924b-db61-4d81-a0bb-85b54737dc20",
   "metadata": {},
   "outputs": [],
   "source": [
    "m.write(\"test.mps\")"
   ]
  },
  {
   "cell_type": "code",
   "execution_count": 60,
   "id": "5c7f69fe-1502-494d-96b4-a58307194fc1",
   "metadata": {},
   "outputs": [],
   "source": [
    "m1 = hp.Highs()"
   ]
  },
  {
   "cell_type": "code",
   "execution_count": 61,
   "id": "8306c795-a7cc-40c7-9872-0808df714367",
   "metadata": {},
   "outputs": [
    {
     "name": "stdout",
     "output_type": "stream",
     "text": [
      "Running HiGHS 1.3.1 [date: 2022-11-09, git hash: 1970b420e]\n",
      "Copyright (c) 2022 ERGO-Code under MIT licence terms\n"
     ]
    },
    {
     "data": {
      "text/plain": [
       "<HighsStatus.kOk: 0>"
      ]
     },
     "execution_count": 61,
     "metadata": {},
     "output_type": "execute_result"
    }
   ],
   "source": [
    "m1.readModel(\"test.mps\")"
   ]
  },
  {
   "cell_type": "code",
   "execution_count": 62,
   "id": "114e179c-22b3-42be-a146-3dcaee828bdb",
   "metadata": {},
   "outputs": [
    {
     "data": {
      "text/plain": [
       "<HighsStatus.kOk: 0>"
      ]
     },
     "execution_count": 62,
     "metadata": {},
     "output_type": "execute_result"
    }
   ],
   "source": [
    "m1.writeModel(\"test_highs.mps\")"
   ]
  },
  {
   "cell_type": "code",
   "execution_count": 63,
   "id": "511acca3-1b75-4bab-8c8c-5c7638e17499",
   "metadata": {},
   "outputs": [
    {
     "name": "stdout",
     "output_type": "stream",
     "text": [
      "Presolving model\n",
      "0 rows, 0 cols, 0 nonzeros\n",
      "0 rows, 0 cols, 0 nonzeros\n",
      "Presolve : Reductions: rows 0(-2); columns 0(-4); elements 0(-6) - Reduced to empty\n",
      "Solving the original LP from the solution after postsolve\n",
      "Model   status      : Optimal\n",
      "Objective value     :  1.1000000000e+01\n",
      "HiGHS run time      :          0.00\n"
     ]
    },
    {
     "data": {
      "text/plain": [
       "<HighsStatus.kOk: 0>"
      ]
     },
     "execution_count": 63,
     "metadata": {},
     "output_type": "execute_result"
    }
   ],
   "source": [
    "m1.run()"
   ]
  },
  {
   "cell_type": "code",
   "execution_count": 16,
   "id": "ac68804a-c925-44ad-bf09-050b63c75fba",
   "metadata": {},
   "outputs": [
    {
     "data": {
      "text/plain": [
       "<highspy.highs_bindings.HighsSolution at 0x7f2bd7527c70>"
      ]
     },
     "execution_count": 16,
     "metadata": {},
     "output_type": "execute_result"
    }
   ],
   "source": [
    "m1.getSolution()"
   ]
  },
  {
   "cell_type": "code",
   "execution_count": 17,
   "id": "10826b04-e05d-431b-973a-f9f5ba9365dd",
   "metadata": {},
   "outputs": [
    {
     "data": {
      "text/plain": [
       "<highspy.highs_bindings.HighsInfo at 0x7f2bd662ca30>"
      ]
     },
     "execution_count": 17,
     "metadata": {},
     "output_type": "execute_result"
    }
   ],
   "source": [
    "m1.getInfo()"
   ]
  },
  {
   "cell_type": "code",
   "execution_count": 18,
   "id": "f0d76e1c-c836-4975-b55d-50f8361072c8",
   "metadata": {},
   "outputs": [
    {
     "data": {
      "text/plain": [
       "<HighsStatus.kOk: 0>"
      ]
     },
     "execution_count": 18,
     "metadata": {},
     "output_type": "execute_result"
    }
   ],
   "source": [
    "m1.writeModel(\"test_solved.mps\")"
   ]
  },
  {
   "cell_type": "code",
   "execution_count": 28,
   "id": "c4782a2c-4d25-4ad7-a76c-ebd6d45e5333",
   "metadata": {},
   "outputs": [],
   "source": [
    "h = m1."
   ]
  },
  {
   "cell_type": "code",
   "execution_count": 27,
   "id": "a426d3e7-05a8-4ea3-b1ae-185a4a38c0dd",
   "metadata": {},
   "outputs": [
    {
     "data": {
      "text/plain": [
       "<MatrixFormat.kColwise: 1>"
      ]
     },
     "execution_count": 27,
     "metadata": {},
     "output_type": "execute_result"
    }
   ],
   "source": [
    "h."
   ]
  },
  {
   "cell_type": "code",
   "execution_count": 64,
   "id": "43a93613-4e14-435a-bf4e-66c0db84fffa",
   "metadata": {},
   "outputs": [],
   "source": [
    "m1.writeSolution(\"solution.sol\",0)"
   ]
  },
  {
   "cell_type": "code",
   "execution_count": 44,
   "id": "b54fbf3c-268d-42e4-b3da-78547f828ed5",
   "metadata": {},
   "outputs": [],
   "source": [
    "from pyomo.environ import *"
   ]
  },
  {
   "cell_type": "code",
   "execution_count": 38,
   "id": "9a2da585-b78b-422e-a350-0a6e8934075f",
   "metadata": {},
   "outputs": [
    {
     "ename": "SyntaxError",
     "evalue": "invalid syntax (444721463.py, line 1)",
     "output_type": "error",
     "traceback": [
      "\u001b[0;36m  Cell \u001b[0;32mIn [38], line 1\u001b[0;36m\u001b[0m\n\u001b[0;31m    pyomo help --solvers\u001b[0m\n\u001b[0m          ^\u001b[0m\n\u001b[0;31mSyntaxError\u001b[0m\u001b[0;31m:\u001b[0m invalid syntax\n"
     ]
    }
   ],
   "source": [
    "pyomo help --solvers"
   ]
  },
  {
   "cell_type": "code",
   "execution_count": 46,
   "id": "e392b941-d973-4264-ad79-6c8f1938be89",
   "metadata": {},
   "outputs": [
    {
     "data": {
      "text/plain": [
       "<pyomo.solvers.plugins.solvers.ASL.ASL at 0x7f2bd1d9d180>"
      ]
     },
     "execution_count": 46,
     "metadata": {},
     "output_type": "execute_result"
    }
   ],
   "source": [
    "SolverFactory('highs')"
   ]
  },
  {
   "cell_type": "code",
   "execution_count": 49,
   "id": "3d3581a1-25fb-48e2-883d-d385ed20ce24",
   "metadata": {},
   "outputs": [
    {
     "name": "stdout",
     "output_type": "stream",
     "text": [
      "ERROR: Solver (asl) returned non-zero return code (255)\n",
      "ERROR: Solver log: ERROR:   Error parsing options: Option ‘A’ does not exist\n"
     ]
    },
    {
     "ename": "ApplicationError",
     "evalue": "Solver (asl) did not exit normally",
     "output_type": "error",
     "traceback": [
      "\u001b[0;31m---------------------------------------------------------------------------\u001b[0m",
      "\u001b[0;31mApplicationError\u001b[0m                          Traceback (most recent call last)",
      "Cell \u001b[0;32mIn [49], line 17\u001b[0m\n\u001b[1;32m     14\u001b[0m model\u001b[38;5;241m.\u001b[39mlaborB \u001b[38;5;241m=\u001b[39m Constraint(expr \u001b[38;5;241m=\u001b[39m \u001b[38;5;241m2\u001b[39m\u001b[38;5;241m*\u001b[39mmodel\u001b[38;5;241m.\u001b[39mx \u001b[38;5;241m<\u001b[39m\u001b[38;5;241m=\u001b[39m \u001b[38;5;241m100\u001b[39m)\n\u001b[1;32m     16\u001b[0m \u001b[38;5;66;03m# solve\u001b[39;00m\n\u001b[0;32m---> 17\u001b[0m SolverFactory(\u001b[38;5;124m'\u001b[39m\u001b[38;5;124mhighs\u001b[39m\u001b[38;5;124m'\u001b[39m)\u001b[38;5;241m.\u001b[39msolve(model)\u001b[38;5;241m.\u001b[39mwrite()\n",
      "File \u001b[0;32m/opt/conda/lib/python3.10/site-packages/pyomo/opt/base/solvers.py:596\u001b[0m, in \u001b[0;36mOptSolver.solve\u001b[0;34m(self, *args, **kwds)\u001b[0m\n\u001b[1;32m    594\u001b[0m     \u001b[38;5;28;01melif\u001b[39;00m \u001b[38;5;28mhasattr\u001b[39m(_status, \u001b[38;5;124m'\u001b[39m\u001b[38;5;124mlog\u001b[39m\u001b[38;5;124m'\u001b[39m) \u001b[38;5;129;01mand\u001b[39;00m _status\u001b[38;5;241m.\u001b[39mlog:\n\u001b[1;32m    595\u001b[0m         logger\u001b[38;5;241m.\u001b[39merror(\u001b[38;5;124m\"\u001b[39m\u001b[38;5;124mSolver log:\u001b[39m\u001b[38;5;130;01m\\n\u001b[39;00m\u001b[38;5;124m\"\u001b[39m \u001b[38;5;241m+\u001b[39m \u001b[38;5;28mstr\u001b[39m(_status\u001b[38;5;241m.\u001b[39mlog))\n\u001b[0;32m--> 596\u001b[0m     \u001b[38;5;28;01mraise\u001b[39;00m ApplicationError(\n\u001b[1;32m    597\u001b[0m         \u001b[38;5;124m\"\u001b[39m\u001b[38;5;124mSolver (\u001b[39m\u001b[38;5;132;01m%s\u001b[39;00m\u001b[38;5;124m) did not exit normally\u001b[39m\u001b[38;5;124m\"\u001b[39m \u001b[38;5;241m%\u001b[39m \u001b[38;5;28mself\u001b[39m\u001b[38;5;241m.\u001b[39mname)\n\u001b[1;32m    598\u001b[0m solve_completion_time \u001b[38;5;241m=\u001b[39m time\u001b[38;5;241m.\u001b[39mtime()\n\u001b[1;32m    599\u001b[0m \u001b[38;5;28;01mif\u001b[39;00m \u001b[38;5;28mself\u001b[39m\u001b[38;5;241m.\u001b[39m_report_timing:\n",
      "\u001b[0;31mApplicationError\u001b[0m: Solver (asl) did not exit normally"
     ]
    }
   ],
   "source": [
    "model = ConcreteModel()\n",
    "\n",
    "# declare decision variables\n",
    "model.x = Var(domain=NonNegativeReals)\n",
    "\n",
    "# declare objective\n",
    "model.profit = Objective(\n",
    "    expr = 40*model.x,\n",
    "    sense = maximize)\n",
    "\n",
    "# declare constraints\n",
    "model.demand = Constraint(expr = model.x <= 40)\n",
    "model.laborA = Constraint(expr = model.x <= 80)\n",
    "model.laborB = Constraint(expr = 2*model.x <= 100)\n",
    "\n",
    "# solve\n",
    "SolverFactory('highs').solve(model).write()"
   ]
  },
  {
   "cell_type": "code",
   "execution_count": null,
   "id": "a0f62c96-07aa-4e02-be78-1829b940f78c",
   "metadata": {},
   "outputs": [],
   "source": [
    "m1.readSolution"
   ]
  },
  {
   "cell_type": "code",
   "execution_count": 65,
   "id": "93f5c467-85f7-4fbb-8728-5eda671da316",
   "metadata": {},
   "outputs": [],
   "source": [
    "s = m1.getSolution()"
   ]
  },
  {
   "cell_type": "code",
   "execution_count": 68,
   "id": "7e63014f-efcc-46f6-976c-27601888687c",
   "metadata": {},
   "outputs": [
    {
     "data": {
      "text/plain": [
       "True"
      ]
     },
     "execution_count": 68,
     "metadata": {},
     "output_type": "execute_result"
    }
   ],
   "source": [
    "s.value_valid"
   ]
  },
  {
   "cell_type": "code",
   "execution_count": 76,
   "id": "5d7e2232-0785-4048-aec7-d38bd9e98113",
   "metadata": {},
   "outputs": [],
   "source": [
    "mh = m1.getModel()"
   ]
  },
  {
   "cell_type": "code",
   "execution_count": 77,
   "id": "09c24601-7dbd-41f5-9f12-49495021d055",
   "metadata": {},
   "outputs": [
    {
     "data": {
      "text/plain": [
       "['x[0]', 'x[1]', 'y', 'z']"
      ]
     },
     "execution_count": 77,
     "metadata": {},
     "output_type": "execute_result"
    }
   ],
   "source": [
    "mh.lp_.col_names_"
   ]
  },
  {
   "cell_type": "code",
   "execution_count": 79,
   "id": "19e0dc6e-afc6-4b3d-94f1-14411de2d2ea",
   "metadata": {},
   "outputs": [],
   "source": [
    "s = m1.readSolution(\"solution.sol\",0)"
   ]
  },
  {
   "cell_type": "code",
   "execution_count": 80,
   "id": "66a65ff1-c516-4ec4-80f0-3f1a693894c0",
   "metadata": {},
   "outputs": [
    {
     "data": {
      "text/plain": [
       "<HighsStatus.kOk: 0>"
      ]
     },
     "execution_count": 80,
     "metadata": {},
     "output_type": "execute_result"
    }
   ],
   "source": [
    "s"
   ]
  },
  {
   "cell_type": "code",
   "execution_count": 81,
   "id": "ea0ec7c3-71ef-4227-9029-ac1906ff1490",
   "metadata": {},
   "outputs": [],
   "source": [
    "import pyomo.environ as pyo"
   ]
  },
  {
   "cell_type": "code",
   "execution_count": 82,
   "id": "be419888-434a-4f27-a537-fc7484fbb100",
   "metadata": {},
   "outputs": [
    {
     "data": {
      "text/plain": [
       "<pyomo.core.base.var.AbstractScalarVar at 0x7f2bd001db60>"
      ]
     },
     "execution_count": 82,
     "metadata": {},
     "output_type": "execute_result"
    }
   ],
   "source": []
  },
  {
   "cell_type": "code",
   "execution_count": 141,
   "id": "cf2c84e2-cc17-4ab8-bb24-a70ff341312e",
   "metadata": {},
   "outputs": [],
   "source": [
    "m = pyo.ConcreteModel()\n",
    "m.nVars = pyo.Param(initialize=1)"
   ]
  },
  {
   "cell_type": "code",
   "execution_count": 142,
   "id": "b0df0352-4409-4c7d-92a9-c1bd89d2225c",
   "metadata": {},
   "outputs": [],
   "source": [
    "m.N = pyo.RangeSet(0,m.nVars)"
   ]
  },
  {
   "cell_type": "code",
   "execution_count": 143,
   "id": "83be1176-0f0d-4d93-8fea-9c23997bca12",
   "metadata": {},
   "outputs": [],
   "source": [
    "m.x = pyo.Var(pyo.RangeSet(0,1),domain=pyo.NonNegativeReals,bounds=lambda i : (0,10),initialize=lambda i : 1)"
   ]
  },
  {
   "cell_type": "code",
   "execution_count": 144,
   "id": "1897656f-bcae-4a87-815f-609c05603e0a",
   "metadata": {},
   "outputs": [],
   "source": [
    "def obj_rule(model):\n",
    "    return sum"
   ]
  },
  {
   "cell_type": "code",
   "execution_count": 145,
   "id": "d56c52a2-d070-42f0-8464-638e178a359a",
   "metadata": {},
   "outputs": [],
   "source": [
    "M = np.array([[1,0],[0,2]])"
   ]
  },
  {
   "cell_type": "code",
   "execution_count": 146,
   "id": "fdcd1800-0f60-4f19-adc0-7e0471edf566",
   "metadata": {},
   "outputs": [
    {
     "data": {
      "text/plain": [
       "1"
      ]
     },
     "execution_count": 146,
     "metadata": {},
     "output_type": "execute_result"
    }
   ],
   "source": [
    "M[0,0]"
   ]
  },
  {
   "cell_type": "code",
   "execution_count": 147,
   "id": "b501c383-cc01-4ce5-861e-6865075911ee",
   "metadata": {},
   "outputs": [],
   "source": [
    "m.L = pyo.Param(m.N,initialize=lambda m,i: M[i,i])"
   ]
  },
  {
   "cell_type": "code",
   "execution_count": 151,
   "id": "9417914a-cad7-4c3b-8308-f9973cca8084",
   "metadata": {},
   "outputs": [],
   "source": [
    "m.obj1 = pyo.Objective(rule=lambda m : pyo.summation(m.L,m.x))"
   ]
  },
  {
   "cell_type": "code",
   "execution_count": 152,
   "id": "7c3cfe76-a8d8-4d70-9640-f3476bd6e032",
   "metadata": {},
   "outputs": [],
   "source": [
    "m.constr = pyo.Constraint(rule=lambda m:pyo.summation(m.x) == 1) "
   ]
  },
  {
   "cell_type": "code",
   "execution_count": null,
   "id": "a67236af-e0a6-4826-b699-a5bf2989cf61",
   "metadata": {},
   "outputs": [],
   "source": [
    "pyo.summation("
   ]
  }
 ],
 "metadata": {
  "kernelspec": {
   "display_name": "Python 3 (ipykernel)",
   "language": "python",
   "name": "python3"
  },
  "language_info": {
   "codemirror_mode": {
    "name": "ipython",
    "version": 3
   },
   "file_extension": ".py",
   "mimetype": "text/x-python",
   "name": "python",
   "nbconvert_exporter": "python",
   "pygments_lexer": "ipython3",
   "version": "3.8.10"
  }
 },
 "nbformat": 4,
 "nbformat_minor": 5
}
