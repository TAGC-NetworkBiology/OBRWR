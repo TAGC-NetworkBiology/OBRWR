{
 "cells": [
  {
   "cell_type": "code",
   "execution_count": null,
   "id": "d0b126f1",
   "metadata": {},
   "outputs": [],
   "source": [
    "import numpy as np\n",
    "import scipy as sp\n",
    "import pandas as pd\n",
    "import umap\n",
    "import seaborn as sns\n",
    "import matplotlib.pyplot as plt\n",
    "from sklearn.decomposition import PCA\n",
    "import matplotlib\n",
    "matplotlib.rcParams.update({'font.size': 10})\n",
    "matplotlib.rcParams['lines.markersize'] = 10\n",
    "\n",
    "from mpl_toolkits.mplot3d import Axes3D\n",
    "%matplotlib inline\n",
    "matplotlib.rcParams[\"figure.figsize\"] = (5,5)"
   ]
  },
  {
   "cell_type": "code",
   "execution_count": 2,
   "id": "0e3d7413-2d4e-4248-8b32-4b714a485a49",
   "metadata": {},
   "outputs": [],
   "source": [
    "data_folder = \"../00_InputData\"\n",
    "output_folder = \"../05_Output\"\n",
    "file_name = \"3old+4old_IgGpos_Normed_Log\""
   ]
  },
  {
   "cell_type": "code",
   "execution_count": null,
   "id": "b9ca341e",
   "metadata": {},
   "outputs": [],
   "source": [
    "names = pd.read_csv(\"../00_InputData/names.txt\",sep=\" \",header=None)\n",
    "N1 = names[0][0]\n",
    "N2 = names[1][0]"
   ]
  },
  {
   "cell_type": "code",
   "execution_count": null,
   "id": "72ab1f55",
   "metadata": {},
   "outputs": [],
   "source": [
    "df = pd.read_csv(output_folder + \"/02_IntermediaryFiles/\"  + file_name +\"_MLMcorrected.tsv\",sep='\\t')\n",
    "df"
   ]
  },
  {
   "cell_type": "code",
   "execution_count": null,
   "id": "e2f99736",
   "metadata": {},
   "outputs": [],
   "source": [
    "%matplotlib inline\n",
    "matplotlib.rcParams[\"figure.figsize\"] = (15,5)\n",
    "f = plt.Figure()\n",
    "df[df.columns[2:]].boxplot(rot=90)\n",
    "f.set_tight_layout(True)\n",
    "plt.close(f)"
   ]
  },
  {
   "cell_type": "code",
   "execution_count": null,
   "id": "5b703d9b",
   "metadata": {},
   "outputs": [],
   "source": [
    "X_CIBN = df[df.columns[2:11]].T\n",
    "c_CIBN_REP = np.concatenate([[sns.color_palette(\"Reds\")[1+2*i] for i in range(3)] for _ in range(3)])\n",
    "c_CIBN_TIME = np.concatenate([[sns.color_palette(\"Blues\")[1+2*i] for _ in range(3)] for i in range(3)])\n",
    "\n",
    "X_OS = df[df.columns[11:20]].T\n",
    "c_OS_REP = np.concatenate([[sns.color_palette(\"Purples\")[1+2*i] for i in range(3)] for _ in range(3)])\n",
    "c_OS_TIME = np.concatenate([[sns.color_palette(\"Greens\")[1+2*i] for _ in range(3)] for i in range(3)])\n",
    "\n",
    "X_WHOLE = pd.concat([X_CIBN,X_OS])\n",
    "c_WHOLE_REP = np.concatenate([c_CIBN_REP,c_OS_REP])\n",
    "X_WHOLE[X_WHOLE.columns[1:]]\n",
    "c_WHOLE_TIME = np.concatenate([c_CIBN_TIME,c_OS_TIME])"
   ]
  },
  {
   "cell_type": "code",
   "execution_count": null,
   "id": "c0c5b344",
   "metadata": {},
   "outputs": [],
   "source": [
    "pca = PCA()\n",
    "\n",
    "pca.fit(X_CIBN)\n",
    "X_CIBN_PCA = pca.transform(X_CIBN)\n",
    "\n",
    "pca.fit(X_OS)\n",
    "X_OS_PCA = pca.transform(X_OS)"
   ]
  },
  {
   "cell_type": "code",
   "execution_count": null,
   "id": "53e45d95",
   "metadata": {},
   "outputs": [],
   "source": [
    "f = plt.figure(figsize=(10, 10))\n",
    "f.suptitle(\"PCA after batch effect\\n correction by MLM\")\n",
    "ax1 = plt.subplot(2,2,1, title = \"Replicate coloring\\n OSCIBN\" )\n",
    "ax2 = plt.subplot(2,2,2, title = \"Time coloring\\n OSCIBN\")\n",
    "ax3 = plt.subplot(2,2,3, title = \"Replicate coloring\\n OS\")\n",
    "ax4 = plt.subplot(2,2,4, title = \"Time coloring\\n OS\")\n",
    "axes = [ax1, ax2, ax3, ax4]\n",
    "f.tight_layout()\n",
    "\n",
    "labels = [\"R1_\"+N1,\"R2_\"+N1,\"R3_\"+N1]\n",
    "for i in range(3):\n",
    "    print([3*k + i for k in range(3)])\n",
    "    ax1.scatter([x[0] for x in X_CIBN_PCA[[3*k + i for k in range(3)]]], [x[1] for x in X_CIBN_PCA[[3*k + i for k in range(3)]]], c=[sns.color_palette(\"Reds\")[1+2*i] for _ in range(3)], label = labels[i])\n",
    "ax1.legend()\n",
    "\n",
    "ax2.scatter([x[0] for x in X_CIBN_PCA[:3]], [x[1] for x in X_CIBN_PCA[:3]], c=[sns.color_palette(\"Blues\")[1] for _ in range(3)], label = 't0_CIBN')\n",
    "ax2.scatter([x[0] for x in X_CIBN_PCA[3:6]], [x[1] for x in X_CIBN_PCA[3:6]], c=[sns.color_palette(\"Blues\")[3] for _ in range(3)], label = 't5_CIBN')\n",
    "ax2.scatter([x[0] for x in X_CIBN_PCA[6:]], [x[1] for x in X_CIBN_PCA[6:]], c=[sns.color_palette(\"Blues\")[5] for _ in range(3)], label = 't20_CIBN')\n",
    "ax2.legend()\n",
    "\n",
    "labels = [\"R1_\"+N2,\"R2_\"+N2,\"R3_\"+N2]\n",
    "for i in range(3):\n",
    "    print([3*k + i for k in range(3)])\n",
    "    ax3.scatter([x[0] for x in X_OS_PCA[[3*k + i for k in range(3)]]], [x[1] for x in X_OS_PCA[[3*k + i for k in range(3)]]], c=[sns.color_palette(\"Purples\")[1+2*i] for _ in range(3)], label = labels[i])\n",
    "ax3.legend()\n",
    "\n",
    "ax4.scatter([x[0] for x in X_OS_PCA[:3]], [x[1] for x in X_OS_PCA[:3]], c=[sns.color_palette(\"Greens\")[1] for _ in range(3)], label = 't0_OS')\n",
    "ax4.scatter([x[0] for x in X_OS_PCA[3:6]], [x[1] for x in X_OS_PCA[3:6]], c=[sns.color_palette(\"Greens\")[3] for _ in range(3)], label = 't5_OS')\n",
    "ax4.scatter([x[0] for x in X_OS_PCA[6:]], [x[1] for x in X_OS_PCA[6:]], c=[sns.color_palette(\"Greens\")[5] for _ in range(3)], label = 't20_OS')\n",
    "ax4.legend()\n"
   ]
  },
  {
   "cell_type": "markdown",
   "id": "537e09f4",
   "metadata": {},
   "source": [
    "# Whole dataset PCA"
   ]
  },
  {
   "cell_type": "code",
   "execution_count": null,
   "id": "22d0afef",
   "metadata": {},
   "outputs": [],
   "source": [
    "pca.fit(X_WHOLE)\n",
    "X_WHOLE_PCA = pca.transform(X_WHOLE)"
   ]
  },
  {
   "cell_type": "code",
   "execution_count": null,
   "id": "199fc214",
   "metadata": {},
   "outputs": [],
   "source": [
    "%matplotlib inline\n",
    "matplotlib.rcParams[\"figure.figsize\"] = (10,5)\n",
    "f = plt.figure()\n",
    "\n",
    "ax1 = f.add_subplot(1,2,1)\n",
    "ax2 = f.add_subplot(1,2,2)\n",
    "\n",
    "ax1.set_title('PCA of whole dataset, replicates colored')\n",
    "labels = [N1+\"_R1\",N1+\"_R2\",N1+\"_R3\",N2+\"_R1\",N2+\"_R2\",N2+\"_R3\"]\n",
    "for i in range(2):\n",
    "    for j in range(3):\n",
    "        TMP = X_WHOLE_PCA[[9*i + 3*k + j for k in range(3)]]\n",
    "        c_TMP = c_WHOLE_REP[[9*i + 3*k + j for k in range(3)]]\n",
    "        ax1.scatter([x[0] for x in TMP], [x[1] for x in TMP], c=c_TMP,label=labels[3*i+j])\n",
    "ax1.legend()\n",
    "\n",
    "time_means = []\n",
    "for i in range(6):\n",
    "        time_means.append(np.mean(X_WHOLE_PCA[3*i:3*(i+1)],axis=0)[:2])\n",
    "time_means\n",
    "\n",
    "ax2.set_title('PCA of whole dataset, time colored')\n",
    "labels = [\"t0_\"+N1,\"t5_\"+N1,\"t20_\"+N1,\"t0_\"+N2,\"t5_\"+N2,\"t20_\"+N2]\n",
    "for i in range(6):\n",
    "    ax2.scatter([x[0] for x in X_WHOLE_PCA[3*i:3*(i+1)]], [x[1] for x in X_WHOLE_PCA[3*i:3*(i+1)]], c=c_WHOLE_TIME[3*i:3*(i+1)], label=labels[i])\n",
    "ax2.plot([t[0] for t in time_means[:3]],[t[1] for t in time_means[:3]], lw = 5, c = sns.color_palette(\"Blues\")[3])\n",
    "ax2.plot([t[0] for t in time_means[3:]],[t[1] for t in time_means[3:]], lw = 5, c = sns.color_palette(\"Greens\")[3])\n",
    "ax2.arrow(time_means[1][0],time_means[1][1],time_means[2][0] - time_means[1][0],time_means[2][1] - time_means[1][1], lw = 5,head_width=0.3,color = sns.color_palette(\"Blues\")[3])\n",
    "ax2.arrow(time_means[4][0],time_means[4][1],time_means[5][0] - time_means[4][0],time_means[5][1] - time_means[4][1], lw = 5,head_width=0.3,color = sns.color_palette(\"Greens\")[3])\n",
    "ax2.legend()\n",
    "plt.show()"
   ]
  },
  {
   "cell_type": "markdown",
   "id": "6ba9945b",
   "metadata": {},
   "source": [
    "# Explained variance analysis"
   ]
  },
  {
   "cell_type": "code",
   "execution_count": null,
   "id": "6a3d486e",
   "metadata": {},
   "outputs": [],
   "source": [
    "matplotlib.rcParams['lines.markersize'] = 10\n",
    "\n",
    "f = plt.figure()\n",
    "ax1 = f.add_subplot(1,2,1)\n",
    "ax2 = f.add_subplot(1,2,2)\n",
    "ax1.set_title(\"Explained variance ratio\")\n",
    "ax2.set_title(\"Cumulative explained variance ratio\")\n",
    "for i in range(18):\n",
    "    ax1.plot([i,i],[0,1],\":\",c=\"grey\")\n",
    "ax1.scatter([str(i) for i in range(18)],pca.explained_variance_ratio_,lw=5)\n",
    "ax1.set_ylim(0,pca.explained_variance_ratio_[0]*1.1)\n",
    "\n",
    "for i in range(18):\n",
    "    ax2.plot([i,i],[0,1.1],\":\",c=\"grey\")\n",
    "ax2.scatter([str(i) for i in range(18)],np.cumsum(pca.explained_variance_ratio_),lw=5)\n",
    "ax2.set_ylim(0,1.1)\n",
    "plt.show()"
   ]
  },
  {
   "cell_type": "markdown",
   "id": "3d399b36",
   "metadata": {},
   "source": [
    "# Viewing specific protein"
   ]
  },
  {
   "cell_type": "markdown",
   "id": "9203d37c",
   "metadata": {},
   "source": [
    "# Looking at proteins with highest loadings in the PCs"
   ]
  },
  {
   "cell_type": "code",
   "execution_count": null,
   "id": "56d02c45",
   "metadata": {},
   "outputs": [],
   "source": [
    "def show_prot_one_condition(ax,i,df,c):\n",
    "    tmp = df.loc[i,]\n",
    "    diff = [-0.1,0,0.1]\n",
    "    for time in range(3):\n",
    "        x = [time+diff[batch] for batch in range(3)]\n",
    "        y = [tmp[3*time + batch] for batch in range(3)]\n",
    "        ax.scatter(x,y,c = c)\n",
    "\n",
    "def show_prot(i,X_CIBN=X_CIBN,X_OS=X_OS):\n",
    "    matplotlib.rcParams[\"figure.figsize\"] = (10,5)\n",
    "    f = plt.figure()\n",
    "    f.suptitle(df[\"Gene_Name\"][i])\n",
    "    ax1 = plt.subplot(121)\n",
    "    ax2 = plt.subplot(122,sharey=ax1)\n",
    "    ax1.set_title(N1)\n",
    "    ax2.set_title(N2)\n",
    "    show_prot_one_condition(ax1,i,X_CIBN.T,c_CIBN_REP[:3])\n",
    "    show_prot_one_condition(ax2,i,X_OS.T,c_OS_REP[:3])\n",
    "    ax1.set_xticks([0,1,2])\n",
    "    ax1.set_xlabel(\"Time\")\n",
    "    ax1.set_ylabel(\"Intensity\")\n",
    "    ax2.set_xticks([0,1,2])\n",
    "    ax2.set_xlabel(\"Time\")\n",
    "    ax2.set_ylabel(\"Intensity\")\n",
    "    \n",
    "def show_prot_name(name,X_CIBN=X_CIBN,X_OS=X_OS):\n",
    "    matplotlib.rcParams[\"figure.figsize\"] = (10,5)\n",
    "    f = plt.figure()\n",
    "    i = 0\n",
    "    for j in range(len(df[\"Gene_Name\"])):\n",
    "        if df[\"Gene_Name\"][j] == name:\n",
    "            i = j\n",
    "    f.suptitle(df[\"Gene_Name\"][i])\n",
    "    ax1 = plt.subplot(121)\n",
    "    ax2 = plt.subplot(122,sharey=ax1)\n",
    "    ax1.set_title(N1)\n",
    "    ax2.set_title(N2)\n",
    "    show_prot_one_condition(ax1,i,X_CIBN.T,c_CIBN_REP[:3])\n",
    "    show_prot_one_condition(ax2,i,X_OS.T,c_OS_REP[:3])\n",
    "    ax1.set_xticks([0,1,2])\n",
    "    ax1.set_xlabel(\"Time\")\n",
    "    ax1.set_ylabel(\"Intensity\")\n",
    "    ax2.set_xticks([0,1,2])\n",
    "    ax2.set_xlabel(\"Time\")\n",
    "    ax2.set_ylabel(\"Intensity\")\n",
    "\n",
    "\n",
    "def show_prot_1(i,X=X_CIBN,c=c_CIBN_REP[:3],gene_names=df[\"Gene_Name\"]):\n",
    "    matplotlib.rcParams[\"figure.figsize\"] = (5,5)\n",
    "    f = plt.figure()\n",
    "    f.suptitle(gene_names[i])\n",
    "    ax1 = plt.subplot(111)\n",
    "    show_prot_one_condition(ax1,i,X.T,c)\n",
    "    ax1.set_xticks([0,1,2])\n",
    "    ax1.set_xlabel(\"Time\")\n",
    "    ax1.set_ylabel(\"Intensity\")"
   ]
  },
  {
   "cell_type": "code",
   "execution_count": null,
   "id": "9fc2004d",
   "metadata": {},
   "outputs": [],
   "source": [
    "loadings_w_index = list(zip(df.index,np.sqrt(pca.components_[0]**2+pca.components_[1]**2)))\n",
    "loadings_w_index_sorted = sorted(loadings_w_index, key = lambda x : x[1],reverse=True)"
   ]
  },
  {
   "cell_type": "code",
   "execution_count": null,
   "id": "023ef157",
   "metadata": {},
   "outputs": [],
   "source": [
    "loadings_w_index_sorted[0]"
   ]
  },
  {
   "cell_type": "code",
   "execution_count": null,
   "id": "0601f1b3",
   "metadata": {},
   "outputs": [],
   "source": [
    "matplotlib.rcParams[\"figure.figsize\"] = (6,6)\n",
    "f = plt.figure()\n",
    "plt.title(\"Loadings of the different proteins \\n in the two first components\")\n",
    "plt.scatter(range(len(loadings_w_index_sorted)),[x[1] for x in loadings_w_index_sorted])\n",
    "plt.show()"
   ]
  },
  {
   "cell_type": "code",
   "execution_count": null,
   "id": "6ca74824-c78d-4d02-a17a-4103076cc5d0",
   "metadata": {},
   "outputs": [],
   "source": [
    "show_prot_name(\"CLTA\")"
   ]
  },
  {
   "cell_type": "code",
   "execution_count": null,
   "id": "db828aee",
   "metadata": {},
   "outputs": [],
   "source": [
    "for el,val in loadings_w_index_sorted[:5]:\n",
    "    show_prot(el)"
   ]
  },
  {
   "cell_type": "code",
   "execution_count": null,
   "id": "2998eb21",
   "metadata": {},
   "outputs": [],
   "source": [
    "df[df[\"Gene_Name\"] == \"CLTA\"].index[0]"
   ]
  },
  {
   "cell_type": "code",
   "execution_count": null,
   "id": "9952ac6a",
   "metadata": {},
   "outputs": [],
   "source": [
    "show_prot(df[df[\"Gene_Name\"] == \"CLTA\"].index[0])"
   ]
  },
  {
   "cell_type": "code",
   "execution_count": null,
   "id": "6e04f043",
   "metadata": {},
   "outputs": [],
   "source": []
  }
 ],
 "metadata": {
  "kernelspec": {
   "display_name": "Python 3 (ipykernel)",
   "language": "python",
   "name": "python3"
  },
  "language_info": {
   "codemirror_mode": {
    "name": "ipython",
    "version": 3
   },
   "file_extension": ".py",
   "mimetype": "text/x-python",
   "name": "python",
   "nbconvert_exporter": "python",
   "pygments_lexer": "ipython3",
   "version": "3.10.6"
  }
 },
 "nbformat": 4,
 "nbformat_minor": 5
}
